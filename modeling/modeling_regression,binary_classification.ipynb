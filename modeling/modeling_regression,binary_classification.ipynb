{
 "cells": [
  {
   "cell_type": "code",
   "execution_count": 1,
   "metadata": {
    "colab": {
     "base_uri": "https://localhost:8080/"
    },
    "id": "BPCcRMyiFKNu",
    "outputId": "7d405909-231c-4f85-8622-bc228756fea0"
   },
   "outputs": [
    {
     "name": "stdout",
     "output_type": "stream",
     "text": [
      "Drive already mounted at /content/gdrive/; to attempt to forcibly remount, call drive.mount(\"/content/gdrive/\", force_remount=True).\n"
     ]
    }
   ],
   "source": [
    "from google.colab import drive \n",
    "drive.mount('/content/gdrive/')"
   ]
  },
  {
   "cell_type": "code",
   "execution_count": 2,
   "metadata": {
    "id": "9G9VNyWtETeK"
   },
   "outputs": [],
   "source": [
    "import pandas as pd \n",
    "import numpy as np"
   ]
  },
  {
   "cell_type": "code",
   "execution_count": 45,
   "metadata": {
    "colab": {
     "base_uri": "https://localhost:8080/"
    },
    "id": "xu55daM-akrB",
    "outputId": "f99728ca-c722-4f9c-ffaa-c74c0b2a4450"
   },
   "outputs": [
    {
     "name": "stdout",
     "output_type": "stream",
     "text": [
      "Reading package lists... Done\n",
      "Building dependency tree       \n",
      "Reading state information... Done\n",
      "The following NEW packages will be installed:\n",
      "  fonts-nanum\n",
      "0 upgraded, 1 newly installed, 0 to remove and 14 not upgraded.\n",
      "Need to get 9,604 kB of archives.\n",
      "After this operation, 29.5 MB of additional disk space will be used.\n",
      "Get:1 http://archive.ubuntu.com/ubuntu bionic/universe amd64 fonts-nanum all 20170925-1 [9,604 kB]\n",
      "Fetched 9,604 kB in 4s (2,706 kB/s)\n",
      "debconf: unable to initialize frontend: Dialog\n",
      "debconf: (No usable dialog-like program is installed, so the dialog based frontend cannot be used. at /usr/share/perl5/Debconf/FrontEnd/Dialog.pm line 76, <> line 1.)\n",
      "debconf: falling back to frontend: Readline\n",
      "debconf: unable to initialize frontend: Readline\n",
      "debconf: (This frontend requires a controlling tty.)\n",
      "debconf: falling back to frontend: Teletype\n",
      "dpkg-preconfigure: unable to re-open stdin: \n",
      "Selecting previously unselected package fonts-nanum.\n",
      "(Reading database ... 144865 files and directories currently installed.)\n",
      "Preparing to unpack .../fonts-nanum_20170925-1_all.deb ...\n",
      "Unpacking fonts-nanum (20170925-1) ...\n",
      "Setting up fonts-nanum (20170925-1) ...\n",
      "Processing triggers for fontconfig (2.12.6-0ubuntu2) ...\n",
      "/usr/share/fonts: caching, new cache contents: 0 fonts, 1 dirs\n",
      "/usr/share/fonts/truetype: caching, new cache contents: 0 fonts, 3 dirs\n",
      "/usr/share/fonts/truetype/humor-sans: caching, new cache contents: 1 fonts, 0 dirs\n",
      "/usr/share/fonts/truetype/liberation: caching, new cache contents: 16 fonts, 0 dirs\n",
      "/usr/share/fonts/truetype/nanum: caching, new cache contents: 10 fonts, 0 dirs\n",
      "/usr/local/share/fonts: caching, new cache contents: 0 fonts, 0 dirs\n",
      "/root/.local/share/fonts: skipping, no such directory\n",
      "/root/.fonts: skipping, no such directory\n",
      "/var/cache/fontconfig: cleaning cache directory\n",
      "/root/.cache/fontconfig: not cleaning non-existent cache directory\n",
      "/root/.fontconfig: not cleaning non-existent cache directory\n",
      "fc-cache: succeeded\n"
     ]
    }
   ],
   "source": [
    "!sudo apt-get install -y fonts-nanum\n",
    "!sudo fc-cache -fv\n",
    "!rm ~/.cache/matplotlib -rf"
   ]
  },
  {
   "cell_type": "code",
   "execution_count": 3,
   "metadata": {
    "id": "J_uWsEoQbvQd"
   },
   "outputs": [],
   "source": [
    "import matplotlib as mpl\n",
    "import matplotlib.pyplot as plt\n",
    "import seaborn as sns\n",
    "import warnings\n",
    "warnings.filterwarnings(action = 'ignore')"
   ]
  },
  {
   "cell_type": "code",
   "execution_count": 4,
   "metadata": {
    "colab": {
     "base_uri": "https://localhost:8080/",
     "height": 320
    },
    "id": "RKpZbrZOapHn",
    "outputId": "b128053e-c8cd-46d8-9c97-752e685b6064"
   },
   "outputs": [
    {
     "data": {
      "image/png": "[encoded data removed]",
      "text/plain": [
       "<Figure size 360x360 with 1 Axes>"
      ]
     },
     "metadata": {
      "needs_background": "light",
      "tags": []
     },
     "output_type": "display_data"
    }
   ],
   "source": [
    "plt.rc('font', family='NanumBarunGothic') \n",
    "\n",
    "plt.figure(figsize=(5,5))\n",
    "plt.plot([0,1], [0,1], label='한글테스트용')\n",
    "plt.legend()\n",
    "plt.show()"
   ]
  },
  {
   "cell_type": "code",
   "execution_count": 5,
   "metadata": {
    "colab": {
     "base_uri": "https://localhost:8080/",
     "height": 447
    },
    "id": "YZjq6IWiFGX9",
    "outputId": "c2784ea3-b781-4ee7-ebec-bbdf325795c1"
   },
   "outputs": [
    {
     "data": {
      "text/html": [
       "<div>\n",
       "<style scoped>\n",
       "    .dataframe tbody tr th:only-of-type {\n",
       "        vertical-align: middle;\n",
       "    }\n",
       "\n",
       "    .dataframe tbody tr th {\n",
       "        vertical-align: top;\n",
       "    }\n",
       "\n",
       "    .dataframe thead th {\n",
       "        text-align: right;\n",
       "    }\n",
       "</style>\n",
       "<table border=\"1\" class=\"dataframe\">\n",
       "  <thead>\n",
       "    <tr style=\"text-align: right;\">\n",
       "      <th></th>\n",
       "      <th>Unnamed: 0</th>\n",
       "      <th>영화명</th>\n",
       "      <th>개봉일</th>\n",
       "      <th>누적관객수</th>\n",
       "      <th>평점</th>\n",
       "      <th>뉴스</th>\n",
       "      <th>경쟁 영화수</th>\n",
       "      <th>상영시간</th>\n",
       "      <th>국적</th>\n",
       "      <th>배급사</th>\n",
       "      <th>등급</th>\n",
       "      <th>개봉월</th>\n",
       "      <th>요일</th>\n",
       "      <th>주말</th>\n",
       "      <th>애니메이션</th>\n",
       "      <th>액션</th>\n",
       "      <th>드라마</th>\n",
       "      <th>코미디</th>\n",
       "      <th>범죄</th>\n",
       "      <th>멜로/로맨스</th>\n",
       "      <th>스릴러</th>\n",
       "      <th>공포</th>\n",
       "      <th>판타지</th>\n",
       "      <th>미스터리</th>\n",
       "      <th>모험</th>\n",
       "      <th>SF</th>\n",
       "      <th>가족</th>\n",
       "      <th>뮤지컬</th>\n",
       "      <th>공연</th>\n",
       "      <th>전쟁</th>\n",
       "      <th>다큐멘터리</th>\n",
       "      <th>사극</th>\n",
       "      <th>느와르</th>\n",
       "      <th>스크린수</th>\n",
       "      <th>겨울</th>\n",
       "      <th>봄</th>\n",
       "      <th>여름</th>\n",
       "      <th>가을</th>\n",
       "    </tr>\n",
       "  </thead>\n",
       "  <tbody>\n",
       "    <tr>\n",
       "      <th>0</th>\n",
       "      <td>0</td>\n",
       "      <td>극한직업</td>\n",
       "      <td>20190123</td>\n",
       "      <td>16266338</td>\n",
       "      <td>9.20</td>\n",
       "      <td>358109.0</td>\n",
       "      <td>511</td>\n",
       "      <td>111</td>\n",
       "      <td>1</td>\n",
       "      <td>1</td>\n",
       "      <td>2</td>\n",
       "      <td>1</td>\n",
       "      <td>2</td>\n",
       "      <td>0</td>\n",
       "      <td>0</td>\n",
       "      <td>0</td>\n",
       "      <td>0</td>\n",
       "      <td>1</td>\n",
       "      <td>0</td>\n",
       "      <td>0</td>\n",
       "      <td>0</td>\n",
       "      <td>0</td>\n",
       "      <td>0</td>\n",
       "      <td>0</td>\n",
       "      <td>0</td>\n",
       "      <td>0</td>\n",
       "      <td>0</td>\n",
       "      <td>0</td>\n",
       "      <td>0</td>\n",
       "      <td>0</td>\n",
       "      <td>0</td>\n",
       "      <td>0</td>\n",
       "      <td>0</td>\n",
       "      <td>1978.0</td>\n",
       "      <td>1</td>\n",
       "      <td>0</td>\n",
       "      <td>0</td>\n",
       "      <td>0</td>\n",
       "    </tr>\n",
       "    <tr>\n",
       "      <th>1</th>\n",
       "      <td>1</td>\n",
       "      <td>어벤져스: 엔드게임</td>\n",
       "      <td>20190424</td>\n",
       "      <td>13977602</td>\n",
       "      <td>9.50</td>\n",
       "      <td>521258.0</td>\n",
       "      <td>632</td>\n",
       "      <td>181</td>\n",
       "      <td>0</td>\n",
       "      <td>1</td>\n",
       "      <td>1</td>\n",
       "      <td>4</td>\n",
       "      <td>2</td>\n",
       "      <td>0</td>\n",
       "      <td>0</td>\n",
       "      <td>1</td>\n",
       "      <td>0</td>\n",
       "      <td>0</td>\n",
       "      <td>0</td>\n",
       "      <td>0</td>\n",
       "      <td>0</td>\n",
       "      <td>0</td>\n",
       "      <td>0</td>\n",
       "      <td>0</td>\n",
       "      <td>0</td>\n",
       "      <td>0</td>\n",
       "      <td>0</td>\n",
       "      <td>0</td>\n",
       "      <td>0</td>\n",
       "      <td>0</td>\n",
       "      <td>0</td>\n",
       "      <td>0</td>\n",
       "      <td>0</td>\n",
       "      <td>2835.0</td>\n",
       "      <td>0</td>\n",
       "      <td>1</td>\n",
       "      <td>0</td>\n",
       "      <td>0</td>\n",
       "    </tr>\n",
       "    <tr>\n",
       "      <th>2</th>\n",
       "      <td>2</td>\n",
       "      <td>겨울왕국 2</td>\n",
       "      <td>20191121</td>\n",
       "      <td>13747792</td>\n",
       "      <td>8.95</td>\n",
       "      <td>304370.0</td>\n",
       "      <td>951</td>\n",
       "      <td>103</td>\n",
       "      <td>0</td>\n",
       "      <td>1</td>\n",
       "      <td>0</td>\n",
       "      <td>11</td>\n",
       "      <td>3</td>\n",
       "      <td>0</td>\n",
       "      <td>1</td>\n",
       "      <td>0</td>\n",
       "      <td>0</td>\n",
       "      <td>0</td>\n",
       "      <td>0</td>\n",
       "      <td>0</td>\n",
       "      <td>0</td>\n",
       "      <td>0</td>\n",
       "      <td>0</td>\n",
       "      <td>0</td>\n",
       "      <td>0</td>\n",
       "      <td>0</td>\n",
       "      <td>0</td>\n",
       "      <td>0</td>\n",
       "      <td>0</td>\n",
       "      <td>0</td>\n",
       "      <td>0</td>\n",
       "      <td>0</td>\n",
       "      <td>0</td>\n",
       "      <td>2648.0</td>\n",
       "      <td>0</td>\n",
       "      <td>0</td>\n",
       "      <td>0</td>\n",
       "      <td>1</td>\n",
       "    </tr>\n",
       "    <tr>\n",
       "      <th>3</th>\n",
       "      <td>3</td>\n",
       "      <td>알라딘</td>\n",
       "      <td>20190523</td>\n",
       "      <td>12555894</td>\n",
       "      <td>9.42</td>\n",
       "      <td>156573.0</td>\n",
       "      <td>698</td>\n",
       "      <td>128</td>\n",
       "      <td>0</td>\n",
       "      <td>1</td>\n",
       "      <td>0</td>\n",
       "      <td>5</td>\n",
       "      <td>3</td>\n",
       "      <td>0</td>\n",
       "      <td>0</td>\n",
       "      <td>0</td>\n",
       "      <td>0</td>\n",
       "      <td>0</td>\n",
       "      <td>0</td>\n",
       "      <td>0</td>\n",
       "      <td>0</td>\n",
       "      <td>0</td>\n",
       "      <td>0</td>\n",
       "      <td>0</td>\n",
       "      <td>1</td>\n",
       "      <td>0</td>\n",
       "      <td>0</td>\n",
       "      <td>0</td>\n",
       "      <td>0</td>\n",
       "      <td>0</td>\n",
       "      <td>0</td>\n",
       "      <td>0</td>\n",
       "      <td>0</td>\n",
       "      <td>1311.0</td>\n",
       "      <td>0</td>\n",
       "      <td>1</td>\n",
       "      <td>0</td>\n",
       "      <td>0</td>\n",
       "    </tr>\n",
       "    <tr>\n",
       "      <th>4</th>\n",
       "      <td>4</td>\n",
       "      <td>신과함께-인과 연</td>\n",
       "      <td>20180801</td>\n",
       "      <td>12276359</td>\n",
       "      <td>8.63</td>\n",
       "      <td>393626.0</td>\n",
       "      <td>763</td>\n",
       "      <td>141</td>\n",
       "      <td>1</td>\n",
       "      <td>1</td>\n",
       "      <td>1</td>\n",
       "      <td>8</td>\n",
       "      <td>2</td>\n",
       "      <td>0</td>\n",
       "      <td>0</td>\n",
       "      <td>0</td>\n",
       "      <td>0</td>\n",
       "      <td>0</td>\n",
       "      <td>0</td>\n",
       "      <td>0</td>\n",
       "      <td>0</td>\n",
       "      <td>0</td>\n",
       "      <td>1</td>\n",
       "      <td>0</td>\n",
       "      <td>0</td>\n",
       "      <td>0</td>\n",
       "      <td>0</td>\n",
       "      <td>0</td>\n",
       "      <td>0</td>\n",
       "      <td>0</td>\n",
       "      <td>0</td>\n",
       "      <td>0</td>\n",
       "      <td>0</td>\n",
       "      <td>2235.0</td>\n",
       "      <td>0</td>\n",
       "      <td>0</td>\n",
       "      <td>1</td>\n",
       "      <td>0</td>\n",
       "    </tr>\n",
       "  </tbody>\n",
       "</table>\n",
       "</div>"
      ],
      "text/plain": [
       "   Unnamed: 0         영화명       개봉일     누적관객수    평점  ...    스크린수  겨울  봄  여름  가을\n",
       "0           0        극한직업  20190123  16266338  9.20  ...  1978.0   1  0   0   0\n",
       "1           1  어벤져스: 엔드게임  20190424  13977602  9.50  ...  2835.0   0  1   0   0\n",
       "2           2      겨울왕국 2  20191121  13747792  8.95  ...  2648.0   0  0   0   1\n",
       "3           3         알라딘  20190523  12555894  9.42  ...  1311.0   0  1   0   0\n",
       "4           4   신과함께-인과 연  20180801  12276359  8.63  ...  2235.0   0  0   1   0\n",
       "\n",
       "[5 rows x 38 columns]"
      ]
     },
     "execution_count": 5,
     "metadata": {
      "tags": []
     },
     "output_type": "execute_result"
    }
   ],
   "source": [
    "data = pd.read_excel('/content/gdrive/My Drive/real_final.xlsx')\n",
    "data.head()"
   ]
  },
  {
   "cell_type": "code",
   "execution_count": 6,
   "metadata": {
    "colab": {
     "base_uri": "https://localhost:8080/"
    },
    "id": "XS_AYFofFg-s",
    "outputId": "b5cff5d1-7b52-497a-f2e2-0dd5ef47902a"
   },
   "outputs": [
    {
     "name": "stdout",
     "output_type": "stream",
     "text": [
      "<class 'pandas.core.frame.DataFrame'>\n",
      "RangeIndex: 630 entries, 0 to 629\n",
      "Data columns (total 38 columns):\n",
      " #   Column      Non-Null Count  Dtype  \n",
      "---  ------      --------------  -----  \n",
      " 0   Unnamed: 0  630 non-null    int64  \n",
      " 1   영화명         630 non-null    object \n",
      " 2   개봉일         630 non-null    int64  \n",
      " 3   누적관객수       630 non-null    int64  \n",
      " 4   평점          630 non-null    float64\n",
      " 5   뉴스          630 non-null    float64\n",
      " 6   경쟁 영화수      630 non-null    int64  \n",
      " 7   상영시간        630 non-null    int64  \n",
      " 8   국적          630 non-null    int64  \n",
      " 9   배급사         630 non-null    int64  \n",
      " 10  등급          630 non-null    int64  \n",
      " 11  개봉월         630 non-null    int64  \n",
      " 12  요일          630 non-null    int64  \n",
      " 13  주말          630 non-null    int64  \n",
      " 14  애니메이션       630 non-null    int64  \n",
      " 15  액션          630 non-null    int64  \n",
      " 16  드라마         630 non-null    int64  \n",
      " 17  코미디         630 non-null    int64  \n",
      " 18  범죄          630 non-null    int64  \n",
      " 19  멜로/로맨스      630 non-null    int64  \n",
      " 20  스릴러         630 non-null    int64  \n",
      " 21  공포          630 non-null    int64  \n",
      " 22  판타지         630 non-null    int64  \n",
      " 23  미스터리        630 non-null    int64  \n",
      " 24  모험          630 non-null    int64  \n",
      " 25  SF          630 non-null    int64  \n",
      " 26  가족          630 non-null    int64  \n",
      " 27  뮤지컬         630 non-null    int64  \n",
      " 28  공연          630 non-null    int64  \n",
      " 29  전쟁          630 non-null    int64  \n",
      " 30  다큐멘터리       630 non-null    int64  \n",
      " 31  사극          630 non-null    int64  \n",
      " 32  느와르         630 non-null    int64  \n",
      " 33  스크린수        630 non-null    float64\n",
      " 34  겨울          630 non-null    int64  \n",
      " 35  봄           630 non-null    int64  \n",
      " 36  여름          630 non-null    int64  \n",
      " 37  가을          630 non-null    int64  \n",
      "dtypes: float64(3), int64(34), object(1)\n",
      "memory usage: 187.2+ KB\n"
     ]
    }
   ],
   "source": [
    "data.info()"
   ]
  },
  {
   "cell_type": "code",
   "execution_count": null,
   "metadata": {
    "id": "j-Hc-BJFIbP7"
   },
   "outputs": [],
   "source": [
    "## 범주형 데이터 데이터 타입 변경\n",
    "\n",
    "data['국적']=data['국적'].astype('category')\n",
    "data['배급사']=data['배급사'].astype('category')\n",
    "data['등급']=data['등급'].astype('category')\n",
    "data['개봉월']=data['개봉월'].astype('category')\n",
    "data['요일']=data['요일'].astype('category')\n",
    "data['주말']=data['주말'].astype('category')\n",
    "data['애니메이션']=data['애니메이션'].astype('category')\n",
    "data['액션']=data['액션'].astype('category')\n",
    "data['드라마']=data['드라마'].astype('category')\n",
    "data['코미디']=data['코미디'].astype('category')\n",
    "data['범죄']=data['범죄'].astype('category')\n",
    "data['멜로/로맨스']=data['멜로/로맨스'].astype('category')\n",
    "data['스릴러']=data['스릴러'].astype('category')\n",
    "data['공포']=data['공포'].astype('category')\n",
    "data['판타지']=data['판타지'].astype('category')\n",
    "data['미스터리']=data['미스터리'].astype('category')\n",
    "data['모험']=data['모험'].astype('category')\n",
    "data['SF']=data['SF'].astype('category')\n",
    "data['가족']=data['가족'].astype('category')\n",
    "data['뮤지컬']=data['뮤지컬'].astype('category')\n",
    "data['공연']=data['공연'].astype('category')  \n",
    "data['전쟁']=data['전쟁'].astype('category')  \n",
    "data['다큐멘터리']=data['다큐멘터리'].astype('category')  \n",
    "data['사극']=data['사극'].astype('category')\n",
    "data['느와르']=data['느와르'].astype('category')  \n",
    "data['겨울']=data['겨울'].astype('category')  \n",
    "data['봄']=data['봄'].astype('category')  \n",
    "data['여름']=data['여름'].astype('category')  \n",
    "data['가을']=data['가을'].astype('category')  "
   ]
  },
  {
   "cell_type": "code",
   "execution_count": 7,
   "metadata": {
    "id": "jmxbTcTcLdta"
   },
   "outputs": [],
   "source": [
    "input_var=['평점', '뉴스', '경쟁 영화수', '상영시간', '국적',\n",
    "       '배급사', '등급', '개봉월', '요일', '주말', '애니메이션', '액션', '드라마', '코미디', '범죄',\n",
    "       '멜로/로맨스', '스릴러', '공포', '판타지', '미스터리', '모험', 'SF', '가족', '뮤지컬', '공연',\n",
    "       '전쟁', '다큐멘터리', '사극', '느와르', '스크린수', '겨울', '봄', '여름', '가을']\n",
    "target=['누적관객수']"
   ]
  },
  {
   "cell_type": "code",
   "execution_count": 8,
   "metadata": {
    "id": "e-G4ADhKLdte"
   },
   "outputs": [],
   "source": [
    "train=data[input_var]\n",
    "test=np.log1p(data[target])"
   ]
  },
  {
   "cell_type": "code",
   "execution_count": 9,
   "metadata": {
    "id": "SzKZZoFJMfNg"
   },
   "outputs": [],
   "source": [
    "#model\n",
    "from sklearn.linear_model import ElasticNet, Lasso\n",
    "from sklearn.ensemble import GradientBoostingRegressor, RandomForestRegressor\n",
    "import xgboost as xgb\n",
    "import lightgbm as lgb\n",
    "\n",
    "#processing\n",
    "from sklearn.kernel_ridge import KernelRidge\n",
    "from sklearn.pipeline import make_pipeline\n",
    "from sklearn.preprocessing import RobustScaler\n",
    "\n",
    "#validate\n",
    "from sklearn.model_selection import KFold, cross_val_score, train_test_split\n",
    "from sklearn.metrics import mean_squared_error\n",
    "from sklearn.metrics import mean_absolute_error\n"
   ]
  },
  {
   "cell_type": "code",
   "execution_count": 10,
   "metadata": {
    "id": "ZVAWGg2dRjns"
   },
   "outputs": [],
   "source": [
    "X_train, X_test, y_train, y_test = train_test_split(train, test, test_size = 0.2, random_state= 10)"
   ]
  },
  {
   "cell_type": "markdown",
   "metadata": {
    "id": "hVFgf7I-JzSU"
   },
   "source": [
    "## RandomForestRegressor"
   ]
  },
  {
   "cell_type": "code",
   "execution_count": 11,
   "metadata": {
    "colab": {
     "base_uri": "https://localhost:8080/"
    },
    "id": "mzEPjhC8-R3C",
    "outputId": "ac3dedd3-e4d4-4fdc-a67f-8118f27ef8d8"
   },
   "outputs": [
    {
     "name": "stdout",
     "output_type": "stream",
     "text": [
      "KFold(n_splits=5, random_state=0, shuffle=True)\n"
     ]
    }
   ],
   "source": [
    "rf = RandomForestRegressor(n_estimators = 1000, random_state = 42)\n",
    "kf=KFold(n_splits=5,random_state=0,shuffle=True)\n",
    "print(kf)"
   ]
  },
  {
   "cell_type": "code",
   "execution_count": 12,
   "metadata": {
    "id": "uQi996Ls-R3D"
   },
   "outputs": [],
   "source": [
    "pradication=[]\n",
    "for train,test in kf.split(X_train):\n",
    "    train_data=X_train.iloc[train]\n",
    "    train_prad=y_train.iloc[train]\n",
    "    rf.fit(train_data,train_prad)\n",
    "    test_prad=rf.predict(X_train.iloc[test])\n",
    "    pradication.append(test_prad)"
   ]
  },
  {
   "cell_type": "code",
   "execution_count": 13,
   "metadata": {
    "id": "koQatC_Y-5LM"
   },
   "outputs": [],
   "source": [
    "pradication=np.concatenate(pradication,axis=0)"
   ]
  },
  {
   "cell_type": "code",
   "execution_count": 14,
   "metadata": {
    "colab": {
     "base_uri": "https://localhost:8080/"
    },
    "id": "zjIeBV2E-mRc",
    "outputId": "12184c85-f194-47ab-f857-388e3fbcb774"
   },
   "outputs": [
    {
     "data": {
      "text/plain": [
       "2.5828698720521035"
      ]
     },
     "execution_count": 14,
     "metadata": {
      "tags": []
     },
     "output_type": "execute_result"
    }
   ],
   "source": [
    "## train 예측\n",
    "rf_mse=mean_squared_error(y_train,pradication)\n",
    "rf_rmse=np.sqrt(rf_mse)\n",
    "rf_rmse"
   ]
  },
  {
   "cell_type": "code",
   "execution_count": 15,
   "metadata": {
    "colab": {
     "base_uri": "https://localhost:8080/"
    },
    "id": "v6_363QO_P-I",
    "outputId": "fe3112cf-7049-4633-ef14-78a1c081df69"
   },
   "outputs": [
    {
     "data": {
      "text/plain": [
       "2.0944038624662653"
      ]
     },
     "execution_count": 15,
     "metadata": {
      "tags": []
     },
     "output_type": "execute_result"
    }
   ],
   "source": [
    "rf_mae=mean_absolute_error(y_train,pradication)\n",
    "rf_mae"
   ]
  },
  {
   "cell_type": "code",
   "execution_count": 16,
   "metadata": {
    "colab": {
     "base_uri": "https://localhost:8080/"
    },
    "id": "KsOqiN5d-kd5",
    "outputId": "6dd28874-b6ae-4189-f13d-cba75a73dcc0"
   },
   "outputs": [
    {
     "data": {
      "text/plain": [
       "0.8508828877134685"
      ]
     },
     "execution_count": 16,
     "metadata": {
      "tags": []
     },
     "output_type": "execute_result"
    }
   ],
   "source": [
    "## test 예측\n",
    "rf.fit(X_train,y_train)\n",
    "prediction = rf.predict(X_test)\n",
    "rf_mse=mean_squared_error(y_test,prediction)\n",
    "rf_rmse=np.sqrt(rf_mse)\n",
    "rf_rmse"
   ]
  },
  {
   "cell_type": "code",
   "execution_count": 17,
   "metadata": {
    "colab": {
     "base_uri": "https://localhost:8080/"
    },
    "id": "sX7NXcI1woAe",
    "outputId": "bbab3444-8b19-4afe-f6a4-17d7c08cc5c7"
   },
   "outputs": [
    {
     "data": {
      "text/plain": [
       "0.6303587773167659"
      ]
     },
     "execution_count": 17,
     "metadata": {
      "tags": []
     },
     "output_type": "execute_result"
    }
   ],
   "source": [
    "rf_mae=mean_absolute_error(y_test, prediction)\n",
    "rf_mae"
   ]
  },
  {
   "cell_type": "markdown",
   "metadata": {
    "id": "RAn1NZpvKGx9"
   },
   "source": [
    "## LightGBM"
   ]
  },
  {
   "cell_type": "code",
   "execution_count": 18,
   "metadata": {
    "id": "g9jxJtLfOC5z"
   },
   "outputs": [],
   "source": [
    "import lightgbm as lgb\n",
    "def get_oof_lgbm(params, train_data, test_data, target_data, num_round, early_round, verbose_round, N_SPLITS=5, random_state=0):\n",
    "\n",
    "    FOLDs=KFold(n_splits=N_SPLITS, shuffle=True,random_state=0)\n",
    "\n",
    "    oof = np.zeros(len(train_data))\n",
    "    predictions = np.zeros(len(test_data))\n",
    "    #predictions=[]\n",
    "\n",
    "    features_lgb = list(train_data.columns)\n",
    "    feature_importance_df = pd.DataFrame()\n",
    "\n",
    "    for fold_, (trn_idx, val_idx) in enumerate(FOLDs.split(train_data)):\n",
    "        trn_data = lgb.Dataset(train_data.iloc[trn_idx], label=target_data.iloc[trn_idx])\n",
    "        val_data = lgb.Dataset(train_data.iloc[val_idx], label=target_data.iloc[val_idx])\n",
    "\n",
    "        print(\"LGB \" + str(fold_) + \"-\" * 50)\n",
    "        num_round = num_round\n",
    "        clf = lgb.train(params, trn_data, num_round, valid_sets = [trn_data, val_data], verbose_eval=verbose_round, \n",
    "                        early_stopping_rounds = early_round)\n",
    "        oof[val_idx] = clf.predict(train_data.iloc[val_idx], num_iteration=clf.best_iteration)\n",
    "\n",
    "        fold_importance_df = pd.DataFrame()\n",
    "        fold_importance_df[\"feature\"] = features_lgb\n",
    "        fold_importance_df[\"importance\"] = clf.feature_importance()\n",
    "        fold_importance_df[\"fold\"] = fold_ + 1\n",
    "        feature_importance_df = pd.concat([feature_importance_df, fold_importance_df], axis=0)\n",
    "        predictions += clf.predict(test_data, num_iteration=clf.best_iteration) / FOLDs.n_splits\n",
    "        #predictions.append(clf.predict(test_data, num_iteration=clf.best_iteration))\n",
    "    return oof, predictions, feature_importance_df,params"
   ]
  },
  {
   "cell_type": "code",
   "execution_count": 19,
   "metadata": {
    "colab": {
     "base_uri": "https://localhost:8080/"
    },
    "id": "rAcXvY1yPxEw",
    "outputId": "26f2ff5c-3b5a-49d0-a7c7-2e7fd433d92e"
   },
   "outputs": [
    {
     "name": "stdout",
     "output_type": "stream",
     "text": [
      "LGB 0--------------------------------------------------\n",
      "Training until validation scores don't improve for 500 rounds.\n",
      "[600]\ttraining's rmse: 0.133009\tvalid_1's rmse: 0.747125\n",
      "Early stopping, best iteration is:\n",
      "[177]\ttraining's rmse: 0.356008\tvalid_1's rmse: 0.719057\n",
      "LGB 1--------------------------------------------------\n",
      "Training until validation scores don't improve for 500 rounds.\n",
      "[600]\ttraining's rmse: 0.123958\tvalid_1's rmse: 0.773156\n",
      "Early stopping, best iteration is:\n",
      "[597]\ttraining's rmse: 0.124657\tvalid_1's rmse: 0.772986\n",
      "LGB 2--------------------------------------------------\n",
      "Training until validation scores don't improve for 500 rounds.\n",
      "[600]\ttraining's rmse: 0.128521\tvalid_1's rmse: 0.796876\n",
      "Early stopping, best iteration is:\n",
      "[176]\ttraining's rmse: 0.354645\tvalid_1's rmse: 0.793415\n",
      "LGB 3--------------------------------------------------\n",
      "Training until validation scores don't improve for 500 rounds.\n",
      "[600]\ttraining's rmse: 0.118874\tvalid_1's rmse: 0.85562\n",
      "Early stopping, best iteration is:\n",
      "[144]\ttraining's rmse: 0.376213\tvalid_1's rmse: 0.842539\n",
      "LGB 4--------------------------------------------------\n",
      "Training until validation scores don't improve for 500 rounds.\n",
      "[600]\ttraining's rmse: 0.13603\tvalid_1's rmse: 0.75093\n",
      "Early stopping, best iteration is:\n",
      "[427]\ttraining's rmse: 0.18943\tvalid_1's rmse: 0.74681\n"
     ]
    }
   ],
   "source": [
    "lgb_params={\"objective\":\"regression\",\n",
    "           \"metric\":\"rmse\",\n",
    "           \"alpha\":0.08,\n",
    "           \"gamma\":0.06,\n",
    "           \"eta\":0.04,\n",
    "           \"silent\":True}\n",
    "a,b,c,d=get_oof_lgbm(lgb_params,X_train,X_test,y_train,num_round=100000, early_round=500, verbose_round=600, N_SPLITS=5, random_state=0)\n",
    "\n",
    "predictions_lgbm=b\n",
    "pre_lgb=a"
   ]
  },
  {
   "cell_type": "code",
   "execution_count": 20,
   "metadata": {
    "colab": {
     "base_uri": "https://localhost:8080/"
    },
    "id": "s12fdgyBZGxn",
    "outputId": "0ce8d693-6678-4c63-e647-16a2ebe2dcfe"
   },
   "outputs": [
    {
     "data": {
      "text/plain": [
       "0.7761568946616482"
      ]
     },
     "execution_count": 20,
     "metadata": {
      "tags": []
     },
     "output_type": "execute_result"
    }
   ],
   "source": [
    "##train 예측\n",
    "lgb_mse=mean_squared_error(y_train, a)\n",
    "lgb_rmse=np.sqrt(lgb_mse)\n",
    "lgb_rmse"
   ]
  },
  {
   "cell_type": "code",
   "execution_count": 21,
   "metadata": {
    "colab": {
     "base_uri": "https://localhost:8080/"
    },
    "id": "d6RZLVv8XGL8",
    "outputId": "f3a2fef3-be1c-4f76-a42e-d870ef3af3d4"
   },
   "outputs": [
    {
     "data": {
      "text/plain": [
       "0.6108657616211968"
      ]
     },
     "execution_count": 21,
     "metadata": {
      "tags": []
     },
     "output_type": "execute_result"
    }
   ],
   "source": [
    "lgb_mae=mean_absolute_error(y_train, a)\n",
    "lgb_mae"
   ]
  },
  {
   "cell_type": "code",
   "execution_count": 22,
   "metadata": {
    "colab": {
     "base_uri": "https://localhost:8080/"
    },
    "id": "S1fHYyq8kxDi",
    "outputId": "c081bc5f-75b5-4e52-a15a-5eb9eb8ee03d"
   },
   "outputs": [
    {
     "data": {
      "text/plain": [
       "0.7817628116679178"
      ]
     },
     "execution_count": 22,
     "metadata": {
      "tags": []
     },
     "output_type": "execute_result"
    }
   ],
   "source": [
    "## test 예측\n",
    "lgb_mse=mean_squared_error(y_test, b)\n",
    "lgb_rmse=np.sqrt(lgb_mse)\n",
    "lgb_rmse"
   ]
  },
  {
   "cell_type": "code",
   "execution_count": 23,
   "metadata": {
    "colab": {
     "base_uri": "https://localhost:8080/"
    },
    "id": "X-fY9H3juxRL",
    "outputId": "82ae8c72-5d44-4a3c-d70e-a57eb527342b"
   },
   "outputs": [
    {
     "data": {
      "text/plain": [
       "0.5720973682189974"
      ]
     },
     "execution_count": 23,
     "metadata": {
      "tags": []
     },
     "output_type": "execute_result"
    }
   ],
   "source": [
    "lgb_mae=mean_absolute_error(y_test, b)\n",
    "lgb_mae"
   ]
  },
  {
   "cell_type": "code",
   "execution_count": 24,
   "metadata": {
    "id": "Jahhx32TTT88"
   },
   "outputs": [],
   "source": [
    "lgb_FI=c.sort_values(by=[\"fold\", \"importance\"], ascending=[False, False]).groupby(\"fold\").head(10)"
   ]
  },
  {
   "cell_type": "code",
   "execution_count": 25,
   "metadata": {
    "colab": {
     "base_uri": "https://localhost:8080/",
     "height": 402
    },
    "id": "oZMHosfZGiyP",
    "outputId": "edb6fc3a-3dfd-4294-bf7f-a5e80ea81bb8"
   },
   "outputs": [
    {
     "data": {
      "text/html": [
       "<div>\n",
       "<style scoped>\n",
       "    .dataframe tbody tr th:only-of-type {\n",
       "        vertical-align: middle;\n",
       "    }\n",
       "\n",
       "    .dataframe tbody tr th {\n",
       "        vertical-align: top;\n",
       "    }\n",
       "\n",
       "    .dataframe thead th {\n",
       "        text-align: right;\n",
       "    }\n",
       "</style>\n",
       "<table border=\"1\" class=\"dataframe\">\n",
       "  <thead>\n",
       "    <tr style=\"text-align: right;\">\n",
       "      <th></th>\n",
       "      <th>feature</th>\n",
       "      <th>importance</th>\n",
       "      <th>fold</th>\n",
       "    </tr>\n",
       "  </thead>\n",
       "  <tbody>\n",
       "    <tr>\n",
       "      <th>8</th>\n",
       "      <td>스크린수</td>\n",
       "      <td>811.8</td>\n",
       "      <td>3.0</td>\n",
       "    </tr>\n",
       "    <tr>\n",
       "      <th>2</th>\n",
       "      <td>경쟁 영화수</td>\n",
       "      <td>805.8</td>\n",
       "      <td>3.0</td>\n",
       "    </tr>\n",
       "    <tr>\n",
       "      <th>4</th>\n",
       "      <td>뉴스</td>\n",
       "      <td>771.8</td>\n",
       "      <td>3.0</td>\n",
       "    </tr>\n",
       "    <tr>\n",
       "      <th>11</th>\n",
       "      <td>평점</td>\n",
       "      <td>726.0</td>\n",
       "      <td>3.0</td>\n",
       "    </tr>\n",
       "    <tr>\n",
       "      <th>7</th>\n",
       "      <td>상영시간</td>\n",
       "      <td>547.6</td>\n",
       "      <td>3.0</td>\n",
       "    </tr>\n",
       "    <tr>\n",
       "      <th>1</th>\n",
       "      <td>개봉월</td>\n",
       "      <td>327.0</td>\n",
       "      <td>3.0</td>\n",
       "    </tr>\n",
       "    <tr>\n",
       "      <th>5</th>\n",
       "      <td>등급</td>\n",
       "      <td>113.4</td>\n",
       "      <td>3.0</td>\n",
       "    </tr>\n",
       "    <tr>\n",
       "      <th>9</th>\n",
       "      <td>애니메이션</td>\n",
       "      <td>91.0</td>\n",
       "      <td>2.0</td>\n",
       "    </tr>\n",
       "    <tr>\n",
       "      <th>10</th>\n",
       "      <td>요일</td>\n",
       "      <td>82.2</td>\n",
       "      <td>3.0</td>\n",
       "    </tr>\n",
       "    <tr>\n",
       "      <th>3</th>\n",
       "      <td>국적</td>\n",
       "      <td>56.6</td>\n",
       "      <td>3.0</td>\n",
       "    </tr>\n",
       "    <tr>\n",
       "      <th>6</th>\n",
       "      <td>배급사</td>\n",
       "      <td>48.0</td>\n",
       "      <td>4.0</td>\n",
       "    </tr>\n",
       "    <tr>\n",
       "      <th>0</th>\n",
       "      <td>가을</td>\n",
       "      <td>23.0</td>\n",
       "      <td>1.0</td>\n",
       "    </tr>\n",
       "  </tbody>\n",
       "</table>\n",
       "</div>"
      ],
      "text/plain": [
       "   feature  importance  fold\n",
       "8     스크린수       811.8   3.0\n",
       "2   경쟁 영화수       805.8   3.0\n",
       "4       뉴스       771.8   3.0\n",
       "11      평점       726.0   3.0\n",
       "7     상영시간       547.6   3.0\n",
       "1      개봉월       327.0   3.0\n",
       "5       등급       113.4   3.0\n",
       "9    애니메이션        91.0   2.0\n",
       "10      요일        82.2   3.0\n",
       "3       국적        56.6   3.0\n",
       "6      배급사        48.0   4.0\n",
       "0       가을        23.0   1.0"
      ]
     },
     "execution_count": 25,
     "metadata": {
      "tags": []
     },
     "output_type": "execute_result"
    }
   ],
   "source": [
    "a=lgb_FI.groupby(\"feature\",as_index=False).mean().sort_values(by=[\"importance\"],ascending=False)\n",
    "a"
   ]
  },
  {
   "cell_type": "code",
   "execution_count": 26,
   "metadata": {
    "colab": {
     "base_uri": "https://localhost:8080/",
     "height": 877
    },
    "id": "dEiI7bIHHwWp",
    "outputId": "e2163b40-2c18-42ed-9f9f-c97af39fef6d"
   },
   "outputs": [
    {
     "data": {
      "image/png": "[encoded data removed]",
      "text/plain": [
       "<Figure size 1440x1080 with 1 Axes>"
      ]
     },
     "metadata": {
      "tags": []
     },
     "output_type": "display_data"
    }
   ],
   "source": [
    "fig = plt.figure(figsize=(20, 15))\n",
    "fig.patch.set_facecolor('xkcd:white')\n",
    "sns.barplot(y='importance',x='feature', data=a)\n",
    "plt.show()"
   ]
  },
  {
   "cell_type": "markdown",
   "metadata": {
    "id": "EZ8j3IR4KRhR"
   },
   "source": [
    "## XGBoost"
   ]
  },
  {
   "cell_type": "code",
   "execution_count": 27,
   "metadata": {
    "id": "5pIlhoCQPtub"
   },
   "outputs": [],
   "source": [
    "import xgboost as xgb\n",
    "def get_oof_xgb(params, train_data, test_data, target_data, num_round, early_round, verbose_round, N_SPLITS=5, random_state=0):\n",
    "\n",
    "    FOLDs=KFold(n_splits=N_SPLITS, shuffle=True,random_state=0)\n",
    "\n",
    "    oof = np.zeros(len(train_data))\n",
    "    predictions = np.zeros(len(test_data))\n",
    "    #predictions=[]\n",
    "\n",
    "    feature_importance_df = pd.DataFrame()\n",
    "\n",
    "    best_iters = []\n",
    "    for fold_, (trn_idx, val_idx) in enumerate(FOLDs.split(train_data)):\n",
    "        trn_data = xgb.DMatrix(train_data.iloc[trn_idx], label=target_data.iloc[trn_idx])\n",
    "        val_data = xgb.DMatrix(train_data.iloc[val_idx], label=target_data.iloc[val_idx])\n",
    "        print(\"xgb \" + str(fold_) + \"-\" * 50)\n",
    "\n",
    "        watchlist = [(trn_data, 'train'), (val_data, 'valid')]\n",
    "        print(\"xgb \" + str(fold_) + \"-\" * 50)\n",
    "        num_round = num_round\n",
    "        xgb_model = xgb.train(params, trn_data, num_round, watchlist, \n",
    "                              early_stopping_rounds=early_round, verbose_eval=verbose_round)\n",
    "        oof[val_idx] = xgb_model.predict(xgb.DMatrix(train_data.iloc[val_idx]), \n",
    "                                             ntree_limit=xgb_model.best_ntree_limit)\n",
    "\n",
    "        predictions += xgb_model.predict(xgb.DMatrix(test_data), \n",
    "                                             ntree_limit=xgb_model.best_ntree_limit) / FOLDs.n_splits\n",
    "        #predictions.append(xgb_model.predict(xgb.DMatrix(test_data),ntree_limit=xgb_model.best_ntree_limit))\n",
    "        \n",
    "        fold_importance_df = pd.DataFrame([xgb_model.get_score()]).T.reset_index()\n",
    "        fold_importance_df.columns = ['feature', 'importance']\n",
    "        fold_importance_df[\"fold\"] = fold_ + 1\n",
    "        feature_importance_df = pd.concat([feature_importance_df, fold_importance_df], axis=0)\n",
    "        best_iters.append(xgb_model.best_ntree_limit)\n",
    "    return oof, predictions, feature_importance_df, np.mean(best_iters)"
   ]
  },
  {
   "cell_type": "code",
   "execution_count": 28,
   "metadata": {
    "colab": {
     "base_uri": "https://localhost:8080/"
    },
    "id": "O2zEEOupQLYc",
    "outputId": "67afe3ac-c400-4309-84d5-6d96d05a6b16"
   },
   "outputs": [
    {
     "name": "stdout",
     "output_type": "stream",
     "text": [
      "xgb 0--------------------------------------------------\n",
      "xgb 0--------------------------------------------------\n",
      "[0]\ttrain-rmse:12.0136\tvalid-rmse:12.0815\n",
      "Multiple eval metrics have been passed: 'valid-rmse' will be used for early stopping.\n",
      "\n",
      "Will train until valid-rmse hasn't improved in 400 rounds.\n",
      "[500]\ttrain-rmse:0.152472\tvalid-rmse:0.675694\n",
      "Stopping. Best iteration:\n",
      "[259]\ttrain-rmse:0.153522\tvalid-rmse:0.675184\n",
      "\n",
      "xgb 1--------------------------------------------------\n",
      "xgb 1--------------------------------------------------\n",
      "[0]\ttrain-rmse:12.0953\tvalid-rmse:11.7377\n",
      "Multiple eval metrics have been passed: 'valid-rmse' will be used for early stopping.\n",
      "\n",
      "Will train until valid-rmse hasn't improved in 400 rounds.\n",
      "[500]\ttrain-rmse:0.159216\tvalid-rmse:0.777236\n",
      "Stopping. Best iteration:\n",
      "[240]\ttrain-rmse:0.159227\tvalid-rmse:0.777081\n",
      "\n",
      "xgb 2--------------------------------------------------\n",
      "xgb 2--------------------------------------------------\n",
      "[0]\ttrain-rmse:11.9924\tvalid-rmse:12.1586\n",
      "Multiple eval metrics have been passed: 'valid-rmse' will be used for early stopping.\n",
      "\n",
      "Will train until valid-rmse hasn't improved in 400 rounds.\n",
      "[500]\ttrain-rmse:0.149333\tvalid-rmse:0.784929\n",
      "Stopping. Best iteration:\n",
      "[176]\ttrain-rmse:0.215948\tvalid-rmse:0.780652\n",
      "\n",
      "xgb 3--------------------------------------------------\n",
      "xgb 3--------------------------------------------------\n",
      "[0]\ttrain-rmse:12.0075\tvalid-rmse:12.1017\n",
      "Multiple eval metrics have been passed: 'valid-rmse' will be used for early stopping.\n",
      "\n",
      "Will train until valid-rmse hasn't improved in 400 rounds.\n",
      "[500]\ttrain-rmse:0.176629\tvalid-rmse:0.878736\n",
      "Stopping. Best iteration:\n",
      "[357]\ttrain-rmse:0.176629\tvalid-rmse:0.878736\n",
      "\n",
      "xgb 4--------------------------------------------------\n",
      "xgb 4--------------------------------------------------\n",
      "[0]\ttrain-rmse:12.0224\tvalid-rmse:12.038\n",
      "Multiple eval metrics have been passed: 'valid-rmse' will be used for early stopping.\n",
      "\n",
      "Will train until valid-rmse hasn't improved in 400 rounds.\n",
      "[500]\ttrain-rmse:0.141516\tvalid-rmse:0.75487\n",
      "Stopping. Best iteration:\n",
      "[271]\ttrain-rmse:0.148307\tvalid-rmse:0.754055\n",
      "\n"
     ]
    }
   ],
   "source": [
    "xgb_params={\"objective\":\"reg:squarederror\",\n",
    "           \"eval_metric\":\"rmse\",\n",
    "           \"alpha\":0.08,\n",
    "           \"gamma\":0.06,\n",
    "           \"eta\":0.04}\n",
    "a,b,c,d=get_oof_xgb(xgb_params, X_train,X_test,y_train, num_round=100000, early_round=400, verbose_round=500, N_SPLITS=5, random_state=0)\n",
    "\n",
    "predictions_xgb=b\n",
    "pre_xgb=a"
   ]
  },
  {
   "cell_type": "code",
   "execution_count": 29,
   "metadata": {
    "colab": {
     "base_uri": "https://localhost:8080/"
    },
    "id": "nZx01mYPXdTk",
    "outputId": "fced9729-94ee-4d03-ecc9-f1c9d5cdd79d"
   },
   "outputs": [
    {
     "data": {
      "text/plain": [
       "0.7759194617225108"
      ]
     },
     "execution_count": 29,
     "metadata": {
      "tags": []
     },
     "output_type": "execute_result"
    }
   ],
   "source": [
    "## train 예측\n",
    "xgb_mse=mean_squared_error(y_train, a)\n",
    "xgb_rmse=np.sqrt(xgb_mse)\n",
    "xgb_rmse"
   ]
  },
  {
   "cell_type": "code",
   "execution_count": 30,
   "metadata": {
    "colab": {
     "base_uri": "https://localhost:8080/"
    },
    "id": "JNMoC7xXXdTl",
    "outputId": "459bd0a1-a771-46b4-e805-1182afbdc111"
   },
   "outputs": [
    {
     "data": {
      "text/plain": [
       "0.6078935262200138"
      ]
     },
     "execution_count": 30,
     "metadata": {
      "tags": []
     },
     "output_type": "execute_result"
    }
   ],
   "source": [
    "xgb_mae=mean_absolute_error(y_train, a)\n",
    "xgb_mae"
   ]
  },
  {
   "cell_type": "code",
   "execution_count": 31,
   "metadata": {
    "colab": {
     "base_uri": "https://localhost:8080/"
    },
    "id": "Vi8TVHZCml89",
    "outputId": "de903c6e-a17b-49f7-c9b3-ddeaa517f587"
   },
   "outputs": [
    {
     "data": {
      "text/plain": [
       "0.8155210205988436"
      ]
     },
     "execution_count": 31,
     "metadata": {
      "tags": []
     },
     "output_type": "execute_result"
    }
   ],
   "source": [
    "## test 예측\n",
    "xgb_mse=mean_squared_error(y_test, b)\n",
    "xgb_rmse=np.sqrt(xgb_mse)\n",
    "xgb_rmse"
   ]
  },
  {
   "cell_type": "code",
   "execution_count": 32,
   "metadata": {
    "colab": {
     "base_uri": "https://localhost:8080/"
    },
    "id": "IVh9cSdzwdTo",
    "outputId": "e7c8b1b4-383c-4ee4-c55d-3e60b0e01d86"
   },
   "outputs": [
    {
     "data": {
      "text/plain": [
       "0.6021896477180999"
      ]
     },
     "execution_count": 32,
     "metadata": {
      "tags": []
     },
     "output_type": "execute_result"
    }
   ],
   "source": [
    "xgb_mae=mean_absolute_error(y_test, b)\n",
    "xgb_mae"
   ]
  },
  {
   "cell_type": "code",
   "execution_count": 33,
   "metadata": {
    "id": "OX43OCNSSdUz"
   },
   "outputs": [],
   "source": [
    "xgb_FI=c.sort_values(by=[\"fold\", \"importance\"], ascending=[False, False]).groupby(\"fold\").head(10)"
   ]
  },
  {
   "cell_type": "code",
   "execution_count": 34,
   "metadata": {
    "colab": {
     "base_uri": "https://localhost:8080/",
     "height": 462
    },
    "id": "_H8rSXEDHW2M",
    "outputId": "79afa690-09ac-4929-ba02-638e4cfedb33"
   },
   "outputs": [
    {
     "data": {
      "text/html": [
       "<div>\n",
       "<style scoped>\n",
       "    .dataframe tbody tr th:only-of-type {\n",
       "        vertical-align: middle;\n",
       "    }\n",
       "\n",
       "    .dataframe tbody tr th {\n",
       "        vertical-align: top;\n",
       "    }\n",
       "\n",
       "    .dataframe thead th {\n",
       "        text-align: right;\n",
       "    }\n",
       "</style>\n",
       "<table border=\"1\" class=\"dataframe\">\n",
       "  <thead>\n",
       "    <tr style=\"text-align: right;\">\n",
       "      <th></th>\n",
       "      <th>feature</th>\n",
       "      <th>importance</th>\n",
       "      <th>fold</th>\n",
       "    </tr>\n",
       "  </thead>\n",
       "  <tbody>\n",
       "    <tr>\n",
       "      <th>1</th>\n",
       "      <td>경쟁 영화수</td>\n",
       "      <td>793.6</td>\n",
       "      <td>3.0</td>\n",
       "    </tr>\n",
       "    <tr>\n",
       "      <th>8</th>\n",
       "      <td>스크린수</td>\n",
       "      <td>743.4</td>\n",
       "      <td>3.0</td>\n",
       "    </tr>\n",
       "    <tr>\n",
       "      <th>13</th>\n",
       "      <td>평점</td>\n",
       "      <td>719.8</td>\n",
       "      <td>3.0</td>\n",
       "    </tr>\n",
       "    <tr>\n",
       "      <th>3</th>\n",
       "      <td>뉴스</td>\n",
       "      <td>714.4</td>\n",
       "      <td>3.0</td>\n",
       "    </tr>\n",
       "    <tr>\n",
       "      <th>7</th>\n",
       "      <td>상영시간</td>\n",
       "      <td>483.6</td>\n",
       "      <td>3.0</td>\n",
       "    </tr>\n",
       "    <tr>\n",
       "      <th>0</th>\n",
       "      <td>개봉월</td>\n",
       "      <td>274.6</td>\n",
       "      <td>3.0</td>\n",
       "    </tr>\n",
       "    <tr>\n",
       "      <th>10</th>\n",
       "      <td>요일</td>\n",
       "      <td>148.8</td>\n",
       "      <td>3.0</td>\n",
       "    </tr>\n",
       "    <tr>\n",
       "      <th>5</th>\n",
       "      <td>등급</td>\n",
       "      <td>120.2</td>\n",
       "      <td>3.0</td>\n",
       "    </tr>\n",
       "    <tr>\n",
       "      <th>4</th>\n",
       "      <td>드라마</td>\n",
       "      <td>80.6</td>\n",
       "      <td>3.0</td>\n",
       "    </tr>\n",
       "    <tr>\n",
       "      <th>11</th>\n",
       "      <td>코미디</td>\n",
       "      <td>69.0</td>\n",
       "      <td>2.0</td>\n",
       "    </tr>\n",
       "    <tr>\n",
       "      <th>6</th>\n",
       "      <td>미스터리</td>\n",
       "      <td>68.0</td>\n",
       "      <td>5.0</td>\n",
       "    </tr>\n",
       "    <tr>\n",
       "      <th>9</th>\n",
       "      <td>액션</td>\n",
       "      <td>66.0</td>\n",
       "      <td>1.0</td>\n",
       "    </tr>\n",
       "    <tr>\n",
       "      <th>2</th>\n",
       "      <td>국적</td>\n",
       "      <td>59.0</td>\n",
       "      <td>4.0</td>\n",
       "    </tr>\n",
       "    <tr>\n",
       "      <th>12</th>\n",
       "      <td>판타지</td>\n",
       "      <td>49.0</td>\n",
       "      <td>3.0</td>\n",
       "    </tr>\n",
       "  </tbody>\n",
       "</table>\n",
       "</div>"
      ],
      "text/plain": [
       "   feature  importance  fold\n",
       "1   경쟁 영화수       793.6   3.0\n",
       "8     스크린수       743.4   3.0\n",
       "13      평점       719.8   3.0\n",
       "3       뉴스       714.4   3.0\n",
       "7     상영시간       483.6   3.0\n",
       "0      개봉월       274.6   3.0\n",
       "10      요일       148.8   3.0\n",
       "5       등급       120.2   3.0\n",
       "4      드라마        80.6   3.0\n",
       "11     코미디        69.0   2.0\n",
       "6     미스터리        68.0   5.0\n",
       "9       액션        66.0   1.0\n",
       "2       국적        59.0   4.0\n",
       "12     판타지        49.0   3.0"
      ]
     },
     "execution_count": 34,
     "metadata": {
      "tags": []
     },
     "output_type": "execute_result"
    }
   ],
   "source": [
    "a_1=xgb_FI.groupby(\"feature\",as_index=False).mean().sort_values(by=[\"importance\"],ascending=False)\n",
    "a_1"
   ]
  },
  {
   "cell_type": "code",
   "execution_count": 35,
   "metadata": {
    "colab": {
     "base_uri": "https://localhost:8080/",
     "height": 877
    },
    "id": "r00nx0YwItdB",
    "outputId": "bc20fcfc-dbe2-421d-c2c5-fc468c45a5f0"
   },
   "outputs": [
    {
     "data": {
      "image/png": "[encoded data removed]",
      "text/plain": [
       "<Figure size 1440x1080 with 1 Axes>"
      ]
     },
     "metadata": {
      "tags": []
     },
     "output_type": "display_data"
    }
   ],
   "source": [
    "fig = plt.figure(figsize=(20, 15))\n",
    "fig.patch.set_facecolor('xkcd:white')\n",
    "sns.barplot(y='importance',x='feature', data=a_1)\n",
    "plt.show()"
   ]
  },
  {
   "cell_type": "markdown",
   "metadata": {
    "id": "PdpCKAL6Keb-"
   },
   "source": [
    "## Mean_Ensemble"
   ]
  },
  {
   "cell_type": "code",
   "execution_count": 36,
   "metadata": {
    "colab": {
     "base_uri": "https://localhost:8080/"
    },
    "id": "WRo8yZEu_rIa",
    "outputId": "a8b8b1ba-035c-4abf-e6b9-c14a523f0dbf"
   },
   "outputs": [
    {
     "data": {
      "text/plain": [
       "0.5942206460382145"
      ]
     },
     "execution_count": 36,
     "metadata": {
      "tags": []
     },
     "output_type": "execute_result"
    }
   ],
   "source": [
    "## train 예측\n",
    "p=(pre_xgb+pre_lgb)/2\n",
    "mae=mean_absolute_error(y_train, p)\n",
    "mae"
   ]
  },
  {
   "cell_type": "code",
   "execution_count": 37,
   "metadata": {
    "colab": {
     "base_uri": "https://localhost:8080/"
    },
    "id": "iwQZnOmn_q5S",
    "outputId": "ca7e6af6-aa1c-4386-cc4d-cf5e728813bd"
   },
   "outputs": [
    {
     "data": {
      "text/plain": [
       "0.7590318705272081"
      ]
     },
     "execution_count": 37,
     "metadata": {
      "tags": []
     },
     "output_type": "execute_result"
    }
   ],
   "source": [
    "mse=mean_squared_error(y_train, p)\n",
    "rmse=np.sqrt(mse)\n",
    "rmse"
   ]
  },
  {
   "cell_type": "code",
   "execution_count": 38,
   "metadata": {
    "colab": {
     "base_uri": "https://localhost:8080/"
    },
    "id": "xZPEvVRnnSl2",
    "outputId": "d24ae4ae-c3f7-40e6-d542-20124bc28ee0"
   },
   "outputs": [
    {
     "data": {
      "text/plain": [
       "0.5811216549329"
      ]
     },
     "execution_count": 38,
     "metadata": {
      "tags": []
     },
     "output_type": "execute_result"
    }
   ],
   "source": [
    "## test 예측\n",
    "p=(predictions_xgb+predictions_lgbm)/2\n",
    "mae=mean_absolute_error(y_test, p)\n",
    "mae"
   ]
  },
  {
   "cell_type": "code",
   "execution_count": 39,
   "metadata": {
    "colab": {
     "base_uri": "https://localhost:8080/"
    },
    "id": "rw-2YO0e5FH8",
    "outputId": "0a2b05df-c9ea-4e79-ffa0-237fc4b0522c"
   },
   "outputs": [
    {
     "data": {
      "text/plain": [
       "0.7897566091321877"
      ]
     },
     "execution_count": 39,
     "metadata": {
      "tags": []
     },
     "output_type": "execute_result"
    }
   ],
   "source": [
    "mse=mean_squared_error(y_test, p)\n",
    "rmse=np.sqrt(mse)\n",
    "rmse"
   ]
  },
  {
   "cell_type": "markdown",
   "metadata": {
    "id": "UdLPxNanyEdW"
   },
   "source": [
    "## Classification, 300만 기준"
   ]
  },
  {
   "cell_type": "code",
   "execution_count": 40,
   "metadata": {
    "id": "QN_lz-Xcw24c"
   },
   "outputs": [],
   "source": [
    "def profit(x):\n",
    "  if x>3000000:\n",
    "    return 0    #흥행 성공\n",
    "  else: \n",
    "    return 1    #흥행 실패\n",
    "\n",
    "data['profit'] = data['누적관객수'].apply(profit)\n",
    "#data['profit'] = data['profit'].astype('category')"
   ]
  },
  {
   "cell_type": "code",
   "execution_count": 41,
   "metadata": {
    "colab": {
     "base_uri": "https://localhost:8080/"
    },
    "id": "Z9Ztv5JAFK1f",
    "outputId": "81f887a7-480b-44af-b534-d579f2d77b0d"
   },
   "outputs": [
    {
     "data": {
      "text/plain": [
       "1    519\n",
       "0    111\n",
       "Name: profit, dtype: int64"
      ]
     },
     "execution_count": 41,
     "metadata": {
      "tags": []
     },
     "output_type": "execute_result"
    }
   ],
   "source": [
    "data['profit'].value_counts()"
   ]
  },
  {
   "cell_type": "code",
   "execution_count": 42,
   "metadata": {
    "colab": {
     "base_uri": "https://localhost:8080/",
     "height": 261
    },
    "id": "9aUhj5PjFK1i",
    "outputId": "09885d20-a94c-4399-e314-aab036328dd2"
   },
   "outputs": [
    {
     "data": {
      "image/png": "[encoded data removed]",
      "text/plain": [
       "<Figure size 432x288 with 1 Axes>"
      ]
     },
     "metadata": {
      "needs_background": "light",
      "tags": []
     },
     "output_type": "display_data"
    }
   ],
   "source": [
    "data['profit'].value_counts().plot(kind='bar')\n",
    "plt.show()"
   ]
  },
  {
   "cell_type": "code",
   "execution_count": 43,
   "metadata": {
    "id": "2WdaByP9FK1i"
   },
   "outputs": [],
   "source": [
    "input_var=['평점', '뉴스', '경쟁 영화수', '상영시간', '국적',\n",
    "       '배급사', '등급', '개봉월', '요일', '주말', '애니메이션', '액션', '드라마', '코미디', '범죄',\n",
    "       '멜로/로맨스', '스릴러', '공포', '판타지', '미스터리', '모험', 'SF', '가족', '뮤지컬', '공연',\n",
    "       '전쟁', '다큐멘터리', '사극', '느와르', '스크린수', '겨울', '봄', '여름', '가을']\n",
    "target=['profit']"
   ]
  },
  {
   "cell_type": "code",
   "execution_count": 44,
   "metadata": {
    "id": "To4QqdMhFK1i"
   },
   "outputs": [],
   "source": [
    "train=data[input_var]\n",
    "test=data[target]\n",
    "\n",
    "X_train, X_test, y_train, y_test = train_test_split(train, test, test_size = 0.2, random_state= 42)"
   ]
  },
  {
   "cell_type": "code",
   "execution_count": 45,
   "metadata": {
    "colab": {
     "base_uri": "https://localhost:8080/"
    },
    "id": "4_aA4YbmFK1i",
    "outputId": "8367b6c2-3416-4e13-ffd0-203ca71f26c7"
   },
   "outputs": [
    {
     "data": {
      "text/plain": [
       "1    416\n",
       "0     88\n",
       "Name: profit, dtype: int64"
      ]
     },
     "execution_count": 45,
     "metadata": {
      "tags": []
     },
     "output_type": "execute_result"
    }
   ],
   "source": [
    "y_train['profit'].value_counts()"
   ]
  },
  {
   "cell_type": "code",
   "execution_count": 46,
   "metadata": {
    "colab": {
     "base_uri": "https://localhost:8080/"
    },
    "id": "CwnJOFZtFK1i",
    "outputId": "4085b1a3-0477-4340-b39c-30bfd1dea5b2"
   },
   "outputs": [
    {
     "name": "stdout",
     "output_type": "stream",
     "text": [
      "SMOTE 적용 전 학습용 피처/레이블 데이터 세트:  (504, 34) (504, 1)\n",
      "SMOTE 적용 후 학습용 피처/레이블 데이터 세트:  (832, 34) (832,)\n",
      "SMOTE 적용 후 레이블 값 분포: \n",
      " 1    416\n",
      "0    416\n",
      "dtype: int64\n"
     ]
    }
   ],
   "source": [
    "from imblearn.over_sampling import SMOTE\n",
    "\n",
    "smote = SMOTE(random_state=0)\n",
    "X_resampled,y_resampled = smote.fit_sample(X_train,y_train)\n",
    "x_test=np.array(X_test)\n",
    "\n",
    "print('SMOTE 적용 전 학습용 피처/레이블 데이터 세트: ', X_train.shape, y_train.shape)\n",
    "print('SMOTE 적용 후 학습용 피처/레이블 데이터 세트: ', X_resampled.shape, y_resampled.shape)\n",
    "print('SMOTE 적용 후 레이블 값 분포: \\n', pd.Series(y_resampled).value_counts())"
   ]
  },
  {
   "cell_type": "code",
   "execution_count": 47,
   "metadata": {
    "id": "kMUk2zG0FK1j"
   },
   "outputs": [],
   "source": [
    "from sklearn.metrics import precision_score, recall_score, f1_score, roc_auc_score, accuracy_score, classification_report\n",
    "\n",
    "#모델링\n",
    "def modeling(model,x_train,x_test,y_train,y_test):\n",
    "    model.fit(x_train,y_train)\n",
    "    pred = model.predict(x_test)\n",
    "    metrics(y_test,pred)\n",
    "    return pred\n",
    "#평가 지표\n",
    "def metrics(y_test,pred):\n",
    "    accuracy = accuracy_score(y_test,pred)\n",
    "    precision = precision_score(y_test,pred)\n",
    "    recall = recall_score(y_test,pred)\n",
    "    f1 = f1_score(y_test,pred)\n",
    "    roc_score = roc_auc_score(y_test,pred,average='macro')\n",
    "    print('정확도 : {0:.2f}, 정밀도 : {1:.2f}, 재현율 : {2:.2f}'.format(accuracy,precision,recall))\n",
    "    print('f1-score : {0:.2f}, auc : {1:.2f}'.format(f1,roc_score,recall))\n",
    "    #X_resampled\n",
    "    #y_resampled"
   ]
  },
  {
   "cell_type": "markdown",
   "metadata": {
    "id": "mrIWBTBRK8Rq"
   },
   "source": [
    "## LogisticRegression"
   ]
  },
  {
   "cell_type": "code",
   "execution_count": 48,
   "metadata": {
    "colab": {
     "base_uri": "https://localhost:8080/"
    },
    "id": "qMsFA6bkbjBR",
    "outputId": "6d4e5fe7-b7bd-4af7-8bb0-4445b32ade3f"
   },
   "outputs": [
    {
     "name": "stdout",
     "output_type": "stream",
     "text": [
      "KFold(n_splits=5, random_state=0, shuffle=True)\n"
     ]
    }
   ],
   "source": [
    "from sklearn.linear_model import LogisticRegression\n",
    "\n",
    "\n",
    "lr = LogisticRegression()\n",
    "kf=KFold(n_splits=5,random_state=0,shuffle=True)\n",
    "print(kf)"
   ]
  },
  {
   "cell_type": "code",
   "execution_count": 49,
   "metadata": {
    "id": "w1_fV7DZhjh0"
   },
   "outputs": [],
   "source": [
    "pradication=[]\n",
    "for train,test in kf.split(X_train):\n",
    "    train_data=X_train.iloc[train]\n",
    "    train_prad=y_train.iloc[train]\n",
    "    lr.fit(train_data,train_prad)\n",
    "    test_prad=lr.predict(X_train.iloc[test])\n",
    "    pradication.append(test_prad)"
   ]
  },
  {
   "cell_type": "code",
   "execution_count": 50,
   "metadata": {
    "id": "AhfP39Hhngf-"
   },
   "outputs": [],
   "source": [
    "pradication=np.concatenate(pradication,axis=0)\n",
    "pradication[pradication>=0.5]=1\n",
    "pradication[pradication<0.5]=0"
   ]
  },
  {
   "cell_type": "code",
   "execution_count": 51,
   "metadata": {
    "colab": {
     "base_uri": "https://localhost:8080/"
    },
    "id": "XXJThmNVhiyq",
    "outputId": "e4ba8013-1c67-4d1e-cba6-70f9c8126dfc"
   },
   "outputs": [
    {
     "name": "stdout",
     "output_type": "stream",
     "text": [
      "정확도 : 0.74, 정밀도 : 0.83, 재현율 : 0.86\n",
      "f1-score : 0.84, auc : 0.50\n"
     ]
    }
   ],
   "source": [
    "## train 예측\n",
    "metrics(y_train,pradication)"
   ]
  },
  {
   "cell_type": "code",
   "execution_count": 52,
   "metadata": {
    "colab": {
     "base_uri": "https://localhost:8080/"
    },
    "id": "AqlxYMDRicO2",
    "outputId": "0c73971e-42f2-4f33-d5e5-b6cf68426134"
   },
   "outputs": [
    {
     "name": "stdout",
     "output_type": "stream",
     "text": [
      "정확도 : 0.88, 정밀도 : 0.92, 재현율 : 0.94\n",
      "f1-score : 0.93, auc : 0.78\n"
     ]
    }
   ],
   "source": [
    "## test 예측\n",
    "lr.fit(X_train,y_train)\n",
    "prediction = lr.predict(X_test)\n",
    "metrics(y_test,prediction)"
   ]
  },
  {
   "cell_type": "code",
   "execution_count": 53,
   "metadata": {
    "id": "52qgq8rgbrei"
   },
   "outputs": [],
   "source": [
    "## Sampling 데이터 셋 사용\n",
    "pradication=[]\n",
    "for train,test in kf.split(X_resampled):\n",
    "    train_data=X_resampled[train]\n",
    "    train_prad=y_resampled[train]\n",
    "    lr.fit(train_data,train_prad)\n",
    "    test_prad=lr.predict(X_resampled[test])\n",
    "    pradication.append(test_prad)"
   ]
  },
  {
   "cell_type": "code",
   "execution_count": 54,
   "metadata": {
    "id": "bEKMtTG3gjfi"
   },
   "outputs": [],
   "source": [
    "pradication=np.concatenate(pradication,axis=0)\n",
    "pradication[pradication>=0.5]=1\n",
    "pradication[pradication<0.5]=0"
   ]
  },
  {
   "cell_type": "code",
   "execution_count": 55,
   "metadata": {
    "colab": {
     "base_uri": "https://localhost:8080/"
    },
    "id": "hW4n05GAguRa",
    "outputId": "606d56ab-c079-47bc-d91e-82930f472221"
   },
   "outputs": [
    {
     "name": "stdout",
     "output_type": "stream",
     "text": [
      "정확도 : 0.53, 정밀도 : 0.53, 재현율 : 0.51\n",
      "f1-score : 0.52, auc : 0.53\n"
     ]
    }
   ],
   "source": [
    "## train 예측\n",
    "metrics(y_resampled,pradication)"
   ]
  },
  {
   "cell_type": "code",
   "execution_count": 56,
   "metadata": {
    "colab": {
     "base_uri": "https://localhost:8080/"
    },
    "id": "9StSrAygi-B7",
    "outputId": "74e6d52e-4013-453f-e7ae-e38bdf6aca20"
   },
   "outputs": [
    {
     "name": "stdout",
     "output_type": "stream",
     "text": [
      "정확도 : 0.87, 정밀도 : 0.96, 재현율 : 0.87\n",
      "f1-score : 0.91, auc : 0.85\n"
     ]
    }
   ],
   "source": [
    "## test 예측\n",
    "lr.fit(X_resampled,y_resampled)\n",
    "prediction = lr.predict(X_test)\n",
    "metrics(y_test,prediction)"
   ]
  },
  {
   "cell_type": "markdown",
   "metadata": {
    "id": "3SKDp76lLO9A"
   },
   "source": [
    "## GradientBoostingClassifier"
   ]
  },
  {
   "cell_type": "code",
   "execution_count": 57,
   "metadata": {
    "colab": {
     "base_uri": "https://localhost:8080/"
    },
    "id": "w3YPm9CsFK1j",
    "outputId": "a0cea6c4-2339-4eb6-d417-5ba64cb25e8e"
   },
   "outputs": [
    {
     "name": "stdout",
     "output_type": "stream",
     "text": [
      "정확도 : 0.91, 정밀도 : 0.93, 재현율 : 0.96\n",
      "f1-score : 0.95, auc : 0.83\n",
      "샘플링 이후\n",
      "정확도 : 0.90, 정밀도 : 0.92, 재현율 : 0.96\n",
      "f1-score : 0.94, auc : 0.78\n"
     ]
    }
   ],
   "source": [
    "from sklearn.ensemble import GradientBoostingClassifier\n",
    "\n",
    "GBC = GradientBoostingClassifier(criterion='friedman_mse', init=None,\n",
    "              learning_rate=0.3118602206821891, loss='exponential',\n",
    "             max_depth=18, max_features=None, max_leaf_nodes=None,\n",
    "              min_impurity_decrease=0.0, min_impurity_split=None,\n",
    "             min_samples_leaf=1, min_samples_split=0.8853376596095855,\n",
    "             min_weight_fraction_leaf=0.0, n_estimators=125,\n",
    "             n_iter_no_change=None, presort='auto', random_state=0,\n",
    "              subsample=0.9527916569719446, tol=0.0001,\n",
    "             validation_fraction=0.1, verbose=0, warm_start=False)\n",
    "\n",
    "modeling(GBC,X_train,X_test, y_train,y_test)\n",
    "print(\"샘플링 이후\")\n",
    "GBC_pred=modeling(GBC,X_resampled,X_test, y_resampled,y_test)"
   ]
  },
  {
   "cell_type": "markdown",
   "metadata": {
    "id": "EyXQdAnMLqOS"
   },
   "source": [
    "## XGBoost"
   ]
  },
  {
   "cell_type": "code",
   "execution_count": 58,
   "metadata": {
    "id": "vvwZMGquKGRr"
   },
   "outputs": [],
   "source": [
    "## 샘플링 이전\n",
    "import xgboost as xgb\n",
    "def get_oof_xgb(params, train_data, test_data, target_data, num_round, early_round, verbose_round, N_SPLITS=5, random_state=0):\n",
    "\n",
    "    FOLDs=KFold(n_splits=N_SPLITS, shuffle=True,random_state=0)\n",
    "\n",
    "    oof = np.zeros(len(train_data))\n",
    "    predictions = np.zeros(len(test_data))\n",
    "    #predictions=[]\n",
    "\n",
    "    feature_importance_df = pd.DataFrame()\n",
    "\n",
    "    best_iters = []\n",
    "    for fold_, (trn_idx, val_idx) in enumerate(FOLDs.split(train_data)):\n",
    "        trn_data = xgb.DMatrix(train_data.iloc[trn_idx], label=target_data.iloc[trn_idx])\n",
    "        val_data = xgb.DMatrix(train_data.iloc[val_idx], label=target_data.iloc[val_idx])\n",
    "        print(\"xgb \" + str(fold_) + \"-\" * 50)\n",
    "\n",
    "        watchlist = [(trn_data, 'train'), (val_data, 'valid')]\n",
    "        print(\"xgb \" + str(fold_) + \"-\" * 50)\n",
    "        num_round = num_round\n",
    "        xgb_model = xgb.train(params, trn_data, num_round, watchlist, \n",
    "                              early_stopping_rounds=early_round, verbose_eval=verbose_round)\n",
    "        oof[val_idx] = xgb_model.predict(xgb.DMatrix(train_data.iloc[val_idx]), \n",
    "                                             ntree_limit=xgb_model.best_ntree_limit)\n",
    "\n",
    "        predictions += xgb_model.predict(xgb.DMatrix(test_data), \n",
    "                                             ntree_limit=xgb_model.best_ntree_limit) / FOLDs.n_splits\n",
    "        #predictions.append(xgb_model.predict(xgb.DMatrix(test_data),ntree_limit=xgb_model.best_ntree_limit))\n",
    "        \n",
    "        fold_importance_df = pd.DataFrame([xgb_model.get_score()]).T.reset_index()\n",
    "        fold_importance_df.columns = ['feature', 'importance']\n",
    "        fold_importance_df[\"fold\"] = fold_ + 1\n",
    "        feature_importance_df = pd.concat([feature_importance_df, fold_importance_df], axis=0)\n",
    "        best_iters.append(xgb_model.best_ntree_limit)\n",
    "    return oof, predictions, feature_importance_df, np.mean(best_iters)"
   ]
  },
  {
   "cell_type": "code",
   "execution_count": 59,
   "metadata": {
    "colab": {
     "base_uri": "https://localhost:8080/"
    },
    "id": "GnjC6O0xKGRr",
    "outputId": "5f6e6a54-accd-445d-a336-f7c701810852"
   },
   "outputs": [
    {
     "name": "stdout",
     "output_type": "stream",
     "text": [
      "xgb 0--------------------------------------------------\n",
      "xgb 0--------------------------------------------------\n",
      "[0]\ttrain-error:0.057072\tvalid-error:0.118812\n",
      "Multiple eval metrics have been passed: 'valid-error' will be used for early stopping.\n",
      "\n",
      "Will train until valid-error hasn't improved in 400 rounds.\n",
      "[500]\ttrain-error:0\tvalid-error:0.069307\n",
      "Stopping. Best iteration:\n",
      "[229]\ttrain-error:0\tvalid-error:0.069307\n",
      "\n",
      "xgb 1--------------------------------------------------\n",
      "xgb 1--------------------------------------------------\n",
      "[0]\ttrain-error:0.059553\tvalid-error:0.089109\n",
      "Multiple eval metrics have been passed: 'valid-error' will be used for early stopping.\n",
      "\n",
      "Will train until valid-error hasn't improved in 400 rounds.\n",
      "Stopping. Best iteration:\n",
      "[0]\ttrain-error:0.059553\tvalid-error:0.089109\n",
      "\n",
      "xgb 2--------------------------------------------------\n",
      "xgb 2--------------------------------------------------\n",
      "[0]\ttrain-error:0.064516\tvalid-error:0.069307\n",
      "Multiple eval metrics have been passed: 'valid-error' will be used for early stopping.\n",
      "\n",
      "Will train until valid-error hasn't improved in 400 rounds.\n",
      "Stopping. Best iteration:\n",
      "[8]\ttrain-error:0.054591\tvalid-error:0.039604\n",
      "\n",
      "xgb 3--------------------------------------------------\n",
      "xgb 3--------------------------------------------------\n",
      "[0]\ttrain-error:0.054591\tvalid-error:0.128713\n",
      "Multiple eval metrics have been passed: 'valid-error' will be used for early stopping.\n",
      "\n",
      "Will train until valid-error hasn't improved in 400 rounds.\n",
      "Stopping. Best iteration:\n",
      "[11]\ttrain-error:0.044665\tvalid-error:0.049505\n",
      "\n",
      "xgb 4--------------------------------------------------\n",
      "xgb 4--------------------------------------------------\n",
      "[0]\ttrain-error:0.04703\tvalid-error:0.19\n",
      "Multiple eval metrics have been passed: 'valid-error' will be used for early stopping.\n",
      "\n",
      "Will train until valid-error hasn't improved in 400 rounds.\n",
      "[500]\ttrain-error:0\tvalid-error:0.12\n",
      "Stopping. Best iteration:\n",
      "[229]\ttrain-error:0\tvalid-error:0.11\n",
      "\n"
     ]
    }
   ],
   "source": [
    "xgb_params={\"objective\":\"binary:logistic\",\n",
    "           \"eval_metric\":\"error\",\n",
    "           \"alpha\":0.08,\n",
    "           \"gamma\":0.06,\n",
    "           \"eta\":0.04}\n",
    "a,b,c,d=get_oof_xgb(xgb_params, X_train,X_test,y_train, num_round=100000, early_round=400, verbose_round=500, N_SPLITS=5, random_state=0)\n",
    "\n",
    "predictions_xgb=b"
   ]
  },
  {
   "cell_type": "code",
   "execution_count": 60,
   "metadata": {
    "colab": {
     "base_uri": "https://localhost:8080/"
    },
    "id": "CXRL047gja1M",
    "outputId": "0c42d7e5-5a1a-4444-969a-ec43d5adb8fe"
   },
   "outputs": [
    {
     "name": "stdout",
     "output_type": "stream",
     "text": [
      "정확도 : 0.93, 정밀도 : 0.94, 재현율 : 0.98\n",
      "f1-score : 0.96, auc : 0.84\n"
     ]
    }
   ],
   "source": [
    "## train 예측\n",
    "y_hat = np.where(a < 0.5, 0, 1)\n",
    "metrics(y_train,y_hat)"
   ]
  },
  {
   "cell_type": "code",
   "execution_count": 61,
   "metadata": {
    "colab": {
     "base_uri": "https://localhost:8080/"
    },
    "id": "5RfYCXBaKGRs",
    "outputId": "b17f193c-7477-4418-a081-55c41f497a4c"
   },
   "outputs": [
    {
     "name": "stdout",
     "output_type": "stream",
     "text": [
      "샘플링 이전\n",
      "정확도 : 0.91, 정밀도 : 0.93, 재현율 : 0.96\n",
      "f1-score : 0.95, auc : 0.83\n"
     ]
    }
   ],
   "source": [
    "## test 예측\n",
    "y_hat = np.where(predictions_xgb < 0.5, 0, 1)\n",
    "print(\"샘플링 이전\")  \n",
    "metrics(y_test,y_hat)"
   ]
  },
  {
   "cell_type": "code",
   "execution_count": 62,
   "metadata": {
    "id": "wac8kx8bKGRs"
   },
   "outputs": [],
   "source": [
    "xgb_FI=c.sort_values(by=[\"fold\", \"importance\"], ascending=[False, False]).groupby(\"fold\").head(10)"
   ]
  },
  {
   "cell_type": "code",
   "execution_count": 63,
   "metadata": {
    "colab": {
     "base_uri": "https://localhost:8080/",
     "height": 402
    },
    "id": "zEPAeLCwKGRt",
    "outputId": "1e7efdc4-c8f4-4cbd-a52f-3eceafbcf6a9"
   },
   "outputs": [
    {
     "data": {
      "text/html": [
       "<div>\n",
       "<style scoped>\n",
       "    .dataframe tbody tr th:only-of-type {\n",
       "        vertical-align: middle;\n",
       "    }\n",
       "\n",
       "    .dataframe tbody tr th {\n",
       "        vertical-align: top;\n",
       "    }\n",
       "\n",
       "    .dataframe thead th {\n",
       "        text-align: right;\n",
       "    }\n",
       "</style>\n",
       "<table border=\"1\" class=\"dataframe\">\n",
       "  <thead>\n",
       "    <tr style=\"text-align: right;\">\n",
       "      <th></th>\n",
       "      <th>feature</th>\n",
       "      <th>importance</th>\n",
       "      <th>fold</th>\n",
       "    </tr>\n",
       "  </thead>\n",
       "  <tbody>\n",
       "    <tr>\n",
       "      <th>7</th>\n",
       "      <td>스크린수</td>\n",
       "      <td>556.200000</td>\n",
       "      <td>3.0</td>\n",
       "    </tr>\n",
       "    <tr>\n",
       "      <th>3</th>\n",
       "      <td>뉴스</td>\n",
       "      <td>541.400000</td>\n",
       "      <td>3.0</td>\n",
       "    </tr>\n",
       "    <tr>\n",
       "      <th>1</th>\n",
       "      <td>경쟁 영화수</td>\n",
       "      <td>519.000000</td>\n",
       "      <td>3.0</td>\n",
       "    </tr>\n",
       "    <tr>\n",
       "      <th>11</th>\n",
       "      <td>평점</td>\n",
       "      <td>487.400000</td>\n",
       "      <td>3.0</td>\n",
       "    </tr>\n",
       "    <tr>\n",
       "      <th>6</th>\n",
       "      <td>상영시간</td>\n",
       "      <td>336.800000</td>\n",
       "      <td>3.0</td>\n",
       "    </tr>\n",
       "    <tr>\n",
       "      <th>0</th>\n",
       "      <td>개봉월</td>\n",
       "      <td>234.400000</td>\n",
       "      <td>3.0</td>\n",
       "    </tr>\n",
       "    <tr>\n",
       "      <th>4</th>\n",
       "      <td>드라마</td>\n",
       "      <td>102.000000</td>\n",
       "      <td>3.0</td>\n",
       "    </tr>\n",
       "    <tr>\n",
       "      <th>10</th>\n",
       "      <td>요일</td>\n",
       "      <td>86.666667</td>\n",
       "      <td>2.0</td>\n",
       "    </tr>\n",
       "    <tr>\n",
       "      <th>2</th>\n",
       "      <td>국적</td>\n",
       "      <td>78.200000</td>\n",
       "      <td>3.0</td>\n",
       "    </tr>\n",
       "    <tr>\n",
       "      <th>8</th>\n",
       "      <td>액션</td>\n",
       "      <td>68.000000</td>\n",
       "      <td>5.0</td>\n",
       "    </tr>\n",
       "    <tr>\n",
       "      <th>5</th>\n",
       "      <td>등급</td>\n",
       "      <td>67.400000</td>\n",
       "      <td>3.0</td>\n",
       "    </tr>\n",
       "    <tr>\n",
       "      <th>9</th>\n",
       "      <td>여름</td>\n",
       "      <td>41.000000</td>\n",
       "      <td>4.0</td>\n",
       "    </tr>\n",
       "  </tbody>\n",
       "</table>\n",
       "</div>"
      ],
      "text/plain": [
       "   feature  importance  fold\n",
       "7     스크린수  556.200000   3.0\n",
       "3       뉴스  541.400000   3.0\n",
       "1   경쟁 영화수  519.000000   3.0\n",
       "11      평점  487.400000   3.0\n",
       "6     상영시간  336.800000   3.0\n",
       "0      개봉월  234.400000   3.0\n",
       "4      드라마  102.000000   3.0\n",
       "10      요일   86.666667   2.0\n",
       "2       국적   78.200000   3.0\n",
       "8       액션   68.000000   5.0\n",
       "5       등급   67.400000   3.0\n",
       "9       여름   41.000000   4.0"
      ]
     },
     "execution_count": 63,
     "metadata": {
      "tags": []
     },
     "output_type": "execute_result"
    }
   ],
   "source": [
    "a=xgb_FI.groupby(\"feature\",as_index=False).mean().sort_values(by=[\"importance\"],ascending=False)\n",
    "a"
   ]
  },
  {
   "cell_type": "code",
   "execution_count": 64,
   "metadata": {
    "colab": {
     "base_uri": "https://localhost:8080/",
     "height": 877
    },
    "id": "2og-4ad4KGRt",
    "outputId": "b03a3d5c-7584-4e10-b1e9-6a157765076e"
   },
   "outputs": [
    {
     "data": {
      "image/png": "[encoded data removed]",
      "text/plain": [
       "<Figure size 1440x1080 with 1 Axes>"
      ]
     },
     "metadata": {
      "tags": []
     },
     "output_type": "display_data"
    }
   ],
   "source": [
    "fig = plt.figure(figsize=(20, 15))\n",
    "fig.patch.set_facecolor('xkcd:white')\n",
    "sns.barplot(y='importance',x='feature', data=a)\n",
    "plt.show()"
   ]
  },
  {
   "cell_type": "code",
   "execution_count": 65,
   "metadata": {
    "id": "qL-q9g0LKGRu"
   },
   "outputs": [],
   "source": [
    "## 샘플링 이후\n",
    "import xgboost as xgb\n",
    "def get_oof_xgb(params, train_data, test_data, target_data, num_round, early_round, verbose_round, N_SPLITS=5, random_state=0):\n",
    "\n",
    "    FOLDs=KFold(n_splits=N_SPLITS, shuffle=True,random_state=0)\n",
    "\n",
    "    oof = np.zeros(len(train_data))\n",
    "    predictions = np.zeros(len(test_data))\n",
    "    #predictions=[]\n",
    "\n",
    "    feature_importance_df = pd.DataFrame()\n",
    "\n",
    "    best_iters = []\n",
    "    for fold_, (trn_idx, val_idx) in enumerate(FOLDs.split(train_data)):\n",
    "        trn_data = xgb.DMatrix(train_data[trn_idx], label=target_data[trn_idx])\n",
    "        val_data = xgb.DMatrix(train_data[val_idx], label=target_data[val_idx])\n",
    "        print(\"xgb \" + str(fold_) + \"-\" * 50)\n",
    "\n",
    "        watchlist = [(trn_data, 'train'), (val_data, 'valid')]\n",
    "        print(\"xgb \" + str(fold_) + \"-\" * 50)\n",
    "        num_round = num_round\n",
    "        xgb_model = xgb.train(params, trn_data, num_round, watchlist, \n",
    "                              early_stopping_rounds=early_round, verbose_eval=verbose_round)\n",
    "        oof[val_idx] = xgb_model.predict(xgb.DMatrix(train_data[val_idx]), \n",
    "                                             ntree_limit=xgb_model.best_ntree_limit)\n",
    "\n",
    "        predictions += xgb_model.predict(xgb.DMatrix(test_data), \n",
    "                                             ntree_limit=xgb_model.best_ntree_limit) / FOLDs.n_splits\n",
    "        #predictions.append(xgb_model.predict(xgb.DMatrix(test_data),ntree_limit=xgb_model.best_ntree_limit))\n",
    "        \n",
    "        fold_importance_df = pd.DataFrame([xgb_model.get_score()]).T.reset_index()\n",
    "        fold_importance_df.columns = ['feature', 'importance']\n",
    "        fold_importance_df[\"fold\"] = fold_ + 1\n",
    "        feature_importance_df = pd.concat([feature_importance_df, fold_importance_df], axis=0)\n",
    "        best_iters.append(xgb_model.best_ntree_limit)\n",
    "    return oof, predictions, feature_importance_df, np.mean(best_iters)"
   ]
  },
  {
   "cell_type": "code",
   "execution_count": 66,
   "metadata": {
    "colab": {
     "base_uri": "https://localhost:8080/"
    },
    "id": "vUksyiqLKGRu",
    "outputId": "018ea4ff-7a99-48dd-d754-3d2f3275aa5e"
   },
   "outputs": [
    {
     "name": "stdout",
     "output_type": "stream",
     "text": [
      "xgb 0--------------------------------------------------\n",
      "xgb 0--------------------------------------------------\n",
      "[0]\ttrain-error:0.052632\tvalid-error:0.11976\n",
      "Multiple eval metrics have been passed: 'valid-error' will be used for early stopping.\n",
      "\n",
      "Will train until valid-error hasn't improved in 400 rounds.\n",
      "[500]\ttrain-error:0\tvalid-error:0.02994\n",
      "Stopping. Best iteration:\n",
      "[214]\ttrain-error:0\tvalid-error:0.02994\n",
      "\n",
      "xgb 1--------------------------------------------------\n",
      "xgb 1--------------------------------------------------\n",
      "[0]\ttrain-error:0.058647\tvalid-error:0.101796\n",
      "Multiple eval metrics have been passed: 'valid-error' will be used for early stopping.\n",
      "\n",
      "Will train until valid-error hasn't improved in 400 rounds.\n",
      "Stopping. Best iteration:\n",
      "[82]\ttrain-error:0.01203\tvalid-error:0.035928\n",
      "\n",
      "xgb 2--------------------------------------------------\n",
      "xgb 2--------------------------------------------------\n",
      "[0]\ttrain-error:0.045045\tvalid-error:0.10241\n",
      "Multiple eval metrics have been passed: 'valid-error' will be used for early stopping.\n",
      "\n",
      "Will train until valid-error hasn't improved in 400 rounds.\n",
      "[500]\ttrain-error:0\tvalid-error:0.018072\n",
      "Stopping. Best iteration:\n",
      "[379]\ttrain-error:0\tvalid-error:0.018072\n",
      "\n",
      "xgb 3--------------------------------------------------\n",
      "xgb 3--------------------------------------------------\n",
      "[0]\ttrain-error:0.051051\tvalid-error:0.10241\n",
      "Multiple eval metrics have been passed: 'valid-error' will be used for early stopping.\n",
      "\n",
      "Will train until valid-error hasn't improved in 400 rounds.\n",
      "[500]\ttrain-error:0\tvalid-error:0.054217\n",
      "Stopping. Best iteration:\n",
      "[133]\ttrain-error:0.003003\tvalid-error:0.054217\n",
      "\n",
      "xgb 4--------------------------------------------------\n",
      "xgb 4--------------------------------------------------\n",
      "[0]\ttrain-error:0.046547\tvalid-error:0.10241\n",
      "Multiple eval metrics have been passed: 'valid-error' will be used for early stopping.\n",
      "\n",
      "Will train until valid-error hasn't improved in 400 rounds.\n",
      "[500]\ttrain-error:0\tvalid-error:0.048193\n",
      "Stopping. Best iteration:\n",
      "[351]\ttrain-error:0\tvalid-error:0.048193\n",
      "\n"
     ]
    }
   ],
   "source": [
    "xgb_params={\"objective\":\"binary:logistic\",\n",
    "           \"eval_metric\":\"error\",\n",
    "           \"alpha\":0.08,\n",
    "           \"gamma\":0.06,\n",
    "           \"eta\":0.04}\n",
    "a,b,c,d=get_oof_xgb(xgb_params, X_resampled,x_test,y_resampled, num_round=100000, early_round=400, verbose_round=500, N_SPLITS=5, random_state=0)\n",
    "\n",
    "predictions_xgb=b"
   ]
  },
  {
   "cell_type": "code",
   "execution_count": 67,
   "metadata": {
    "colab": {
     "base_uri": "https://localhost:8080/"
    },
    "id": "5_Se631GjnDm",
    "outputId": "108ccadc-760f-4cb5-8c1d-470c9848c98c"
   },
   "outputs": [
    {
     "name": "stdout",
     "output_type": "stream",
     "text": [
      "정확도 : 0.96, 정밀도 : 0.97, 재현율 : 0.96\n",
      "f1-score : 0.96, auc : 0.96\n"
     ]
    }
   ],
   "source": [
    "## train 예측\n",
    "y_hat = np.where(a < 0.5, 0, 1)\n",
    "metrics(y_resampled,y_hat)"
   ]
  },
  {
   "cell_type": "code",
   "execution_count": 68,
   "metadata": {
    "colab": {
     "base_uri": "https://localhost:8080/"
    },
    "id": "iQyKnjC0KGRu",
    "outputId": "c5cb0534-ea1b-4775-89bd-989976c514a3"
   },
   "outputs": [
    {
     "name": "stdout",
     "output_type": "stream",
     "text": [
      "샘플링 이후\n",
      "정확도 : 0.90, 정밀도 : 0.93, 재현율 : 0.95\n",
      "f1-score : 0.94, auc : 0.82\n"
     ]
    }
   ],
   "source": [
    "## test 예측\n",
    "y_hat = np.where(predictions_xgb < 0.5, 0, 1)  \n",
    "print(\"샘플링 이후\")  \n",
    "metrics(y_test,y_hat)"
   ]
  },
  {
   "cell_type": "code",
   "execution_count": 69,
   "metadata": {
    "id": "49WC50mgKGRv"
   },
   "outputs": [],
   "source": [
    "xgb_FI=c.sort_values(by=[\"fold\", \"importance\"], ascending=[False, False]).groupby(\"fold\").head(10)"
   ]
  },
  {
   "cell_type": "code",
   "execution_count": 70,
   "metadata": {
    "colab": {
     "base_uri": "https://localhost:8080/",
     "height": 373
    },
    "id": "jy4_yXIzKGRv",
    "outputId": "31bdf61c-7ed6-45a5-c627-8b11898801fd"
   },
   "outputs": [
    {
     "data": {
      "text/html": [
       "<div>\n",
       "<style scoped>\n",
       "    .dataframe tbody tr th:only-of-type {\n",
       "        vertical-align: middle;\n",
       "    }\n",
       "\n",
       "    .dataframe tbody tr th {\n",
       "        vertical-align: top;\n",
       "    }\n",
       "\n",
       "    .dataframe thead th {\n",
       "        text-align: right;\n",
       "    }\n",
       "</style>\n",
       "<table border=\"1\" class=\"dataframe\">\n",
       "  <thead>\n",
       "    <tr style=\"text-align: right;\">\n",
       "      <th></th>\n",
       "      <th>feature</th>\n",
       "      <th>importance</th>\n",
       "      <th>fold</th>\n",
       "    </tr>\n",
       "  </thead>\n",
       "  <tbody>\n",
       "    <tr>\n",
       "      <th>1</th>\n",
       "      <td>f1</td>\n",
       "      <td>627.8</td>\n",
       "      <td>3.0</td>\n",
       "    </tr>\n",
       "    <tr>\n",
       "      <th>4</th>\n",
       "      <td>f2</td>\n",
       "      <td>568.8</td>\n",
       "      <td>3.0</td>\n",
       "    </tr>\n",
       "    <tr>\n",
       "      <th>5</th>\n",
       "      <td>f29</td>\n",
       "      <td>555.4</td>\n",
       "      <td>3.0</td>\n",
       "    </tr>\n",
       "    <tr>\n",
       "      <th>0</th>\n",
       "      <td>f0</td>\n",
       "      <td>463.8</td>\n",
       "      <td>3.0</td>\n",
       "    </tr>\n",
       "    <tr>\n",
       "      <th>9</th>\n",
       "      <td>f7</td>\n",
       "      <td>328.4</td>\n",
       "      <td>3.0</td>\n",
       "    </tr>\n",
       "    <tr>\n",
       "      <th>6</th>\n",
       "      <td>f3</td>\n",
       "      <td>308.4</td>\n",
       "      <td>3.0</td>\n",
       "    </tr>\n",
       "    <tr>\n",
       "      <th>3</th>\n",
       "      <td>f12</td>\n",
       "      <td>162.0</td>\n",
       "      <td>3.0</td>\n",
       "    </tr>\n",
       "    <tr>\n",
       "      <th>10</th>\n",
       "      <td>f8</td>\n",
       "      <td>155.8</td>\n",
       "      <td>3.0</td>\n",
       "    </tr>\n",
       "    <tr>\n",
       "      <th>8</th>\n",
       "      <td>f6</td>\n",
       "      <td>149.5</td>\n",
       "      <td>2.5</td>\n",
       "    </tr>\n",
       "    <tr>\n",
       "      <th>7</th>\n",
       "      <td>f4</td>\n",
       "      <td>142.8</td>\n",
       "      <td>3.0</td>\n",
       "    </tr>\n",
       "    <tr>\n",
       "      <th>2</th>\n",
       "      <td>f11</td>\n",
       "      <td>130.0</td>\n",
       "      <td>5.0</td>\n",
       "    </tr>\n",
       "  </tbody>\n",
       "</table>\n",
       "</div>"
      ],
      "text/plain": [
       "   feature  importance  fold\n",
       "1       f1       627.8   3.0\n",
       "4       f2       568.8   3.0\n",
       "5      f29       555.4   3.0\n",
       "0       f0       463.8   3.0\n",
       "9       f7       328.4   3.0\n",
       "6       f3       308.4   3.0\n",
       "3      f12       162.0   3.0\n",
       "10      f8       155.8   3.0\n",
       "8       f6       149.5   2.5\n",
       "7       f4       142.8   3.0\n",
       "2      f11       130.0   5.0"
      ]
     },
     "execution_count": 70,
     "metadata": {
      "tags": []
     },
     "output_type": "execute_result"
    }
   ],
   "source": [
    "a=xgb_FI.groupby(\"feature\",as_index=False).mean().sort_values(by=[\"importance\"],ascending=False)\n",
    "a"
   ]
  },
  {
   "cell_type": "code",
   "execution_count": 71,
   "metadata": {
    "colab": {
     "base_uri": "https://localhost:8080/",
     "height": 877
    },
    "id": "XlrtKlSHKGRv",
    "outputId": "02391226-ec14-4972-8a51-eca1f96e921e"
   },
   "outputs": [
    {
     "data": {
      "image/png": "[encoded data removed]",
      "text/plain": [
       "<Figure size 1440x1080 with 1 Axes>"
      ]
     },
     "metadata": {
      "tags": []
     },
     "output_type": "display_data"
    }
   ],
   "source": [
    "fig = plt.figure(figsize=(20, 15))\n",
    "fig.patch.set_facecolor('xkcd:white')\n",
    "sns.barplot(y='importance',x='feature', data=a)\n",
    "plt.show()"
   ]
  },
  {
   "cell_type": "markdown",
   "metadata": {
    "id": "vttlMXmUMC7D"
   },
   "source": [
    "## LightGBM"
   ]
  },
  {
   "cell_type": "code",
   "execution_count": 72,
   "metadata": {
    "id": "Z_ZRU0C_KGRv"
   },
   "outputs": [],
   "source": [
    "## 샘플링 이전\n",
    "import lightgbm as lgb\n",
    "def get_oof_lgbm(params, train_data, test_data, target_data, num_round, early_round, verbose_round, N_SPLITS=5, random_state=0):\n",
    "\n",
    "    FOLDs=KFold(n_splits=N_SPLITS, shuffle=True,random_state=0)\n",
    "\n",
    "    oof = np.zeros(len(train_data))\n",
    "    predictions = np.zeros(len(test_data))\n",
    "    #predictions=[]\n",
    "\n",
    "    features_lgb = list(train_data.columns)\n",
    "    feature_importance_df = pd.DataFrame()\n",
    "\n",
    "    for fold_, (trn_idx, val_idx) in enumerate(FOLDs.split(train_data)):\n",
    "        trn_data = lgb.Dataset(train_data.iloc[trn_idx], label=target_data.iloc[trn_idx])\n",
    "        val_data = lgb.Dataset(train_data.iloc[val_idx], label=target_data.iloc[val_idx])\n",
    "\n",
    "        print(\"LGB \" + str(fold_) + \"-\" * 50)\n",
    "        num_round = num_round\n",
    "        clf = lgb.train(params, trn_data, num_round, valid_sets = [trn_data, val_data], verbose_eval=verbose_round, \n",
    "                        early_stopping_rounds = early_round)\n",
    "        oof[val_idx] = clf.predict(train_data.iloc[val_idx], num_iteration=clf.best_iteration)\n",
    "\n",
    "        fold_importance_df = pd.DataFrame()\n",
    "        fold_importance_df[\"feature\"] = features_lgb\n",
    "        fold_importance_df[\"importance\"] = clf.feature_importance()\n",
    "        fold_importance_df[\"fold\"] = fold_ + 1\n",
    "        feature_importance_df = pd.concat([feature_importance_df, fold_importance_df], axis=0)\n",
    "        predictions += clf.predict(test_data, num_iteration=clf.best_iteration) / FOLDs.n_splits\n",
    "        #predictions.append(clf.predict(test_data, num_iteration=clf.best_iteration))\n",
    "    return oof, predictions, feature_importance_df,params"
   ]
  },
  {
   "cell_type": "code",
   "execution_count": 73,
   "metadata": {
    "colab": {
     "base_uri": "https://localhost:8080/"
    },
    "id": "DSJjAtD8KGRv",
    "outputId": "6b06815a-a9c0-4809-fccd-ffebad57ee96"
   },
   "outputs": [
    {
     "name": "stdout",
     "output_type": "stream",
     "text": [
      "LGB 0--------------------------------------------------\n",
      "Training until validation scores don't improve for 40 rounds.\n",
      "Early stopping, best iteration is:\n",
      "[46]\ttraining's auc: 0.992279\tvalid_1's auc: 0.932073\n",
      "LGB 1--------------------------------------------------\n",
      "Training until validation scores don't improve for 40 rounds.\n",
      "Early stopping, best iteration is:\n",
      "[78]\ttraining's auc: 0.997063\tvalid_1's auc: 0.914794\n",
      "LGB 2--------------------------------------------------\n",
      "Training until validation scores don't improve for 40 rounds.\n",
      "Early stopping, best iteration is:\n",
      "[91]\ttraining's auc: 0.997154\tvalid_1's auc: 0.980769\n",
      "LGB 3--------------------------------------------------\n",
      "Training until validation scores don't improve for 40 rounds.\n",
      "Early stopping, best iteration is:\n",
      "[6]\ttraining's auc: 0.963665\tvalid_1's auc: 0.994048\n",
      "LGB 4--------------------------------------------------\n",
      "Training until validation scores don't improve for 40 rounds.\n",
      "Early stopping, best iteration is:\n",
      "[69]\ttraining's auc: 0.997396\tvalid_1's auc: 0.947547\n"
     ]
    }
   ],
   "source": [
    "lgb_params={\"objective\":\"binary\",\n",
    "           \"metric\":\"auc\",\n",
    "           \"alpha\":0.08,\n",
    "           \"gamma\":0.06,\n",
    "           \"eta\":0.04,\n",
    "           \"silent\":True}\n",
    "a,b,c,d=get_oof_lgbm(lgb_params,X_train,X_test,y_train,num_round=100000, early_round=40, verbose_round=600, N_SPLITS=5, random_state=0)\n",
    "\n",
    "predictions_lgbm1=b"
   ]
  },
  {
   "cell_type": "code",
   "execution_count": 74,
   "metadata": {
    "colab": {
     "base_uri": "https://localhost:8080/"
    },
    "id": "B9KJ2KDIjwHm",
    "outputId": "b5a4a030-5d59-418d-aee4-b9b4c9b7841b"
   },
   "outputs": [
    {
     "name": "stdout",
     "output_type": "stream",
     "text": [
      "정확도 : 0.89, 정밀도 : 0.90, 재현율 : 0.98\n",
      "f1-score : 0.94, auc : 0.73\n"
     ]
    }
   ],
   "source": [
    "## train 예측\n",
    "y_hat = np.where(a < 0.5, 0, 1)\n",
    "metrics(y_train,y_hat)"
   ]
  },
  {
   "cell_type": "code",
   "execution_count": 75,
   "metadata": {
    "colab": {
     "base_uri": "https://localhost:8080/"
    },
    "id": "PkVyObbaKGRw",
    "outputId": "d250b448-deb1-44e8-dc00-cf038fd2faab"
   },
   "outputs": [
    {
     "name": "stdout",
     "output_type": "stream",
     "text": [
      "샘플링 이전\n",
      "정확도 : 0.90, 정밀도 : 0.91, 재현율 : 0.97\n",
      "f1-score : 0.94, auc : 0.77\n"
     ]
    }
   ],
   "source": [
    "## test 예측\n",
    "y_hat = np.where(b < 0.5, 0, 1)  \n",
    "print(\"샘플링 이전\")\n",
    "metrics(y_test,y_hat)"
   ]
  },
  {
   "cell_type": "code",
   "execution_count": 76,
   "metadata": {
    "id": "WQlJc0BDKGRw"
   },
   "outputs": [],
   "source": [
    "lgb_FI=c.sort_values(by=[\"fold\", \"importance\"], ascending=[False, False]).groupby(\"fold\").head(10)"
   ]
  },
  {
   "cell_type": "code",
   "execution_count": 77,
   "metadata": {
    "colab": {
     "base_uri": "https://localhost:8080/",
     "height": 491
    },
    "id": "ARpE7Zs9KGRw",
    "outputId": "57986e2f-0fc3-408e-e9a4-6cd527ed7354"
   },
   "outputs": [
    {
     "data": {
      "text/html": [
       "<div>\n",
       "<style scoped>\n",
       "    .dataframe tbody tr th:only-of-type {\n",
       "        vertical-align: middle;\n",
       "    }\n",
       "\n",
       "    .dataframe tbody tr th {\n",
       "        vertical-align: top;\n",
       "    }\n",
       "\n",
       "    .dataframe thead th {\n",
       "        text-align: right;\n",
       "    }\n",
       "</style>\n",
       "<table border=\"1\" class=\"dataframe\">\n",
       "  <thead>\n",
       "    <tr style=\"text-align: right;\">\n",
       "      <th></th>\n",
       "      <th>feature</th>\n",
       "      <th>importance</th>\n",
       "      <th>fold</th>\n",
       "    </tr>\n",
       "  </thead>\n",
       "  <tbody>\n",
       "    <tr>\n",
       "      <th>5</th>\n",
       "      <td>뉴스</td>\n",
       "      <td>196.200000</td>\n",
       "      <td>3.0</td>\n",
       "    </tr>\n",
       "    <tr>\n",
       "      <th>10</th>\n",
       "      <td>스크린수</td>\n",
       "      <td>179.000000</td>\n",
       "      <td>3.0</td>\n",
       "    </tr>\n",
       "    <tr>\n",
       "      <th>3</th>\n",
       "      <td>경쟁 영화수</td>\n",
       "      <td>154.600000</td>\n",
       "      <td>3.0</td>\n",
       "    </tr>\n",
       "    <tr>\n",
       "      <th>14</th>\n",
       "      <td>평점</td>\n",
       "      <td>117.200000</td>\n",
       "      <td>3.0</td>\n",
       "    </tr>\n",
       "    <tr>\n",
       "      <th>9</th>\n",
       "      <td>상영시간</td>\n",
       "      <td>66.400000</td>\n",
       "      <td>3.0</td>\n",
       "    </tr>\n",
       "    <tr>\n",
       "      <th>1</th>\n",
       "      <td>개봉월</td>\n",
       "      <td>46.000000</td>\n",
       "      <td>3.0</td>\n",
       "    </tr>\n",
       "    <tr>\n",
       "      <th>0</th>\n",
       "      <td>가을</td>\n",
       "      <td>28.000000</td>\n",
       "      <td>3.0</td>\n",
       "    </tr>\n",
       "    <tr>\n",
       "      <th>11</th>\n",
       "      <td>애니메이션</td>\n",
       "      <td>27.000000</td>\n",
       "      <td>1.0</td>\n",
       "    </tr>\n",
       "    <tr>\n",
       "      <th>4</th>\n",
       "      <td>국적</td>\n",
       "      <td>18.200000</td>\n",
       "      <td>3.0</td>\n",
       "    </tr>\n",
       "    <tr>\n",
       "      <th>2</th>\n",
       "      <td>겨울</td>\n",
       "      <td>17.000000</td>\n",
       "      <td>2.0</td>\n",
       "    </tr>\n",
       "    <tr>\n",
       "      <th>8</th>\n",
       "      <td>배급사</td>\n",
       "      <td>14.500000</td>\n",
       "      <td>4.5</td>\n",
       "    </tr>\n",
       "    <tr>\n",
       "      <th>7</th>\n",
       "      <td>등급</td>\n",
       "      <td>13.600000</td>\n",
       "      <td>3.0</td>\n",
       "    </tr>\n",
       "    <tr>\n",
       "      <th>13</th>\n",
       "      <td>요일</td>\n",
       "      <td>11.333333</td>\n",
       "      <td>2.0</td>\n",
       "    </tr>\n",
       "    <tr>\n",
       "      <th>12</th>\n",
       "      <td>액션</td>\n",
       "      <td>11.000000</td>\n",
       "      <td>5.0</td>\n",
       "    </tr>\n",
       "    <tr>\n",
       "      <th>6</th>\n",
       "      <td>드라마</td>\n",
       "      <td>1.000000</td>\n",
       "      <td>4.0</td>\n",
       "    </tr>\n",
       "  </tbody>\n",
       "</table>\n",
       "</div>"
      ],
      "text/plain": [
       "   feature  importance  fold\n",
       "5       뉴스  196.200000   3.0\n",
       "10    스크린수  179.000000   3.0\n",
       "3   경쟁 영화수  154.600000   3.0\n",
       "14      평점  117.200000   3.0\n",
       "9     상영시간   66.400000   3.0\n",
       "1      개봉월   46.000000   3.0\n",
       "0       가을   28.000000   3.0\n",
       "11   애니메이션   27.000000   1.0\n",
       "4       국적   18.200000   3.0\n",
       "2       겨울   17.000000   2.0\n",
       "8      배급사   14.500000   4.5\n",
       "7       등급   13.600000   3.0\n",
       "13      요일   11.333333   2.0\n",
       "12      액션   11.000000   5.0\n",
       "6      드라마    1.000000   4.0"
      ]
     },
     "execution_count": 77,
     "metadata": {
      "tags": []
     },
     "output_type": "execute_result"
    }
   ],
   "source": [
    "a=lgb_FI.groupby(\"feature\",as_index=False).mean().sort_values(by=[\"importance\"],ascending=False)\n",
    "a"
   ]
  },
  {
   "cell_type": "code",
   "execution_count": 78,
   "metadata": {
    "colab": {
     "base_uri": "https://localhost:8080/",
     "height": 877
    },
    "id": "fnQy_TkLKGRw",
    "outputId": "4c1a7793-cdaf-4ee0-fad9-8e9658d7fdfa"
   },
   "outputs": [
    {
     "data": {
      "image/png": "[encoded data removed]",
      "text/plain": [
       "<Figure size 1440x1080 with 1 Axes>"
      ]
     },
     "metadata": {
      "tags": []
     },
     "output_type": "display_data"
    }
   ],
   "source": [
    "fig = plt.figure(figsize=(20, 15))\n",
    "fig.patch.set_facecolor('xkcd:white')\n",
    "sns.barplot(y='importance',x='feature', data=a)\n",
    "plt.show()"
   ]
  },
  {
   "cell_type": "code",
   "execution_count": 79,
   "metadata": {
    "id": "Y1RcOfuYKGRw"
   },
   "outputs": [],
   "source": [
    "## 샘플링 이후\n",
    "import lightgbm as lgb\n",
    "def get_oof_lgbm(params,train,train_data, test_data, target_data, num_round, early_round, verbose_round, N_SPLITS=5, random_state=0):\n",
    "\n",
    "    FOLDs=KFold(n_splits=N_SPLITS, shuffle=True,random_state=0)\n",
    "\n",
    "    oof = np.zeros(len(train_data))\n",
    "    predictions = np.zeros(len(test_data))\n",
    "    #predictions=[]\n",
    "\n",
    "    features_lgb = list(train.columns)\n",
    "    feature_importance_df = pd.DataFrame()\n",
    "\n",
    "    for fold_, (trn_idx, val_idx) in enumerate(FOLDs.split(train_data)):\n",
    "        trn_data = lgb.Dataset(train_data[trn_idx], label=target_data[trn_idx])\n",
    "        val_data = lgb.Dataset(train_data[val_idx], label=target_data[val_idx])\n",
    "\n",
    "        print(\"LGB \" + str(fold_) + \"-\" * 50)\n",
    "        num_round = num_round\n",
    "        clf = lgb.train(params, trn_data, num_round, valid_sets = [trn_data, val_data], verbose_eval=verbose_round, \n",
    "                        early_stopping_rounds = early_round)\n",
    "        oof[val_idx] = clf.predict(train_data[val_idx], num_iteration=clf.best_iteration)\n",
    "\n",
    "        fold_importance_df = pd.DataFrame()\n",
    "        fold_importance_df[\"feature\"] = features_lgb\n",
    "        fold_importance_df[\"importance\"] = clf.feature_importance()\n",
    "        fold_importance_df[\"fold\"] = fold_ + 1\n",
    "        feature_importance_df = pd.concat([feature_importance_df, fold_importance_df], axis=0)\n",
    "        predictions += clf.predict(test_data, num_iteration=clf.best_iteration) / FOLDs.n_splits\n",
    "        #predictions.append(clf.predict(test_data, num_iteration=clf.best_iteration))\n",
    "    return oof, predictions, feature_importance_df,params"
   ]
  },
  {
   "cell_type": "code",
   "execution_count": 80,
   "metadata": {
    "colab": {
     "base_uri": "https://localhost:8080/"
    },
    "id": "bqkNMoE0KGRx",
    "outputId": "182f8c96-12d9-4a7f-c9fc-e4fa0cb9b931"
   },
   "outputs": [
    {
     "name": "stdout",
     "output_type": "stream",
     "text": [
      "LGB 0--------------------------------------------------\n",
      "Training until validation scores don't improve for 40 rounds.\n",
      "Early stopping, best iteration is:\n",
      "[40]\ttraining's auc: 0.998354\tvalid_1's auc: 0.984362\n",
      "LGB 1--------------------------------------------------\n",
      "Training until validation scores don't improve for 40 rounds.\n",
      "Early stopping, best iteration is:\n",
      "[127]\ttraining's auc: 1\tvalid_1's auc: 0.986838\n",
      "LGB 2--------------------------------------------------\n",
      "Training until validation scores don't improve for 40 rounds.\n",
      "Early stopping, best iteration is:\n",
      "[109]\ttraining's auc: 0.999964\tvalid_1's auc: 0.991424\n",
      "LGB 3--------------------------------------------------\n",
      "Training until validation scores don't improve for 40 rounds.\n",
      "Early stopping, best iteration is:\n",
      "[119]\ttraining's auc: 1\tvalid_1's auc: 0.9875\n",
      "LGB 4--------------------------------------------------\n",
      "Training until validation scores don't improve for 40 rounds.\n",
      "Early stopping, best iteration is:\n",
      "[106]\ttraining's auc: 1\tvalid_1's auc: 0.987865\n"
     ]
    }
   ],
   "source": [
    "lgb_params={\"objective\":\"binary\",\n",
    "           \"metric\":\"auc\",\n",
    "           \"alpha\":0.08,\n",
    "           \"gamma\":0.06,\n",
    "           \"eta\":0.04,\n",
    "           \"silent\":True}\n",
    "a,b,c,d=get_oof_lgbm(lgb_params,X_train,X_resampled,X_test,y_resampled,num_round=100000, early_round=40, verbose_round=600, N_SPLITS=5, random_state=0)\n",
    "\n",
    "predictions_lgbm2=b"
   ]
  },
  {
   "cell_type": "code",
   "execution_count": 81,
   "metadata": {
    "colab": {
     "base_uri": "https://localhost:8080/"
    },
    "id": "WMJ0OjZ4j1ut",
    "outputId": "858946db-c868-469e-bd32-caa1023042a1"
   },
   "outputs": [
    {
     "name": "stdout",
     "output_type": "stream",
     "text": [
      "정확도 : 0.95, 정밀도 : 0.97, 재현율 : 0.94\n",
      "f1-score : 0.95, auc : 0.95\n"
     ]
    }
   ],
   "source": [
    "## train 예측\n",
    "y_hat = np.where(a < 0.5, 0, 1)\n",
    "metrics(y_resampled,y_hat)"
   ]
  },
  {
   "cell_type": "code",
   "execution_count": 82,
   "metadata": {
    "colab": {
     "base_uri": "https://localhost:8080/"
    },
    "id": "o99N9_InKGRx",
    "outputId": "c3951a53-0bcc-4a82-d780-ba8c6c7e1664"
   },
   "outputs": [
    {
     "name": "stdout",
     "output_type": "stream",
     "text": [
      "샘플링 이후\n",
      "정확도 : 0.90, 정밀도 : 0.93, 재현율 : 0.96\n",
      "f1-score : 0.94, auc : 0.81\n"
     ]
    }
   ],
   "source": [
    "## test 예측\n",
    "y_hat = np.where(b < 0.5, 0, 1)  \n",
    "print(\"샘플링 이후\")\n",
    "metrics(y_test,y_hat)"
   ]
  },
  {
   "cell_type": "code",
   "execution_count": 83,
   "metadata": {
    "id": "RhXIBZlPKGRx"
   },
   "outputs": [],
   "source": [
    "lgb_FI=c.sort_values(by=[\"fold\", \"importance\"], ascending=[False, False]).groupby(\"fold\").head(10)"
   ]
  },
  {
   "cell_type": "code",
   "execution_count": 84,
   "metadata": {
    "colab": {
     "base_uri": "https://localhost:8080/",
     "height": 432
    },
    "id": "OiWnV-HHKGRx",
    "outputId": "eb90feea-f982-47e1-a47d-8cde2d11b6ae"
   },
   "outputs": [
    {
     "data": {
      "text/html": [
       "<div>\n",
       "<style scoped>\n",
       "    .dataframe tbody tr th:only-of-type {\n",
       "        vertical-align: middle;\n",
       "    }\n",
       "\n",
       "    .dataframe tbody tr th {\n",
       "        vertical-align: top;\n",
       "    }\n",
       "\n",
       "    .dataframe thead th {\n",
       "        text-align: right;\n",
       "    }\n",
       "</style>\n",
       "<table border=\"1\" class=\"dataframe\">\n",
       "  <thead>\n",
       "    <tr style=\"text-align: right;\">\n",
       "      <th></th>\n",
       "      <th>feature</th>\n",
       "      <th>importance</th>\n",
       "      <th>fold</th>\n",
       "    </tr>\n",
       "  </thead>\n",
       "  <tbody>\n",
       "    <tr>\n",
       "      <th>5</th>\n",
       "      <td>뉴스</td>\n",
       "      <td>457.400000</td>\n",
       "      <td>3.000000</td>\n",
       "    </tr>\n",
       "    <tr>\n",
       "      <th>9</th>\n",
       "      <td>스크린수</td>\n",
       "      <td>431.800000</td>\n",
       "      <td>3.000000</td>\n",
       "    </tr>\n",
       "    <tr>\n",
       "      <th>12</th>\n",
       "      <td>평점</td>\n",
       "      <td>359.400000</td>\n",
       "      <td>3.000000</td>\n",
       "    </tr>\n",
       "    <tr>\n",
       "      <th>3</th>\n",
       "      <td>경쟁 영화수</td>\n",
       "      <td>310.800000</td>\n",
       "      <td>3.000000</td>\n",
       "    </tr>\n",
       "    <tr>\n",
       "      <th>8</th>\n",
       "      <td>상영시간</td>\n",
       "      <td>199.000000</td>\n",
       "      <td>3.000000</td>\n",
       "    </tr>\n",
       "    <tr>\n",
       "      <th>1</th>\n",
       "      <td>개봉월</td>\n",
       "      <td>161.800000</td>\n",
       "      <td>3.000000</td>\n",
       "    </tr>\n",
       "    <tr>\n",
       "      <th>7</th>\n",
       "      <td>등급</td>\n",
       "      <td>118.000000</td>\n",
       "      <td>3.500000</td>\n",
       "    </tr>\n",
       "    <tr>\n",
       "      <th>2</th>\n",
       "      <td>겨울</td>\n",
       "      <td>80.000000</td>\n",
       "      <td>2.333333</td>\n",
       "    </tr>\n",
       "    <tr>\n",
       "      <th>6</th>\n",
       "      <td>드라마</td>\n",
       "      <td>75.000000</td>\n",
       "      <td>3.500000</td>\n",
       "    </tr>\n",
       "    <tr>\n",
       "      <th>10</th>\n",
       "      <td>액션</td>\n",
       "      <td>74.666667</td>\n",
       "      <td>4.000000</td>\n",
       "    </tr>\n",
       "    <tr>\n",
       "      <th>4</th>\n",
       "      <td>국적</td>\n",
       "      <td>71.200000</td>\n",
       "      <td>3.000000</td>\n",
       "    </tr>\n",
       "    <tr>\n",
       "      <th>11</th>\n",
       "      <td>요일</td>\n",
       "      <td>40.000000</td>\n",
       "      <td>2.000000</td>\n",
       "    </tr>\n",
       "    <tr>\n",
       "      <th>0</th>\n",
       "      <td>가을</td>\n",
       "      <td>25.000000</td>\n",
       "      <td>1.000000</td>\n",
       "    </tr>\n",
       "  </tbody>\n",
       "</table>\n",
       "</div>"
      ],
      "text/plain": [
       "   feature  importance      fold\n",
       "5       뉴스  457.400000  3.000000\n",
       "9     스크린수  431.800000  3.000000\n",
       "12      평점  359.400000  3.000000\n",
       "3   경쟁 영화수  310.800000  3.000000\n",
       "8     상영시간  199.000000  3.000000\n",
       "1      개봉월  161.800000  3.000000\n",
       "7       등급  118.000000  3.500000\n",
       "2       겨울   80.000000  2.333333\n",
       "6      드라마   75.000000  3.500000\n",
       "10      액션   74.666667  4.000000\n",
       "4       국적   71.200000  3.000000\n",
       "11      요일   40.000000  2.000000\n",
       "0       가을   25.000000  1.000000"
      ]
     },
     "execution_count": 84,
     "metadata": {
      "tags": []
     },
     "output_type": "execute_result"
    }
   ],
   "source": [
    "a=lgb_FI.groupby(\"feature\",as_index=False).mean().sort_values(by=[\"importance\"],ascending=False)\n",
    "a"
   ]
  },
  {
   "cell_type": "code",
   "execution_count": 85,
   "metadata": {
    "colab": {
     "base_uri": "https://localhost:8080/",
     "height": 877
    },
    "id": "rUX-lRr_KGRx",
    "outputId": "b7d10554-7e6f-4b0a-85e1-20f11997aa58"
   },
   "outputs": [
    {
     "data": {
      "image/png": "[encoded data removed]",
      "text/plain": [
       "<Figure size 1440x1080 with 1 Axes>"
      ]
     },
     "metadata": {
      "tags": []
     },
     "output_type": "display_data"
    }
   ],
   "source": [
    "fig = plt.figure(figsize=(20, 15))\n",
    "fig.patch.set_facecolor('xkcd:white')\n",
    "sns.barplot(y='importance',x='feature', data=a)\n",
    "plt.show()"
   ]
  },
  {
   "cell_type": "code",
   "execution_count": 86,
   "metadata": {
    "colab": {
     "base_uri": "https://localhost:8080/"
    },
    "id": "cI_dqEIcKGRy",
    "outputId": "c4eb161f-3fc4-47df-b9b7-87cf8c82f14f"
   },
   "outputs": [
    {
     "name": "stdout",
     "output_type": "stream",
     "text": [
      "[[ 13  10]\n",
      " [  3 100]]\n",
      "샘플링 이후\n",
      "[[15  8]\n",
      " [ 4 99]]\n"
     ]
    }
   ],
   "source": [
    "from sklearn.metrics import confusion_matrix\n",
    "\n",
    "cf1 = confusion_matrix(y_test, np.where(predictions_lgbm1 < 0.5, 0, 1))\n",
    "cf = confusion_matrix(y_test, np.where(predictions_lgbm2 < 0.5, 0, 1))\n",
    "print(cf1)\n",
    "print(\"샘플링 이후\")\n",
    "print(cf)"
   ]
  },
  {
   "cell_type": "markdown",
   "metadata": {
    "id": "Y5aFDbjDFzrN"
   },
   "source": [
    "## Classification, 500만 기준"
   ]
  },
  {
   "cell_type": "code",
   "execution_count": 87,
   "metadata": {
    "id": "EWSLqQTXAIiU"
   },
   "outputs": [],
   "source": [
    "def profit(x):\n",
    "  if x>5000000:\n",
    "    return 0    #흥행 성공\n",
    "  else: \n",
    "    return 1    #흥행 실패\n",
    "\n",
    "data['profit'] = data['누적관객수'].apply(profit)\n",
    "#data['profit'] = data['profit'].astype('category')"
   ]
  },
  {
   "cell_type": "code",
   "execution_count": 88,
   "metadata": {
    "colab": {
     "base_uri": "https://localhost:8080/"
    },
    "id": "-K6UiwuE6Ltm",
    "outputId": "7787699b-c840-49d6-8b76-bc557973ad14"
   },
   "outputs": [
    {
     "data": {
      "text/plain": [
       "1    564\n",
       "0     66\n",
       "Name: profit, dtype: int64"
      ]
     },
     "execution_count": 88,
     "metadata": {
      "tags": []
     },
     "output_type": "execute_result"
    }
   ],
   "source": [
    "data['profit'].value_counts()"
   ]
  },
  {
   "cell_type": "code",
   "execution_count": 89,
   "metadata": {
    "colab": {
     "base_uri": "https://localhost:8080/",
     "height": 261
    },
    "id": "R-qeshjczevh",
    "outputId": "7d35692e-c57e-4a83-f9a9-0854c6634eac"
   },
   "outputs": [
    {
     "data": {
      "image/png": "[encoded data removed]",
      "text/plain": [
       "<Figure size 432x288 with 1 Axes>"
      ]
     },
     "metadata": {
      "needs_background": "light",
      "tags": []
     },
     "output_type": "display_data"
    }
   ],
   "source": [
    "data['profit'].value_counts().plot(kind='bar')\n",
    "plt.show()"
   ]
  },
  {
   "cell_type": "code",
   "execution_count": 90,
   "metadata": {
    "id": "uJMMXwgn2eKw"
   },
   "outputs": [],
   "source": [
    "input_var=['평점', '뉴스', '경쟁 영화수', '상영시간', '국적',\n",
    "       '배급사', '등급', '개봉월', '요일', '주말', '애니메이션', '액션', '드라마', '코미디', '범죄',\n",
    "       '멜로/로맨스', '스릴러', '공포', '판타지', '미스터리', '모험', 'SF', '가족', '뮤지컬', '공연',\n",
    "       '전쟁', '다큐멘터리', '사극', '느와르', '스크린수', '겨울', '봄', '여름', '가을']\n",
    "target=['profit']"
   ]
  },
  {
   "cell_type": "code",
   "execution_count": 91,
   "metadata": {
    "id": "yo2wibt22pEu"
   },
   "outputs": [],
   "source": [
    "train=data[input_var]\n",
    "test=data[target]\n",
    "\n",
    "X_train, X_test, y_train, y_test = train_test_split(train, test, test_size = 0.2, random_state= 42)"
   ]
  },
  {
   "cell_type": "code",
   "execution_count": 92,
   "metadata": {
    "colab": {
     "base_uri": "https://localhost:8080/"
    },
    "id": "IunwUlGztHmg",
    "outputId": "d6e66003-55ce-4a51-d72b-d08f43b7123d"
   },
   "outputs": [
    {
     "data": {
      "text/plain": [
       "1    452\n",
       "0     52\n",
       "Name: profit, dtype: int64"
      ]
     },
     "execution_count": 92,
     "metadata": {
      "tags": []
     },
     "output_type": "execute_result"
    }
   ],
   "source": [
    "y_train['profit'].value_counts()"
   ]
  },
  {
   "cell_type": "code",
   "execution_count": 93,
   "metadata": {
    "colab": {
     "base_uri": "https://localhost:8080/"
    },
    "id": "TyiRvBl10vbe",
    "outputId": "fb2be80c-d6ff-4dca-cf7d-5747a521ff00"
   },
   "outputs": [
    {
     "name": "stdout",
     "output_type": "stream",
     "text": [
      "SMOTE 적용 전 학습용 피처/레이블 데이터 세트:  (504, 34) (504, 1)\n",
      "SMOTE 적용 후 학습용 피처/레이블 데이터 세트:  (904, 34) (904,)\n",
      "SMOTE 적용 후 레이블 값 분포: \n",
      " 1    452\n",
      "0    452\n",
      "dtype: int64\n"
     ]
    }
   ],
   "source": [
    "from imblearn.over_sampling import SMOTE\n",
    "\n",
    "smote = SMOTE(random_state=0)\n",
    "X_resampled,y_resampled = smote.fit_sample(X_train,y_train)\n",
    "x_test=np.array(X_test)\n",
    "\n",
    "print('SMOTE 적용 전 학습용 피처/레이블 데이터 세트: ', X_train.shape, y_train.shape)\n",
    "print('SMOTE 적용 후 학습용 피처/레이블 데이터 세트: ', X_resampled.shape, y_resampled.shape)\n",
    "print('SMOTE 적용 후 레이블 값 분포: \\n', pd.Series(y_resampled).value_counts())"
   ]
  },
  {
   "cell_type": "markdown",
   "metadata": {
    "id": "wLu8L9LvMgK2"
   },
   "source": [
    "## LogisticRegression"
   ]
  },
  {
   "cell_type": "code",
   "execution_count": 94,
   "metadata": {
    "colab": {
     "base_uri": "https://localhost:8080/"
    },
    "id": "095rPafwkRj_",
    "outputId": "5ab04b01-2161-4a6a-b2f1-a4483915859c"
   },
   "outputs": [
    {
     "name": "stdout",
     "output_type": "stream",
     "text": [
      "KFold(n_splits=5, random_state=0, shuffle=True)\n"
     ]
    }
   ],
   "source": [
    "from sklearn.linear_model import LogisticRegression\n",
    "\n",
    "lr = LogisticRegression()\n",
    "kf=KFold(n_splits=5,random_state=0,shuffle=True)\n",
    "print(kf)"
   ]
  },
  {
   "cell_type": "code",
   "execution_count": 95,
   "metadata": {
    "id": "f3heH1RdkRkA"
   },
   "outputs": [],
   "source": [
    "pradication=[]\n",
    "for train,test in kf.split(X_train):\n",
    "    train_data=X_train.iloc[train]\n",
    "    train_prad=y_train.iloc[train]\n",
    "    lr.fit(train_data,train_prad)\n",
    "    test_prad=lr.predict(X_train.iloc[test])\n",
    "    pradication.append(test_prad)"
   ]
  },
  {
   "cell_type": "code",
   "execution_count": 96,
   "metadata": {
    "id": "yd8DhhBbkRkA"
   },
   "outputs": [],
   "source": [
    "pradication=np.concatenate(pradication,axis=0)\n",
    "pradication[pradication>=0.5]=1\n",
    "pradication[pradication<0.5]=0"
   ]
  },
  {
   "cell_type": "code",
   "execution_count": 97,
   "metadata": {
    "colab": {
     "base_uri": "https://localhost:8080/"
    },
    "id": "vp9L5hGskRkB",
    "outputId": "cec74b40-48f3-47d1-b180-72aa5669b8d5"
   },
   "outputs": [
    {
     "name": "stdout",
     "output_type": "stream",
     "text": [
      "정확도 : 0.85, 정밀도 : 0.90, 재현율 : 0.94\n",
      "f1-score : 0.92, auc : 0.51\n"
     ]
    }
   ],
   "source": [
    "## train 예측\n",
    "metrics(y_train,pradication)"
   ]
  },
  {
   "cell_type": "code",
   "execution_count": 98,
   "metadata": {
    "colab": {
     "base_uri": "https://localhost:8080/"
    },
    "id": "savzkWpIkRkB",
    "outputId": "54998733-ca55-4ed2-b19a-05bdcbf97a73"
   },
   "outputs": [
    {
     "name": "stdout",
     "output_type": "stream",
     "text": [
      "정확도 : 0.93, 정밀도 : 0.94, 재현율 : 0.98\n",
      "f1-score : 0.96, auc : 0.74\n"
     ]
    }
   ],
   "source": [
    "## test 예측\n",
    "lr.fit(X_train,y_train)\n",
    "prediction = lr.predict(X_test)\n",
    "metrics(y_test,prediction)"
   ]
  },
  {
   "cell_type": "code",
   "execution_count": 99,
   "metadata": {
    "id": "0BnfO23JkRkB"
   },
   "outputs": [],
   "source": [
    "## 샘플링 이후\n",
    "pradication=[]\n",
    "for train,test in kf.split(X_resampled):\n",
    "    train_data=X_resampled[train]\n",
    "    train_prad=y_resampled[train]\n",
    "    lr.fit(train_data,train_prad)\n",
    "    test_prad=lr.predict(X_resampled[test])\n",
    "    pradication.append(test_prad)"
   ]
  },
  {
   "cell_type": "code",
   "execution_count": 100,
   "metadata": {
    "id": "GDyqvdsHkRkC"
   },
   "outputs": [],
   "source": [
    "pradication=np.concatenate(pradication,axis=0)\n",
    "pradication[pradication>=0.5]=1\n",
    "pradication[pradication<0.5]=0"
   ]
  },
  {
   "cell_type": "code",
   "execution_count": 101,
   "metadata": {
    "colab": {
     "base_uri": "https://localhost:8080/"
    },
    "id": "JtVt1KEgkRkC",
    "outputId": "6c9e0c77-c57d-4506-85d8-06b90bd0ece4"
   },
   "outputs": [
    {
     "name": "stdout",
     "output_type": "stream",
     "text": [
      "정확도 : 0.55, 정밀도 : 0.55, 재현율 : 0.51\n",
      "f1-score : 0.53, auc : 0.55\n"
     ]
    }
   ],
   "source": [
    "## train 예측\n",
    "metrics(y_resampled,pradication)"
   ]
  },
  {
   "cell_type": "code",
   "execution_count": 102,
   "metadata": {
    "colab": {
     "base_uri": "https://localhost:8080/"
    },
    "id": "qDVIdqW5kRkC",
    "outputId": "c7f3d6fa-c9e7-45ba-c58d-9cbc8a33580f"
   },
   "outputs": [
    {
     "name": "stdout",
     "output_type": "stream",
     "text": [
      "정확도 : 0.84, 정밀도 : 0.98, 재현율 : 0.84\n",
      "f1-score : 0.90, auc : 0.85\n"
     ]
    }
   ],
   "source": [
    "## test 예측\n",
    "lr.fit(X_resampled,y_resampled)\n",
    "prediction1 = lr.predict(X_test)\n",
    "metrics(y_test,prediction1)"
   ]
  },
  {
   "cell_type": "code",
   "execution_count": 103,
   "metadata": {
    "colab": {
     "base_uri": "https://localhost:8080/"
    },
    "id": "uarC6iLNox0Z",
    "outputId": "3d0b3351-9329-4229-f992-57a86e9e0e3f"
   },
   "outputs": [
    {
     "name": "stdout",
     "output_type": "stream",
     "text": [
      "[[  7   7]\n",
      " [  2 110]]\n",
      "샘플링 이후\n",
      "[[12  2]\n",
      " [18 94]]\n"
     ]
    }
   ],
   "source": [
    "from sklearn.metrics import confusion_matrix\n",
    "\n",
    "cf1 = confusion_matrix(y_test, prediction)\n",
    "cf = confusion_matrix(y_test,prediction1)\n",
    "print(cf1)\n",
    "print(\"샘플링 이후\")\n",
    "print(cf)"
   ]
  },
  {
   "cell_type": "markdown",
   "metadata": {
    "id": "EjDzLnMRM0at"
   },
   "source": [
    "## GradientBoostingClassifier"
   ]
  },
  {
   "cell_type": "code",
   "execution_count": 104,
   "metadata": {
    "colab": {
     "base_uri": "https://localhost:8080/"
    },
    "id": "Kt-2KR-K4Z7_",
    "outputId": "625f30e5-882a-48f5-e9a0-84f0bd324fca"
   },
   "outputs": [
    {
     "name": "stdout",
     "output_type": "stream",
     "text": [
      "정확도 : 0.92, 정밀도 : 0.94, 재현율 : 0.97\n",
      "f1-score : 0.96, auc : 0.74\n",
      "샘플링 이후\n",
      "정확도 : 0.93, 정밀도 : 0.96, 재현율 : 0.96\n",
      "f1-score : 0.96, auc : 0.80\n"
     ]
    }
   ],
   "source": [
    "from sklearn.ensemble import GradientBoostingClassifier\n",
    "\n",
    "GBC = GradientBoostingClassifier(criterion='friedman_mse', init=None,\n",
    "              learning_rate=0.3118602206821891, loss='exponential',\n",
    "             max_depth=18, max_features=None, max_leaf_nodes=None,\n",
    "              min_impurity_decrease=0.0, min_impurity_split=None,\n",
    "             min_samples_leaf=1, min_samples_split=0.8853376596095855,\n",
    "             min_weight_fraction_leaf=0.0, n_estimators=125,\n",
    "             n_iter_no_change=None, presort='auto', random_state=0,\n",
    "              subsample=0.9527916569719446, tol=0.0001,\n",
    "             validation_fraction=0.1, verbose=0, warm_start=False)\n",
    "\n",
    "modeling(GBC,X_train,X_test, y_train,y_test)\n",
    "print(\"샘플링 이후\")\n",
    "GBC_pred=modeling(GBC,X_resampled,X_test, y_resampled,y_test)"
   ]
  },
  {
   "cell_type": "markdown",
   "metadata": {
    "id": "gTZKXecvM8eb"
   },
   "source": [
    "## XGBoost"
   ]
  },
  {
   "cell_type": "code",
   "execution_count": 105,
   "metadata": {
    "id": "ub_thxvmuAaN"
   },
   "outputs": [],
   "source": [
    "## 샘플링 이전\n",
    "import xgboost as xgb\n",
    "def get_oof_xgb(params, train_data, test_data, target_data, num_round, early_round, verbose_round, N_SPLITS=5, random_state=0):\n",
    "\n",
    "    FOLDs=KFold(n_splits=N_SPLITS, shuffle=True,random_state=0)\n",
    "\n",
    "    oof = np.zeros(len(train_data))\n",
    "    predictions = np.zeros(len(test_data))\n",
    "    #predictions=[]\n",
    "\n",
    "    feature_importance_df = pd.DataFrame()\n",
    "\n",
    "    best_iters = []\n",
    "    for fold_, (trn_idx, val_idx) in enumerate(FOLDs.split(train_data)):\n",
    "        trn_data = xgb.DMatrix(train_data.iloc[trn_idx], label=target_data.iloc[trn_idx])\n",
    "        val_data = xgb.DMatrix(train_data.iloc[val_idx], label=target_data.iloc[val_idx])\n",
    "        print(\"xgb \" + str(fold_) + \"-\" * 50)\n",
    "\n",
    "        watchlist = [(trn_data, 'train'), (val_data, 'valid')]\n",
    "        print(\"xgb \" + str(fold_) + \"-\" * 50)\n",
    "        num_round = num_round\n",
    "        xgb_model = xgb.train(params, trn_data, num_round, watchlist, \n",
    "                              early_stopping_rounds=early_round, verbose_eval=verbose_round)\n",
    "        oof[val_idx] = xgb_model.predict(xgb.DMatrix(train_data.iloc[val_idx]), \n",
    "                                             ntree_limit=xgb_model.best_ntree_limit)\n",
    "\n",
    "        predictions += xgb_model.predict(xgb.DMatrix(test_data), \n",
    "                                             ntree_limit=xgb_model.best_ntree_limit) / FOLDs.n_splits\n",
    "        #predictions.append(xgb_model.predict(xgb.DMatrix(test_data),ntree_limit=xgb_model.best_ntree_limit))\n",
    "        \n",
    "        fold_importance_df = pd.DataFrame([xgb_model.get_score()]).T.reset_index()\n",
    "        fold_importance_df.columns = ['feature', 'importance']\n",
    "        fold_importance_df[\"fold\"] = fold_ + 1\n",
    "        feature_importance_df = pd.concat([feature_importance_df, fold_importance_df], axis=0)\n",
    "        best_iters.append(xgb_model.best_ntree_limit)\n",
    "    return oof, predictions, feature_importance_df, np.mean(best_iters)"
   ]
  },
  {
   "cell_type": "code",
   "execution_count": 106,
   "metadata": {
    "colab": {
     "base_uri": "https://localhost:8080/"
    },
    "id": "htJtrYjZ1-Of",
    "outputId": "84d5b244-25d9-427e-c359-c4239a413fc3"
   },
   "outputs": [
    {
     "name": "stdout",
     "output_type": "stream",
     "text": [
      "xgb 0--------------------------------------------------\n",
      "xgb 0--------------------------------------------------\n",
      "[0]\ttrain-error:0.039702\tvalid-error:0.118812\n",
      "Multiple eval metrics have been passed: 'valid-error' will be used for early stopping.\n",
      "\n",
      "Will train until valid-error hasn't improved in 400 rounds.\n",
      "[500]\ttrain-error:0\tvalid-error:0.069307\n",
      "Stopping. Best iteration:\n",
      "[425]\ttrain-error:0\tvalid-error:0.069307\n",
      "\n",
      "xgb 1--------------------------------------------------\n",
      "xgb 1--------------------------------------------------\n",
      "[0]\ttrain-error:0.042184\tvalid-error:0.049505\n",
      "Multiple eval metrics have been passed: 'valid-error' will be used for early stopping.\n",
      "\n",
      "Will train until valid-error hasn't improved in 400 rounds.\n",
      "Stopping. Best iteration:\n",
      "[37]\ttrain-error:0.022333\tvalid-error:0.029703\n",
      "\n",
      "xgb 2--------------------------------------------------\n",
      "xgb 2--------------------------------------------------\n",
      "[0]\ttrain-error:0.039702\tvalid-error:0.039604\n",
      "Multiple eval metrics have been passed: 'valid-error' will be used for early stopping.\n",
      "\n",
      "Will train until valid-error hasn't improved in 400 rounds.\n",
      "Stopping. Best iteration:\n",
      "[0]\ttrain-error:0.039702\tvalid-error:0.039604\n",
      "\n",
      "xgb 3--------------------------------------------------\n",
      "xgb 3--------------------------------------------------\n",
      "[0]\ttrain-error:0.052109\tvalid-error:0.079208\n",
      "Multiple eval metrics have been passed: 'valid-error' will be used for early stopping.\n",
      "\n",
      "Will train until valid-error hasn't improved in 400 rounds.\n",
      "Stopping. Best iteration:\n",
      "[3]\ttrain-error:0.047146\tvalid-error:0.069307\n",
      "\n",
      "xgb 4--------------------------------------------------\n",
      "xgb 4--------------------------------------------------\n",
      "[0]\ttrain-error:0.044554\tvalid-error:0.14\n",
      "Multiple eval metrics have been passed: 'valid-error' will be used for early stopping.\n",
      "\n",
      "Will train until valid-error hasn't improved in 400 rounds.\n",
      "Stopping. Best iteration:\n",
      "[15]\ttrain-error:0.034653\tvalid-error:0.11\n",
      "\n"
     ]
    }
   ],
   "source": [
    "xgb_params={\"objective\":\"binary:logistic\",\n",
    "           \"eval_metric\":\"error\",\n",
    "           \"alpha\":0.08,\n",
    "           \"gamma\":0.06,\n",
    "           \"eta\":0.04}\n",
    "a,b,c,d=get_oof_xgb(xgb_params, X_train,X_test,y_train, num_round=100000, early_round=400, verbose_round=500, N_SPLITS=5, random_state=0)\n",
    "\n",
    "predictions_xgb=b"
   ]
  },
  {
   "cell_type": "code",
   "execution_count": 107,
   "metadata": {
    "colab": {
     "base_uri": "https://localhost:8080/"
    },
    "id": "yu0Yh9tgNaug",
    "outputId": "cb142759-a00a-471a-b02e-e64a849624d3"
   },
   "outputs": [
    {
     "name": "stdout",
     "output_type": "stream",
     "text": [
      "정확도 : 0.93, 정밀도 : 0.95, 재현율 : 0.98\n",
      "f1-score : 0.96, auc : 0.77\n"
     ]
    }
   ],
   "source": [
    "## train 예측\n",
    "y_hat = np.where(a < 0.5, 0, 1)\n",
    "metrics(y_train,y_hat)"
   ]
  },
  {
   "cell_type": "code",
   "execution_count": 108,
   "metadata": {
    "colab": {
     "base_uri": "https://localhost:8080/"
    },
    "id": "BjPr0RJI_vz8",
    "outputId": "b5c44558-4a8b-4b90-a657-f4c91ffcf8f4"
   },
   "outputs": [
    {
     "name": "stdout",
     "output_type": "stream",
     "text": [
      "샘플링 이전\n",
      "정확도 : 0.92, 정밀도 : 0.94, 재현율 : 0.97\n",
      "f1-score : 0.96, auc : 0.74\n"
     ]
    }
   ],
   "source": [
    "## test 예측\n",
    "y_hat = np.where(predictions_xgb < 0.5, 0, 1)\n",
    "print(\"샘플링 이전\")  \n",
    "metrics(y_test,y_hat)"
   ]
  },
  {
   "cell_type": "code",
   "execution_count": 109,
   "metadata": {
    "id": "WqjAb_NrHCXj"
   },
   "outputs": [],
   "source": [
    "xgb_FI=c.sort_values(by=[\"fold\", \"importance\"], ascending=[False, False]).groupby(\"fold\").head(10)"
   ]
  },
  {
   "cell_type": "code",
   "execution_count": 110,
   "metadata": {
    "colab": {
     "base_uri": "https://localhost:8080/",
     "height": 462
    },
    "id": "m_QFNOJ-HCXj",
    "outputId": "b4c6d13c-1a1e-45e3-c497-adea22cc066f"
   },
   "outputs": [
    {
     "data": {
      "text/html": [
       "<div>\n",
       "<style scoped>\n",
       "    .dataframe tbody tr th:only-of-type {\n",
       "        vertical-align: middle;\n",
       "    }\n",
       "\n",
       "    .dataframe tbody tr th {\n",
       "        vertical-align: top;\n",
       "    }\n",
       "\n",
       "    .dataframe thead th {\n",
       "        text-align: right;\n",
       "    }\n",
       "</style>\n",
       "<table border=\"1\" class=\"dataframe\">\n",
       "  <thead>\n",
       "    <tr style=\"text-align: right;\">\n",
       "      <th></th>\n",
       "      <th>feature</th>\n",
       "      <th>importance</th>\n",
       "      <th>fold</th>\n",
       "    </tr>\n",
       "  </thead>\n",
       "  <tbody>\n",
       "    <tr>\n",
       "      <th>5</th>\n",
       "      <td>뉴스</td>\n",
       "      <td>541.8</td>\n",
       "      <td>3.0</td>\n",
       "    </tr>\n",
       "    <tr>\n",
       "      <th>9</th>\n",
       "      <td>스크린수</td>\n",
       "      <td>373.2</td>\n",
       "      <td>3.0</td>\n",
       "    </tr>\n",
       "    <tr>\n",
       "      <th>8</th>\n",
       "      <td>상영시간</td>\n",
       "      <td>368.4</td>\n",
       "      <td>3.0</td>\n",
       "    </tr>\n",
       "    <tr>\n",
       "      <th>13</th>\n",
       "      <td>평점</td>\n",
       "      <td>343.0</td>\n",
       "      <td>3.0</td>\n",
       "    </tr>\n",
       "    <tr>\n",
       "      <th>3</th>\n",
       "      <td>경쟁 영화수</td>\n",
       "      <td>341.0</td>\n",
       "      <td>3.0</td>\n",
       "    </tr>\n",
       "    <tr>\n",
       "      <th>1</th>\n",
       "      <td>개봉월</td>\n",
       "      <td>185.8</td>\n",
       "      <td>3.0</td>\n",
       "    </tr>\n",
       "    <tr>\n",
       "      <th>10</th>\n",
       "      <td>액션</td>\n",
       "      <td>136.6</td>\n",
       "      <td>3.0</td>\n",
       "    </tr>\n",
       "    <tr>\n",
       "      <th>4</th>\n",
       "      <td>국적</td>\n",
       "      <td>77.8</td>\n",
       "      <td>3.0</td>\n",
       "    </tr>\n",
       "    <tr>\n",
       "      <th>7</th>\n",
       "      <td>등급</td>\n",
       "      <td>59.5</td>\n",
       "      <td>3.5</td>\n",
       "    </tr>\n",
       "    <tr>\n",
       "      <th>11</th>\n",
       "      <td>여름</td>\n",
       "      <td>52.0</td>\n",
       "      <td>3.0</td>\n",
       "    </tr>\n",
       "    <tr>\n",
       "      <th>12</th>\n",
       "      <td>요일</td>\n",
       "      <td>44.0</td>\n",
       "      <td>1.0</td>\n",
       "    </tr>\n",
       "    <tr>\n",
       "      <th>6</th>\n",
       "      <td>드라마</td>\n",
       "      <td>42.5</td>\n",
       "      <td>3.0</td>\n",
       "    </tr>\n",
       "    <tr>\n",
       "      <th>2</th>\n",
       "      <td>겨울</td>\n",
       "      <td>39.0</td>\n",
       "      <td>1.0</td>\n",
       "    </tr>\n",
       "    <tr>\n",
       "      <th>0</th>\n",
       "      <td>가을</td>\n",
       "      <td>32.0</td>\n",
       "      <td>5.0</td>\n",
       "    </tr>\n",
       "  </tbody>\n",
       "</table>\n",
       "</div>"
      ],
      "text/plain": [
       "   feature  importance  fold\n",
       "5       뉴스       541.8   3.0\n",
       "9     스크린수       373.2   3.0\n",
       "8     상영시간       368.4   3.0\n",
       "13      평점       343.0   3.0\n",
       "3   경쟁 영화수       341.0   3.0\n",
       "1      개봉월       185.8   3.0\n",
       "10      액션       136.6   3.0\n",
       "4       국적        77.8   3.0\n",
       "7       등급        59.5   3.5\n",
       "11      여름        52.0   3.0\n",
       "12      요일        44.0   1.0\n",
       "6      드라마        42.5   3.0\n",
       "2       겨울        39.0   1.0\n",
       "0       가을        32.0   5.0"
      ]
     },
     "execution_count": 110,
     "metadata": {
      "tags": []
     },
     "output_type": "execute_result"
    }
   ],
   "source": [
    "a=xgb_FI.groupby(\"feature\",as_index=False).mean().sort_values(by=[\"importance\"],ascending=False)\n",
    "a"
   ]
  },
  {
   "cell_type": "code",
   "execution_count": 111,
   "metadata": {
    "colab": {
     "base_uri": "https://localhost:8080/",
     "height": 877
    },
    "id": "dXn_t3L2HCXk",
    "outputId": "37f05ac8-87cc-4276-cd42-47fd719485b8"
   },
   "outputs": [
    {
     "data": {
      "image/png": "[encoded data removed]",
      "text/plain": [
       "<Figure size 1440x1080 with 1 Axes>"
      ]
     },
     "metadata": {
      "tags": []
     },
     "output_type": "display_data"
    }
   ],
   "source": [
    "fig = plt.figure(figsize=(20, 15))\n",
    "fig.patch.set_facecolor('xkcd:white')\n",
    "sns.barplot(y='importance',x='feature', data=a)\n",
    "plt.show()"
   ]
  },
  {
   "cell_type": "code",
   "execution_count": 112,
   "metadata": {
    "id": "mnVWmZhx_Z39"
   },
   "outputs": [],
   "source": [
    "## 샘플링 이후\n",
    "import xgboost as xgb\n",
    "def get_oof_xgb(params, train_data, test_data, target_data, num_round, early_round, verbose_round, N_SPLITS=5, random_state=0):\n",
    "\n",
    "    FOLDs=KFold(n_splits=N_SPLITS, shuffle=True,random_state=0)\n",
    "\n",
    "    oof = np.zeros(len(train_data))\n",
    "    predictions = np.zeros(len(test_data))\n",
    "    #predictions=[]\n",
    "\n",
    "    feature_importance_df = pd.DataFrame()\n",
    "\n",
    "    best_iters = []\n",
    "    for fold_, (trn_idx, val_idx) in enumerate(FOLDs.split(train_data)):\n",
    "        trn_data = xgb.DMatrix(train_data[trn_idx], label=target_data[trn_idx])\n",
    "        val_data = xgb.DMatrix(train_data[val_idx], label=target_data[val_idx])\n",
    "        print(\"xgb \" + str(fold_) + \"-\" * 50)\n",
    "\n",
    "        watchlist = [(trn_data, 'train'), (val_data, 'valid')]\n",
    "        print(\"xgb \" + str(fold_) + \"-\" * 50)\n",
    "        num_round = num_round\n",
    "        xgb_model = xgb.train(params, trn_data, num_round, watchlist, \n",
    "                              early_stopping_rounds=early_round, verbose_eval=verbose_round)\n",
    "        oof[val_idx] = xgb_model.predict(xgb.DMatrix(train_data[val_idx]), \n",
    "                                             ntree_limit=xgb_model.best_ntree_limit)\n",
    "\n",
    "        predictions += xgb_model.predict(xgb.DMatrix(test_data), \n",
    "                                             ntree_limit=xgb_model.best_ntree_limit) / FOLDs.n_splits\n",
    "        #predictions.append(xgb_model.predict(xgb.DMatrix(test_data),ntree_limit=xgb_model.best_ntree_limit))\n",
    "        \n",
    "        fold_importance_df = pd.DataFrame([xgb_model.get_score()]).T.reset_index()\n",
    "        fold_importance_df.columns = ['feature', 'importance']\n",
    "        fold_importance_df[\"fold\"] = fold_ + 1\n",
    "        feature_importance_df = pd.concat([feature_importance_df, fold_importance_df], axis=0)\n",
    "        best_iters.append(xgb_model.best_ntree_limit)\n",
    "    return oof, predictions, feature_importance_df, np.mean(best_iters)"
   ]
  },
  {
   "cell_type": "code",
   "execution_count": 113,
   "metadata": {
    "colab": {
     "base_uri": "https://localhost:8080/"
    },
    "id": "qznf4aw1_MO3",
    "outputId": "780586c5-3b63-459b-de4d-8eb3903045db"
   },
   "outputs": [
    {
     "name": "stdout",
     "output_type": "stream",
     "text": [
      "xgb 0--------------------------------------------------\n",
      "xgb 0--------------------------------------------------\n",
      "[0]\ttrain-error:0.042877\tvalid-error:0.060773\n",
      "Multiple eval metrics have been passed: 'valid-error' will be used for early stopping.\n",
      "\n",
      "Will train until valid-error hasn't improved in 400 rounds.\n",
      "Stopping. Best iteration:\n",
      "[83]\ttrain-error:0.006916\tvalid-error:0.038674\n",
      "\n",
      "xgb 1--------------------------------------------------\n",
      "xgb 1--------------------------------------------------\n",
      "[0]\ttrain-error:0.045643\tvalid-error:0.077348\n",
      "Multiple eval metrics have been passed: 'valid-error' will be used for early stopping.\n",
      "\n",
      "Will train until valid-error hasn't improved in 400 rounds.\n",
      "Stopping. Best iteration:\n",
      "[69]\ttrain-error:0.008299\tvalid-error:0.022099\n",
      "\n",
      "xgb 2--------------------------------------------------\n",
      "xgb 2--------------------------------------------------\n",
      "[0]\ttrain-error:0.053942\tvalid-error:0.093923\n",
      "Multiple eval metrics have been passed: 'valid-error' will be used for early stopping.\n",
      "\n",
      "Will train until valid-error hasn't improved in 400 rounds.\n",
      "[500]\ttrain-error:0\tvalid-error:0.01105\n",
      "Stopping. Best iteration:\n",
      "[169]\ttrain-error:0.002766\tvalid-error:0.01105\n",
      "\n",
      "xgb 3--------------------------------------------------\n",
      "xgb 3--------------------------------------------------\n",
      "[0]\ttrain-error:0.038728\tvalid-error:0.060773\n",
      "Multiple eval metrics have been passed: 'valid-error' will be used for early stopping.\n",
      "\n",
      "Will train until valid-error hasn't improved in 400 rounds.\n",
      "Stopping. Best iteration:\n",
      "[30]\ttrain-error:0.017981\tvalid-error:0.033149\n",
      "\n",
      "xgb 4--------------------------------------------------\n",
      "xgb 4--------------------------------------------------\n",
      "[0]\ttrain-error:0.038674\tvalid-error:0.077778\n",
      "Multiple eval metrics have been passed: 'valid-error' will be used for early stopping.\n",
      "\n",
      "Will train until valid-error hasn't improved in 400 rounds.\n",
      "[500]\ttrain-error:0\tvalid-error:0.022222\n",
      "Stopping. Best iteration:\n",
      "[120]\ttrain-error:0.004144\tvalid-error:0.022222\n",
      "\n"
     ]
    }
   ],
   "source": [
    "xgb_params={\"objective\":\"binary:logistic\",\n",
    "           \"eval_metric\":\"error\",\n",
    "           \"alpha\":0.08,\n",
    "           \"gamma\":0.06,\n",
    "           \"eta\":0.04}\n",
    "a,b,c,d=get_oof_xgb(xgb_params, X_resampled,x_test,y_resampled, num_round=100000, early_round=400, verbose_round=500, N_SPLITS=5, random_state=0)\n",
    "\n",
    "predictions_xgb=b"
   ]
  },
  {
   "cell_type": "code",
   "execution_count": 114,
   "metadata": {
    "colab": {
     "base_uri": "https://localhost:8080/"
    },
    "id": "k86xvrX6N1ak",
    "outputId": "6570d958-dc75-4eb5-c564-5943ad4e3137"
   },
   "outputs": [
    {
     "name": "stdout",
     "output_type": "stream",
     "text": [
      "정확도 : 0.97, 정밀도 : 0.99, 재현율 : 0.96\n",
      "f1-score : 0.97, auc : 0.97\n"
     ]
    }
   ],
   "source": [
    "## train 예측\n",
    "y_hat = np.where(a < 0.5, 0, 1)\n",
    "metrics(y_resampled,y_hat)"
   ]
  },
  {
   "cell_type": "code",
   "execution_count": 115,
   "metadata": {
    "colab": {
     "base_uri": "https://localhost:8080/"
    },
    "id": "R6muZhHz4ceV",
    "outputId": "70fc88ae-672d-418e-ed0b-c38c802d44de"
   },
   "outputs": [
    {
     "name": "stdout",
     "output_type": "stream",
     "text": [
      "샘플링 이후\n",
      "정확도 : 0.92, 정밀도 : 0.96, 재현율 : 0.96\n",
      "f1-score : 0.96, auc : 0.80\n"
     ]
    }
   ],
   "source": [
    "## test 예측\n",
    "y_hat = np.where(predictions_xgb < 0.5, 0, 1)  \n",
    "print(\"샘플링 이후\")  \n",
    "metrics(y_test,y_hat)"
   ]
  },
  {
   "cell_type": "code",
   "execution_count": 116,
   "metadata": {
    "id": "gJ9wQjoWGmkF"
   },
   "outputs": [],
   "source": [
    "xgb_FI=c.sort_values(by=[\"fold\", \"importance\"], ascending=[False, False]).groupby(\"fold\").head(10)"
   ]
  },
  {
   "cell_type": "code",
   "execution_count": 117,
   "metadata": {
    "colab": {
     "base_uri": "https://localhost:8080/",
     "height": 432
    },
    "id": "uYkWqy3lGmkH",
    "outputId": "e2042065-6e1f-4d0d-e7f4-beaf755ffbe8"
   },
   "outputs": [
    {
     "data": {
      "text/html": [
       "<div>\n",
       "<style scoped>\n",
       "    .dataframe tbody tr th:only-of-type {\n",
       "        vertical-align: middle;\n",
       "    }\n",
       "\n",
       "    .dataframe tbody tr th {\n",
       "        vertical-align: top;\n",
       "    }\n",
       "\n",
       "    .dataframe thead th {\n",
       "        text-align: right;\n",
       "    }\n",
       "</style>\n",
       "<table border=\"1\" class=\"dataframe\">\n",
       "  <thead>\n",
       "    <tr style=\"text-align: right;\">\n",
       "      <th></th>\n",
       "      <th>feature</th>\n",
       "      <th>importance</th>\n",
       "      <th>fold</th>\n",
       "    </tr>\n",
       "  </thead>\n",
       "  <tbody>\n",
       "    <tr>\n",
       "      <th>1</th>\n",
       "      <td>f1</td>\n",
       "      <td>572.6</td>\n",
       "      <td>3.0</td>\n",
       "    </tr>\n",
       "    <tr>\n",
       "      <th>6</th>\n",
       "      <td>f3</td>\n",
       "      <td>395.6</td>\n",
       "      <td>3.0</td>\n",
       "    </tr>\n",
       "    <tr>\n",
       "      <th>5</th>\n",
       "      <td>f29</td>\n",
       "      <td>387.8</td>\n",
       "      <td>3.0</td>\n",
       "    </tr>\n",
       "    <tr>\n",
       "      <th>4</th>\n",
       "      <td>f2</td>\n",
       "      <td>343.4</td>\n",
       "      <td>3.0</td>\n",
       "    </tr>\n",
       "    <tr>\n",
       "      <th>0</th>\n",
       "      <td>f0</td>\n",
       "      <td>330.4</td>\n",
       "      <td>3.0</td>\n",
       "    </tr>\n",
       "    <tr>\n",
       "      <th>2</th>\n",
       "      <td>f11</td>\n",
       "      <td>242.2</td>\n",
       "      <td>3.0</td>\n",
       "    </tr>\n",
       "    <tr>\n",
       "      <th>11</th>\n",
       "      <td>f7</td>\n",
       "      <td>200.4</td>\n",
       "      <td>3.0</td>\n",
       "    </tr>\n",
       "    <tr>\n",
       "      <th>9</th>\n",
       "      <td>f4</td>\n",
       "      <td>196.4</td>\n",
       "      <td>3.0</td>\n",
       "    </tr>\n",
       "    <tr>\n",
       "      <th>10</th>\n",
       "      <td>f6</td>\n",
       "      <td>138.6</td>\n",
       "      <td>3.0</td>\n",
       "    </tr>\n",
       "    <tr>\n",
       "      <th>8</th>\n",
       "      <td>f33</td>\n",
       "      <td>130.0</td>\n",
       "      <td>3.0</td>\n",
       "    </tr>\n",
       "    <tr>\n",
       "      <th>3</th>\n",
       "      <td>f12</td>\n",
       "      <td>120.0</td>\n",
       "      <td>4.5</td>\n",
       "    </tr>\n",
       "    <tr>\n",
       "      <th>7</th>\n",
       "      <td>f32</td>\n",
       "      <td>105.0</td>\n",
       "      <td>2.0</td>\n",
       "    </tr>\n",
       "    <tr>\n",
       "      <th>12</th>\n",
       "      <td>f8</td>\n",
       "      <td>81.0</td>\n",
       "      <td>1.0</td>\n",
       "    </tr>\n",
       "  </tbody>\n",
       "</table>\n",
       "</div>"
      ],
      "text/plain": [
       "   feature  importance  fold\n",
       "1       f1       572.6   3.0\n",
       "6       f3       395.6   3.0\n",
       "5      f29       387.8   3.0\n",
       "4       f2       343.4   3.0\n",
       "0       f0       330.4   3.0\n",
       "2      f11       242.2   3.0\n",
       "11      f7       200.4   3.0\n",
       "9       f4       196.4   3.0\n",
       "10      f6       138.6   3.0\n",
       "8      f33       130.0   3.0\n",
       "3      f12       120.0   4.5\n",
       "7      f32       105.0   2.0\n",
       "12      f8        81.0   1.0"
      ]
     },
     "execution_count": 117,
     "metadata": {
      "tags": []
     },
     "output_type": "execute_result"
    }
   ],
   "source": [
    "a=xgb_FI.groupby(\"feature\",as_index=False).mean().sort_values(by=[\"importance\"],ascending=False)\n",
    "a"
   ]
  },
  {
   "cell_type": "code",
   "execution_count": 118,
   "metadata": {
    "colab": {
     "base_uri": "https://localhost:8080/",
     "height": 879
    },
    "id": "LbBYEaBmGmkI",
    "outputId": "5cbdc2fb-fbdd-46dc-9905-ff545a6900c3"
   },
   "outputs": [
    {
     "data": {
      "image/png": "[encoded data removed]",
      "text/plain": [
       "<Figure size 1440x1080 with 1 Axes>"
      ]
     },
     "metadata": {
      "tags": []
     },
     "output_type": "display_data"
    }
   ],
   "source": [
    "fig = plt.figure(figsize=(20, 15))\n",
    "fig.patch.set_facecolor('xkcd:white')\n",
    "sns.barplot(y='importance',x='feature', data=a)\n",
    "plt.show()"
   ]
  },
  {
   "cell_type": "markdown",
   "metadata": {
    "id": "vzgQdiO2NUKV"
   },
   "source": [
    "## LightGBM"
   ]
  },
  {
   "cell_type": "code",
   "execution_count": 119,
   "metadata": {
    "id": "ZwdsOYM72OO7"
   },
   "outputs": [],
   "source": [
    "## 샘플링 이전\n",
    "import lightgbm as lgb\n",
    "def get_oof_lgbm(params, train_data, test_data, target_data, num_round, early_round, verbose_round, N_SPLITS=5, random_state=0):\n",
    "\n",
    "    FOLDs=KFold(n_splits=N_SPLITS, shuffle=True,random_state=0)\n",
    "\n",
    "    oof = np.zeros(len(train_data))\n",
    "    predictions = np.zeros(len(test_data))\n",
    "    #predictions=[]\n",
    "\n",
    "    features_lgb = list(train_data.columns)\n",
    "    feature_importance_df = pd.DataFrame()\n",
    "\n",
    "    for fold_, (trn_idx, val_idx) in enumerate(FOLDs.split(train_data)):\n",
    "        trn_data = lgb.Dataset(train_data.iloc[trn_idx], label=target_data.iloc[trn_idx])\n",
    "        val_data = lgb.Dataset(train_data.iloc[val_idx], label=target_data.iloc[val_idx])\n",
    "\n",
    "        print(\"LGB \" + str(fold_) + \"-\" * 50)\n",
    "        num_round = num_round\n",
    "        clf = lgb.train(params, trn_data, num_round, valid_sets = [trn_data, val_data], verbose_eval=verbose_round, \n",
    "                        early_stopping_rounds = early_round)\n",
    "        oof[val_idx] = clf.predict(train_data.iloc[val_idx], num_iteration=clf.best_iteration)\n",
    "\n",
    "        fold_importance_df = pd.DataFrame()\n",
    "        fold_importance_df[\"feature\"] = features_lgb\n",
    "        fold_importance_df[\"importance\"] = clf.feature_importance()\n",
    "        fold_importance_df[\"fold\"] = fold_ + 1\n",
    "        feature_importance_df = pd.concat([feature_importance_df, fold_importance_df], axis=0)\n",
    "        predictions += clf.predict(test_data, num_iteration=clf.best_iteration) / FOLDs.n_splits\n",
    "        #predictions.append(clf.predict(test_data, num_iteration=clf.best_iteration))\n",
    "    return oof, predictions, feature_importance_df,params"
   ]
  },
  {
   "cell_type": "code",
   "execution_count": 120,
   "metadata": {
    "colab": {
     "base_uri": "https://localhost:8080/"
    },
    "id": "x5fOhV5f2uWv",
    "outputId": "8f5ea131-bfd8-49a9-d258-02d3b2eb9aa0"
   },
   "outputs": [
    {
     "name": "stdout",
     "output_type": "stream",
     "text": [
      "LGB 0--------------------------------------------------\n",
      "Training until validation scores don't improve for 40 rounds.\n",
      "Early stopping, best iteration is:\n",
      "[69]\ttraining's auc: 0.99635\tvalid_1's auc: 0.930712\n",
      "LGB 1--------------------------------------------------\n",
      "Training until validation scores don't improve for 40 rounds.\n",
      "Early stopping, best iteration is:\n",
      "[22]\ttraining's auc: 0.985081\tvalid_1's auc: 0.915789\n",
      "LGB 2--------------------------------------------------\n",
      "Training until validation scores don't improve for 40 rounds.\n",
      "Early stopping, best iteration is:\n",
      "[74]\ttraining's auc: 0.996202\tvalid_1's auc: 0.96371\n",
      "LGB 3--------------------------------------------------\n",
      "Training until validation scores don't improve for 40 rounds.\n",
      "Early stopping, best iteration is:\n",
      "[32]\ttraining's auc: 0.988411\tvalid_1's auc: 0.983838\n",
      "LGB 4--------------------------------------------------\n",
      "Training until validation scores don't improve for 40 rounds.\n",
      "Early stopping, best iteration is:\n",
      "[73]\ttraining's auc: 1\tvalid_1's auc: 0.904314\n"
     ]
    }
   ],
   "source": [
    "lgb_params={\"objective\":\"binary\",\n",
    "           \"metric\":\"auc\",\n",
    "           \"alpha\":0.08,\n",
    "           \"gamma\":0.06,\n",
    "           \"eta\":0.04,\n",
    "           \"silent\":True}\n",
    "a,b,c,d=get_oof_lgbm(lgb_params,X_train,X_test,y_train,num_round=100000, early_round=40, verbose_round=600, N_SPLITS=5, random_state=0)\n",
    "\n",
    "predictions_lgbm1=b"
   ]
  },
  {
   "cell_type": "code",
   "execution_count": 121,
   "metadata": {
    "colab": {
     "base_uri": "https://localhost:8080/"
    },
    "id": "AnfO0wNTN_Wu",
    "outputId": "859f9fb6-204c-4f8b-aa37-4026e05d967a"
   },
   "outputs": [
    {
     "name": "stdout",
     "output_type": "stream",
     "text": [
      "정확도 : 0.92, 정밀도 : 0.94, 재현율 : 0.97\n",
      "f1-score : 0.96, auc : 0.73\n"
     ]
    }
   ],
   "source": [
    "## train 예측\n",
    "y_hat = np.where(a < 0.5, 0, 1)\n",
    "metrics(y_train,y_hat)"
   ]
  },
  {
   "cell_type": "code",
   "execution_count": 122,
   "metadata": {
    "colab": {
     "base_uri": "https://localhost:8080/"
    },
    "id": "dm508uEA4JiP",
    "outputId": "67cf6af3-aa62-42b7-90f9-648282ed0177"
   },
   "outputs": [
    {
     "name": "stdout",
     "output_type": "stream",
     "text": [
      "샘플링 이전\n",
      "정확도 : 0.94, 정밀도 : 0.95, 재현율 : 0.99\n",
      "f1-score : 0.97, auc : 0.78\n"
     ]
    }
   ],
   "source": [
    "\n",
    "\n",
    "## test 예측\n",
    "y_hat = np.where(b < 0.5, 0, 1)  \n",
    "print(\"샘플링 이전\")\n",
    "metrics(y_test,y_hat)"
   ]
  },
  {
   "cell_type": "code",
   "execution_count": 123,
   "metadata": {
    "id": "g86bPAE5Hghp"
   },
   "outputs": [],
   "source": [
    "lgb_FI=c.sort_values(by=[\"fold\", \"importance\"], ascending=[False, False]).groupby(\"fold\").head(10)"
   ]
  },
  {
   "cell_type": "code",
   "execution_count": 124,
   "metadata": {
    "colab": {
     "base_uri": "https://localhost:8080/",
     "height": 402
    },
    "id": "qC7PZAUQHghp",
    "outputId": "74dc90ac-3abe-41ab-a66d-dba3638c4160"
   },
   "outputs": [
    {
     "data": {
      "text/html": [
       "<div>\n",
       "<style scoped>\n",
       "    .dataframe tbody tr th:only-of-type {\n",
       "        vertical-align: middle;\n",
       "    }\n",
       "\n",
       "    .dataframe tbody tr th {\n",
       "        vertical-align: top;\n",
       "    }\n",
       "\n",
       "    .dataframe thead th {\n",
       "        text-align: right;\n",
       "    }\n",
       "</style>\n",
       "<table border=\"1\" class=\"dataframe\">\n",
       "  <thead>\n",
       "    <tr style=\"text-align: right;\">\n",
       "      <th></th>\n",
       "      <th>feature</th>\n",
       "      <th>importance</th>\n",
       "      <th>fold</th>\n",
       "    </tr>\n",
       "  </thead>\n",
       "  <tbody>\n",
       "    <tr>\n",
       "      <th>4</th>\n",
       "      <td>뉴스</td>\n",
       "      <td>176.8</td>\n",
       "      <td>3.000000</td>\n",
       "    </tr>\n",
       "    <tr>\n",
       "      <th>2</th>\n",
       "      <td>경쟁 영화수</td>\n",
       "      <td>135.4</td>\n",
       "      <td>3.000000</td>\n",
       "    </tr>\n",
       "    <tr>\n",
       "      <th>6</th>\n",
       "      <td>상영시간</td>\n",
       "      <td>128.6</td>\n",
       "      <td>3.000000</td>\n",
       "    </tr>\n",
       "    <tr>\n",
       "      <th>11</th>\n",
       "      <td>평점</td>\n",
       "      <td>104.0</td>\n",
       "      <td>3.000000</td>\n",
       "    </tr>\n",
       "    <tr>\n",
       "      <th>7</th>\n",
       "      <td>스크린수</td>\n",
       "      <td>103.4</td>\n",
       "      <td>3.000000</td>\n",
       "    </tr>\n",
       "    <tr>\n",
       "      <th>0</th>\n",
       "      <td>개봉월</td>\n",
       "      <td>42.8</td>\n",
       "      <td>3.000000</td>\n",
       "    </tr>\n",
       "    <tr>\n",
       "      <th>9</th>\n",
       "      <td>액션</td>\n",
       "      <td>20.8</td>\n",
       "      <td>3.000000</td>\n",
       "    </tr>\n",
       "    <tr>\n",
       "      <th>1</th>\n",
       "      <td>겨울</td>\n",
       "      <td>16.0</td>\n",
       "      <td>3.333333</td>\n",
       "    </tr>\n",
       "    <tr>\n",
       "      <th>10</th>\n",
       "      <td>요일</td>\n",
       "      <td>13.0</td>\n",
       "      <td>3.000000</td>\n",
       "    </tr>\n",
       "    <tr>\n",
       "      <th>5</th>\n",
       "      <td>등급</td>\n",
       "      <td>10.6</td>\n",
       "      <td>3.000000</td>\n",
       "    </tr>\n",
       "    <tr>\n",
       "      <th>3</th>\n",
       "      <td>국적</td>\n",
       "      <td>10.2</td>\n",
       "      <td>3.000000</td>\n",
       "    </tr>\n",
       "    <tr>\n",
       "      <th>8</th>\n",
       "      <td>애니메이션</td>\n",
       "      <td>1.0</td>\n",
       "      <td>2.000000</td>\n",
       "    </tr>\n",
       "  </tbody>\n",
       "</table>\n",
       "</div>"
      ],
      "text/plain": [
       "   feature  importance      fold\n",
       "4       뉴스       176.8  3.000000\n",
       "2   경쟁 영화수       135.4  3.000000\n",
       "6     상영시간       128.6  3.000000\n",
       "11      평점       104.0  3.000000\n",
       "7     스크린수       103.4  3.000000\n",
       "0      개봉월        42.8  3.000000\n",
       "9       액션        20.8  3.000000\n",
       "1       겨울        16.0  3.333333\n",
       "10      요일        13.0  3.000000\n",
       "5       등급        10.6  3.000000\n",
       "3       국적        10.2  3.000000\n",
       "8    애니메이션         1.0  2.000000"
      ]
     },
     "execution_count": 124,
     "metadata": {
      "tags": []
     },
     "output_type": "execute_result"
    }
   ],
   "source": [
    "\n",
    "a=lgb_FI.groupby(\"feature\",as_index=False).mean().sort_values(by=[\"importance\"],ascending=False)\n",
    "a"
   ]
  },
  {
   "cell_type": "code",
   "execution_count": 125,
   "metadata": {
    "colab": {
     "base_uri": "https://localhost:8080/",
     "height": 877
    },
    "id": "qv1gWhMqHghr",
    "outputId": "09da6e96-b120-4356-86ab-cf48d35232b7"
   },
   "outputs": [
    {
     "data": {
      "image/png": "[encoded data removed]",
      "text/plain": [
       "<Figure size 1440x1080 with 1 Axes>"
      ]
     },
     "metadata": {
      "tags": []
     },
     "output_type": "display_data"
    }
   ],
   "source": [
    "fig = plt.figure(figsize=(20, 15))\n",
    "fig.patch.set_facecolor('xkcd:white')\n",
    "sns.barplot(y='importance',x='feature', data=a)\n",
    "plt.show()"
   ]
  },
  {
   "cell_type": "code",
   "execution_count": 126,
   "metadata": {
    "id": "FBE06zEm9opX"
   },
   "outputs": [],
   "source": [
    "## 샘플링 이후\n",
    "import lightgbm as lgb\n",
    "def get_oof_lgbm(params,train,train_data, test_data, target_data, num_round, early_round, verbose_round, N_SPLITS=5, random_state=0):\n",
    "\n",
    "    FOLDs=KFold(n_splits=N_SPLITS, shuffle=True,random_state=0)\n",
    "\n",
    "    oof = np.zeros(len(train_data))\n",
    "    predictions = np.zeros(len(test_data))\n",
    "    #predictions=[]\n",
    "\n",
    "    features_lgb = list(train.columns)\n",
    "    feature_importance_df = pd.DataFrame()\n",
    "\n",
    "    for fold_, (trn_idx, val_idx) in enumerate(FOLDs.split(train_data)):\n",
    "        trn_data = lgb.Dataset(train_data[trn_idx], label=target_data[trn_idx])\n",
    "        val_data = lgb.Dataset(train_data[val_idx], label=target_data[val_idx])\n",
    "\n",
    "        print(\"LGB \" + str(fold_) + \"-\" * 50)\n",
    "        num_round = num_round\n",
    "        clf = lgb.train(params, trn_data, num_round, valid_sets = [trn_data, val_data], verbose_eval=verbose_round, \n",
    "                        early_stopping_rounds = early_round)\n",
    "        oof[val_idx] = clf.predict(train_data[val_idx], num_iteration=clf.best_iteration)\n",
    "\n",
    "        fold_importance_df = pd.DataFrame()\n",
    "        fold_importance_df[\"feature\"] = features_lgb\n",
    "        fold_importance_df[\"importance\"] = clf.feature_importance()\n",
    "        fold_importance_df[\"fold\"] = fold_ + 1\n",
    "        feature_importance_df = pd.concat([feature_importance_df, fold_importance_df], axis=0)\n",
    "        predictions += clf.predict(test_data, num_iteration=clf.best_iteration) / FOLDs.n_splits\n",
    "        #predictions.append(clf.predict(test_data, num_iteration=clf.best_iteration))\n",
    "    return oof, predictions, feature_importance_df,params"
   ]
  },
  {
   "cell_type": "code",
   "execution_count": 127,
   "metadata": {
    "colab": {
     "base_uri": "https://localhost:8080/"
    },
    "id": "zzTO3qvGAPFy",
    "outputId": "d31cb803-f79e-4a08-8953-fa72acc50def"
   },
   "outputs": [
    {
     "name": "stdout",
     "output_type": "stream",
     "text": [
      "LGB 0--------------------------------------------------\n",
      "Training until validation scores don't improve for 40 rounds.\n",
      "Early stopping, best iteration is:\n",
      "[82]\ttraining's auc: 0.999962\tvalid_1's auc: 0.990842\n",
      "LGB 1--------------------------------------------------\n",
      "Training until validation scores don't improve for 40 rounds.\n",
      "Early stopping, best iteration is:\n",
      "[108]\ttraining's auc: 1\tvalid_1's auc: 0.990958\n",
      "LGB 2--------------------------------------------------\n",
      "Training until validation scores don't improve for 40 rounds.\n",
      "Early stopping, best iteration is:\n",
      "[114]\ttraining's auc: 1\tvalid_1's auc: 0.998167\n",
      "LGB 3--------------------------------------------------\n",
      "Training until validation scores don't improve for 40 rounds.\n",
      "Early stopping, best iteration is:\n",
      "[104]\ttraining's auc: 1\tvalid_1's auc: 0.996579\n",
      "LGB 4--------------------------------------------------\n",
      "Training until validation scores don't improve for 40 rounds.\n",
      "Early stopping, best iteration is:\n",
      "[32]\ttraining's auc: 0.997787\tvalid_1's auc: 0.991348\n"
     ]
    }
   ],
   "source": [
    "lgb_params={\"objective\":\"binary\",\n",
    "           \"metric\":\"auc\",\n",
    "           \"alpha\":0.08,\n",
    "           \"gamma\":0.06,\n",
    "           \"eta\":0.04,\n",
    "           \"silent\":True}\n",
    "a,b,c,d=get_oof_lgbm(lgb_params,X_train,X_resampled,X_test,y_resampled,num_round=100000, early_round=40, verbose_round=600, N_SPLITS=5, random_state=0)\n",
    "\n",
    "predictions_lgbm2=b"
   ]
  },
  {
   "cell_type": "code",
   "execution_count": 128,
   "metadata": {
    "colab": {
     "base_uri": "https://localhost:8080/"
    },
    "id": "B31HFgK9OC9k",
    "outputId": "4c1e0daa-b380-404d-f2fc-2f5c2f038171"
   },
   "outputs": [
    {
     "name": "stdout",
     "output_type": "stream",
     "text": [
      "정확도 : 0.97, 정밀도 : 0.98, 재현율 : 0.96\n",
      "f1-score : 0.97, auc : 0.97\n"
     ]
    }
   ],
   "source": [
    "\n",
    "## train 예측\n",
    "y_hat = np.where(a < 0.5, 0, 1)\n",
    "metrics(y_resampled,y_hat)"
   ]
  },
  {
   "cell_type": "code",
   "execution_count": 129,
   "metadata": {
    "colab": {
     "base_uri": "https://localhost:8080/"
    },
    "id": "YlUjX_uYAcHn",
    "outputId": "d94c14c8-d182-4dec-b62b-5f03e9ba49ff"
   },
   "outputs": [
    {
     "name": "stdout",
     "output_type": "stream",
     "text": [
      "샘플링 이후\n",
      "정확도 : 0.94, 정밀도 : 0.96, 재현율 : 0.98\n",
      "f1-score : 0.97, auc : 0.81\n"
     ]
    }
   ],
   "source": [
    "## test 예측\n",
    "y_hat = np.where(b < 0.5, 0, 1)  \n",
    "print(\"샘플링 이후\")\n",
    "metrics(y_test,y_hat)"
   ]
  },
  {
   "cell_type": "code",
   "execution_count": 130,
   "metadata": {
    "id": "LmAGd6gvFYoL"
   },
   "outputs": [],
   "source": [
    "lgb_FI=c.sort_values(by=[\"fold\", \"importance\"], ascending=[False, False]).groupby(\"fold\").head(10)"
   ]
  },
  {
   "cell_type": "code",
   "execution_count": 131,
   "metadata": {
    "colab": {
     "base_uri": "https://localhost:8080/",
     "height": 432
    },
    "id": "x_s0wROWFYoM",
    "outputId": "28377392-1e8b-4062-96bc-4f32eee46d1c"
   },
   "outputs": [
    {
     "data": {
      "text/html": [
       "<div>\n",
       "<style scoped>\n",
       "    .dataframe tbody tr th:only-of-type {\n",
       "        vertical-align: middle;\n",
       "    }\n",
       "\n",
       "    .dataframe tbody tr th {\n",
       "        vertical-align: top;\n",
       "    }\n",
       "\n",
       "    .dataframe thead th {\n",
       "        text-align: right;\n",
       "    }\n",
       "</style>\n",
       "<table border=\"1\" class=\"dataframe\">\n",
       "  <thead>\n",
       "    <tr style=\"text-align: right;\">\n",
       "      <th></th>\n",
       "      <th>feature</th>\n",
       "      <th>importance</th>\n",
       "      <th>fold</th>\n",
       "    </tr>\n",
       "  </thead>\n",
       "  <tbody>\n",
       "    <tr>\n",
       "      <th>4</th>\n",
       "      <td>뉴스</td>\n",
       "      <td>430.6</td>\n",
       "      <td>3.00</td>\n",
       "    </tr>\n",
       "    <tr>\n",
       "      <th>7</th>\n",
       "      <td>상영시간</td>\n",
       "      <td>320.4</td>\n",
       "      <td>3.00</td>\n",
       "    </tr>\n",
       "    <tr>\n",
       "      <th>2</th>\n",
       "      <td>경쟁 영화수</td>\n",
       "      <td>264.2</td>\n",
       "      <td>3.00</td>\n",
       "    </tr>\n",
       "    <tr>\n",
       "      <th>12</th>\n",
       "      <td>평점</td>\n",
       "      <td>260.8</td>\n",
       "      <td>3.00</td>\n",
       "    </tr>\n",
       "    <tr>\n",
       "      <th>8</th>\n",
       "      <td>스크린수</td>\n",
       "      <td>250.6</td>\n",
       "      <td>3.00</td>\n",
       "    </tr>\n",
       "    <tr>\n",
       "      <th>9</th>\n",
       "      <td>액션</td>\n",
       "      <td>176.0</td>\n",
       "      <td>3.00</td>\n",
       "    </tr>\n",
       "    <tr>\n",
       "      <th>0</th>\n",
       "      <td>개봉월</td>\n",
       "      <td>150.8</td>\n",
       "      <td>3.00</td>\n",
       "    </tr>\n",
       "    <tr>\n",
       "      <th>11</th>\n",
       "      <td>요일</td>\n",
       "      <td>125.0</td>\n",
       "      <td>2.00</td>\n",
       "    </tr>\n",
       "    <tr>\n",
       "      <th>5</th>\n",
       "      <td>드라마</td>\n",
       "      <td>113.5</td>\n",
       "      <td>2.50</td>\n",
       "    </tr>\n",
       "    <tr>\n",
       "      <th>6</th>\n",
       "      <td>등급</td>\n",
       "      <td>107.0</td>\n",
       "      <td>3.50</td>\n",
       "    </tr>\n",
       "    <tr>\n",
       "      <th>3</th>\n",
       "      <td>국적</td>\n",
       "      <td>89.5</td>\n",
       "      <td>3.25</td>\n",
       "    </tr>\n",
       "    <tr>\n",
       "      <th>1</th>\n",
       "      <td>겨울</td>\n",
       "      <td>60.0</td>\n",
       "      <td>1.00</td>\n",
       "    </tr>\n",
       "    <tr>\n",
       "      <th>10</th>\n",
       "      <td>여름</td>\n",
       "      <td>48.0</td>\n",
       "      <td>5.00</td>\n",
       "    </tr>\n",
       "  </tbody>\n",
       "</table>\n",
       "</div>"
      ],
      "text/plain": [
       "   feature  importance  fold\n",
       "4       뉴스       430.6  3.00\n",
       "7     상영시간       320.4  3.00\n",
       "2   경쟁 영화수       264.2  3.00\n",
       "12      평점       260.8  3.00\n",
       "8     스크린수       250.6  3.00\n",
       "9       액션       176.0  3.00\n",
       "0      개봉월       150.8  3.00\n",
       "11      요일       125.0  2.00\n",
       "5      드라마       113.5  2.50\n",
       "6       등급       107.0  3.50\n",
       "3       국적        89.5  3.25\n",
       "1       겨울        60.0  1.00\n",
       "10      여름        48.0  5.00"
      ]
     },
     "execution_count": 131,
     "metadata": {
      "tags": []
     },
     "output_type": "execute_result"
    }
   ],
   "source": [
    "a=lgb_FI.groupby(\"feature\",as_index=False).mean().sort_values(by=[\"importance\"],ascending=False)\n",
    "a"
   ]
  },
  {
   "cell_type": "code",
   "execution_count": 132,
   "metadata": {
    "colab": {
     "base_uri": "https://localhost:8080/",
     "height": 877
    },
    "id": "V1LuvvuOFf3K",
    "outputId": "d4a5e4b9-f0d1-482e-cb33-a409bbbee37b"
   },
   "outputs": [
    {
     "data": {
      "image/png": "[encoded data removed]",
      "text/plain": [
       "<Figure size 1440x1080 with 1 Axes>"
      ]
     },
     "metadata": {
      "tags": []
     },
     "output_type": "display_data"
    }
   ],
   "source": [
    "fig = plt.figure(figsize=(20, 15))\n",
    "fig.patch.set_facecolor('xkcd:white')\n",
    "sns.barplot(y='importance',x='feature', data=a)\n",
    "plt.show()"
   ]
  },
  {
   "cell_type": "code",
   "execution_count": 133,
   "metadata": {
    "colab": {
     "base_uri": "https://localhost:8080/"
    },
    "id": "rz4JzsKbFke9",
    "outputId": "a82444bd-173b-4270-be89-b1534bac3a05"
   },
   "outputs": [
    {
     "name": "stdout",
     "output_type": "stream",
     "text": [
      "[[  8   6]\n",
      " [  1 111]]\n",
      "샘플링 이후\n",
      "[[  9   5]\n",
      " [  2 110]]\n"
     ]
    }
   ],
   "source": [
    "from sklearn.metrics import confusion_matrix\n",
    "\n",
    "cf1 = confusion_matrix(y_test, np.where(predictions_lgbm1 < 0.5, 0, 1))\n",
    "cf = confusion_matrix(y_test, np.where(predictions_lgbm2 < 0.5, 0, 1))\n",
    "print(cf1)\n",
    "print(\"샘플링 이후\")\n",
    "print(cf)"
   ]
  },
  {
   "cell_type": "code",
   "execution_count": null,
   "metadata": {
    "id": "IVHPHkvyIN5e"
   },
   "outputs": [],
   "source": []
  }
 ],
 "metadata": {
  "accelerator": "GPU",
  "colab": {
   "collapsed_sections": [],
   "machine_shape": "hm",
   "name": "빅통분_모델링.ipynb",
   "provenance": []
  },
  "kernelspec": {
   "display_name": "Python 3",
   "language": "python",
   "name": "python3"
  },
  "language_info": {
   "codemirror_mode": {
    "name": "ipython",
    "version": 3
   },
   "file_extension": ".py",
   "mimetype": "text/x-python",
   "name": "python",
   "nbconvert_exporter": "python",
   "pygments_lexer": "ipython3",
   "version": "3.7.6"
  }
 },
 "nbformat": 4,
 "nbformat_minor": 1
}
