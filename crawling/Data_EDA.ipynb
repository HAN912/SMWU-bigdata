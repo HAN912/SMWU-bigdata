{
 "cells": [
  {
   "cell_type": "code",
   "execution_count": 14,
   "metadata": {},
   "outputs": [
    {
     "data": {
      "text/html": [
       "<div>\n",
       "<style scoped>\n",
       "    .dataframe tbody tr th:only-of-type {\n",
       "        vertical-align: middle;\n",
       "    }\n",
       "\n",
       "    .dataframe tbody tr th {\n",
       "        vertical-align: top;\n",
       "    }\n",
       "\n",
       "    .dataframe thead th {\n",
       "        text-align: right;\n",
       "    }\n",
       "</style>\n",
       "<table border=\"1\" class=\"dataframe\">\n",
       "  <thead>\n",
       "    <tr style=\"text-align: right;\">\n",
       "      <th></th>\n",
       "      <th>Unnamed: 0</th>\n",
       "      <th>영화명</th>\n",
       "      <th>개봉일</th>\n",
       "      <th>누적관객수</th>\n",
       "      <th>국적</th>\n",
       "      <th>배급사</th>\n",
       "      <th>등급</th>\n",
       "      <th>평점</th>\n",
       "      <th>뉴스</th>\n",
       "      <th>경쟁 영화수</th>\n",
       "      <th>상영시간</th>\n",
       "      <th>장르</th>\n",
       "      <th>한국</th>\n",
       "      <th>new배급사</th>\n",
       "      <th>등급.1</th>\n",
       "      <th>전국스크린수</th>\n",
       "    </tr>\n",
       "  </thead>\n",
       "  <tbody>\n",
       "    <tr>\n",
       "      <th>0</th>\n",
       "      <td>0</td>\n",
       "      <td>극한직업</td>\n",
       "      <td>2019-01-23</td>\n",
       "      <td>16266338</td>\n",
       "      <td>한국</td>\n",
       "      <td>씨제이이앤엠(주)</td>\n",
       "      <td>15세이상관람가</td>\n",
       "      <td>9.2</td>\n",
       "      <td>358109</td>\n",
       "      <td>511</td>\n",
       "      <td>111</td>\n",
       "      <td>코미디</td>\n",
       "      <td>1</td>\n",
       "      <td>NaN</td>\n",
       "      <td>2</td>\n",
       "      <td>1978.0</td>\n",
       "    </tr>\n",
       "    <tr>\n",
       "      <th>1</th>\n",
       "      <td>1</td>\n",
       "      <td>어벤져스: 엔드게임</td>\n",
       "      <td>2019-04-24</td>\n",
       "      <td>13977602</td>\n",
       "      <td>미국</td>\n",
       "      <td>월트디즈니컴퍼니코리아 유한책임회사</td>\n",
       "      <td>12세이상관람가</td>\n",
       "      <td>9.5</td>\n",
       "      <td>521258</td>\n",
       "      <td>632</td>\n",
       "      <td>181</td>\n",
       "      <td>액션</td>\n",
       "      <td>0</td>\n",
       "      <td>NaN</td>\n",
       "      <td>1</td>\n",
       "      <td>2835.0</td>\n",
       "    </tr>\n",
       "    <tr>\n",
       "      <th>2</th>\n",
       "      <td>2</td>\n",
       "      <td>겨울왕국 2</td>\n",
       "      <td>2019-11-21</td>\n",
       "      <td>13747792</td>\n",
       "      <td>미국</td>\n",
       "      <td>월트디즈니컴퍼니코리아 유한책임회사</td>\n",
       "      <td>전체관람가</td>\n",
       "      <td>8.95</td>\n",
       "      <td>304370</td>\n",
       "      <td>951</td>\n",
       "      <td>103</td>\n",
       "      <td>애니메이션</td>\n",
       "      <td>0</td>\n",
       "      <td>NaN</td>\n",
       "      <td>0</td>\n",
       "      <td>2648.0</td>\n",
       "    </tr>\n",
       "    <tr>\n",
       "      <th>3</th>\n",
       "      <td>3</td>\n",
       "      <td>알라딘</td>\n",
       "      <td>2019-05-23</td>\n",
       "      <td>12555894</td>\n",
       "      <td>미국</td>\n",
       "      <td>월트디즈니컴퍼니코리아 유한책임회사</td>\n",
       "      <td>전체관람가</td>\n",
       "      <td>9.42</td>\n",
       "      <td>156573</td>\n",
       "      <td>698</td>\n",
       "      <td>128</td>\n",
       "      <td>모험</td>\n",
       "      <td>0</td>\n",
       "      <td>NaN</td>\n",
       "      <td>0</td>\n",
       "      <td>1311.0</td>\n",
       "    </tr>\n",
       "    <tr>\n",
       "      <th>4</th>\n",
       "      <td>4</td>\n",
       "      <td>신과함께-인과 연</td>\n",
       "      <td>2018-08-01</td>\n",
       "      <td>12276359</td>\n",
       "      <td>한국</td>\n",
       "      <td>롯데컬처웍스(주)롯데엔터테인먼트</td>\n",
       "      <td>12세이상관람가</td>\n",
       "      <td>8.63</td>\n",
       "      <td>393626</td>\n",
       "      <td>763</td>\n",
       "      <td>141</td>\n",
       "      <td>판타지</td>\n",
       "      <td>1</td>\n",
       "      <td>NaN</td>\n",
       "      <td>1</td>\n",
       "      <td>2235.0</td>\n",
       "    </tr>\n",
       "  </tbody>\n",
       "</table>\n",
       "</div>"
      ],
      "text/plain": [
       "   Unnamed: 0         영화명        개봉일     누적관객수  국적                 배급사  \\\n",
       "0           0        극한직업 2019-01-23  16266338  한국           씨제이이앤엠(주)   \n",
       "1           1  어벤져스: 엔드게임 2019-04-24  13977602  미국  월트디즈니컴퍼니코리아 유한책임회사   \n",
       "2           2      겨울왕국 2 2019-11-21  13747792  미국  월트디즈니컴퍼니코리아 유한책임회사   \n",
       "3           3         알라딘 2019-05-23  12555894  미국  월트디즈니컴퍼니코리아 유한책임회사   \n",
       "4           4   신과함께-인과 연 2018-08-01  12276359  한국   롯데컬처웍스(주)롯데엔터테인먼트   \n",
       "\n",
       "         등급    평점      뉴스  경쟁 영화수  상영시간     장르  한국  new배급사  등급.1  전국스크린수  \n",
       "0  15세이상관람가   9.2  358109     511   111    코미디   1     NaN     2  1978.0  \n",
       "1  12세이상관람가   9.5  521258     632   181     액션   0     NaN     1  2835.0  \n",
       "2     전체관람가  8.95  304370     951   103  애니메이션   0     NaN     0  2648.0  \n",
       "3     전체관람가  9.42  156573     698   128     모험   0     NaN     0  1311.0  \n",
       "4  12세이상관람가  8.63  393626     763   141    판타지   1     NaN     1  2235.0  "
      ]
     },
     "execution_count": 14,
     "metadata": {},
     "output_type": "execute_result"
    }
   ],
   "source": [
    "import pandas as pd\n",
    "import datetime\n",
    "final2=pd.read_excel('final4.xlsx')\n",
    "final2.head()"
   ]
  },
  {
   "cell_type": "markdown",
   "metadata": {},
   "source": [
    "## |개봉일 -> 개봉월, 개봉요리, 개봉요일 주말/평일 여부, 계절"
   ]
  },
  {
   "cell_type": "code",
   "execution_count": 15,
   "metadata": {},
   "outputs": [
    {
     "data": {
      "text/plain": [
       "pandas.core.series.Series"
      ]
     },
     "execution_count": 15,
     "metadata": {},
     "output_type": "execute_result"
    }
   ],
   "source": [
    "type(final2[\"개봉일\"])"
   ]
  },
  {
   "cell_type": "code",
   "execution_count": 16,
   "metadata": {},
   "outputs": [],
   "source": [
    "year=final2['개봉일'].dt.year\n",
    "day=final2['개봉일'].dt.day\n",
    "month=final2['개봉일'].dt.month"
   ]
  },
  {
   "cell_type": "code",
   "execution_count": 17,
   "metadata": {},
   "outputs": [],
   "source": [
    "final2['개봉월']=month"
   ]
  },
  {
   "cell_type": "code",
   "execution_count": 18,
   "metadata": {},
   "outputs": [],
   "source": [
    "wd=[]\n",
    "for i in range(len(final2)):\n",
    "    weekday=datetime.date(year[i],month[i],day[i]).weekday()\n",
    "    wd.append(weekday)"
   ]
  },
  {
   "cell_type": "code",
   "execution_count": 19,
   "metadata": {},
   "outputs": [],
   "source": [
    "final2['요일']=wd"
   ]
  },
  {
   "cell_type": "code",
   "execution_count": 20,
   "metadata": {},
   "outputs": [],
   "source": [
    "week_end=[]\n",
    "a=0\n",
    "for i in range(len(final2)):\n",
    "    if wd[i]==0 :\n",
    "        a=0\n",
    "        week_end.append(a)\n",
    "    elif wd[i]==1 :\n",
    "        a=0\n",
    "        week_end.append(a)\n",
    "    elif wd[i]==2 :\n",
    "        a=0\n",
    "        week_end.append(a)\n",
    "    elif wd[i]==3 :\n",
    "        a=0\n",
    "        week_end.append(a)\n",
    "    elif wd[i]==4 :\n",
    "        a=0\n",
    "        week_end.append(a)\n",
    "    else :\n",
    "        a=1\n",
    "        week_end.append(a)"
   ]
  },
  {
   "cell_type": "code",
   "execution_count": 21,
   "metadata": {},
   "outputs": [
    {
     "data": {
      "text/plain": [
       "626"
      ]
     },
     "execution_count": 21,
     "metadata": {},
     "output_type": "execute_result"
    }
   ],
   "source": [
    "# 평일 개봉 영화 626편\n",
    "# 월 1, 화 23, 수 342, 목 242, 금 18\n",
    "week_end.count(0)"
   ]
  },
  {
   "cell_type": "code",
   "execution_count": 22,
   "metadata": {},
   "outputs": [
    {
     "data": {
      "text/plain": [
       "4"
      ]
     },
     "execution_count": 22,
     "metadata": {},
     "output_type": "execute_result"
    }
   ],
   "source": [
    "# 주말 개봉 영화 4편\n",
    "# 토 4, 일 0\n",
    "week_end.count(1)"
   ]
  },
  {
   "cell_type": "code",
   "execution_count": 23,
   "metadata": {},
   "outputs": [],
   "source": [
    "final2['주말']=week_end"
   ]
  },
  {
   "cell_type": "code",
   "execution_count": 24,
   "metadata": {},
   "outputs": [],
   "source": [
    "#1 : 겨울, 2: 봄, 3: 여름, 4: 가을\n",
    "season=(final2['개봉일'].dt.month%12+3)//3"
   ]
  },
  {
   "cell_type": "code",
   "execution_count": 25,
   "metadata": {},
   "outputs": [],
   "source": [
    "final2['계절']=season"
   ]
  },
  {
   "cell_type": "markdown",
   "metadata": {},
   "source": [
    "## 장르 정리 및 재분류"
   ]
  },
  {
   "cell_type": "code",
   "execution_count": 26,
   "metadata": {},
   "outputs": [],
   "source": [
    "genre=final2['장르']"
   ]
  },
  {
   "cell_type": "code",
   "execution_count": 27,
   "metadata": {},
   "outputs": [
    {
     "data": {
      "text/plain": [
       "139"
      ]
     },
     "execution_count": 27,
     "metadata": {},
     "output_type": "execute_result"
    }
   ],
   "source": [
    "ani=[]\n",
    "g=0\n",
    "for i in range(len(final2)):\n",
    "    if genre[i]=='애니메이션':\n",
    "        g=1\n",
    "        ani.append(g)\n",
    "    else:\n",
    "        g=0\n",
    "        ani.append(g)\n",
    "ani.count(1)       "
   ]
  },
  {
   "cell_type": "code",
   "execution_count": 28,
   "metadata": {},
   "outputs": [
    {
     "data": {
      "text/plain": [
       "123"
      ]
     },
     "execution_count": 28,
     "metadata": {},
     "output_type": "execute_result"
    }
   ],
   "source": [
    "action=[]\n",
    "g=0\n",
    "for i in range(len(final2)):\n",
    "    if genre[i]=='액션':\n",
    "        g=1\n",
    "        action.append(g)\n",
    "    else:\n",
    "        g=0\n",
    "        action.append(g)\n",
    "action.count(1)"
   ]
  },
  {
   "cell_type": "code",
   "execution_count": 29,
   "metadata": {},
   "outputs": [
    {
     "data": {
      "text/plain": [
       "112"
      ]
     },
     "execution_count": 29,
     "metadata": {},
     "output_type": "execute_result"
    }
   ],
   "source": [
    "drama=[]\n",
    "g=0\n",
    "for i in range(len(final2)):\n",
    "    if genre[i]=='드라마':\n",
    "        g=1\n",
    "        drama.append(g)\n",
    "    else:\n",
    "        g=0\n",
    "        drama.append(g)\n",
    "drama.count(1)"
   ]
  },
  {
   "cell_type": "code",
   "execution_count": 30,
   "metadata": {},
   "outputs": [
    {
     "data": {
      "text/plain": [
       "43"
      ]
     },
     "execution_count": 30,
     "metadata": {},
     "output_type": "execute_result"
    }
   ],
   "source": [
    "comedy=[]\n",
    "g=0\n",
    "for i in range(len(final2)):\n",
    "    if genre[i]=='코미디':\n",
    "        g=1\n",
    "        comedy.append(g)\n",
    "    else:\n",
    "        g=0\n",
    "        comedy.append(g)\n",
    "comedy.count(1)"
   ]
  },
  {
   "cell_type": "code",
   "execution_count": 31,
   "metadata": {},
   "outputs": [
    {
     "data": {
      "text/plain": [
       "42"
      ]
     },
     "execution_count": 31,
     "metadata": {},
     "output_type": "execute_result"
    }
   ],
   "source": [
    "crime=[]\n",
    "g=0\n",
    "for i in range(len(final2)):\n",
    "    if genre[i]=='범죄':\n",
    "        g=1\n",
    "        crime.append(g)\n",
    "    else:\n",
    "        g=0\n",
    "        crime.append(g)\n",
    "crime.count(1)"
   ]
  },
  {
   "cell_type": "code",
   "execution_count": 32,
   "metadata": {},
   "outputs": [
    {
     "data": {
      "text/plain": [
       "27"
      ]
     },
     "execution_count": 32,
     "metadata": {},
     "output_type": "execute_result"
    }
   ],
   "source": [
    "roman=[]\n",
    "g=0\n",
    "for i in range(len(final2)):\n",
    "    if genre[i]=='멜로/로맨스':\n",
    "        g=1\n",
    "        roman.append(g)\n",
    "    else:\n",
    "        g=0\n",
    "        roman.append(g)\n",
    "roman.count(1)"
   ]
  },
  {
   "cell_type": "code",
   "execution_count": 33,
   "metadata": {},
   "outputs": [
    {
     "data": {
      "text/plain": [
       "27"
      ]
     },
     "execution_count": 33,
     "metadata": {},
     "output_type": "execute_result"
    }
   ],
   "source": [
    "thrill=[]\n",
    "g=0\n",
    "for i in range(len(final2)):\n",
    "    if genre[i]=='스릴러':\n",
    "        g=1\n",
    "        thrill.append(g)\n",
    "    else:\n",
    "        g=0\n",
    "        thrill.append(g)\n",
    "thrill.count(1)"
   ]
  },
  {
   "cell_type": "code",
   "execution_count": 34,
   "metadata": {},
   "outputs": [
    {
     "data": {
      "text/plain": [
       "26"
      ]
     },
     "execution_count": 34,
     "metadata": {},
     "output_type": "execute_result"
    }
   ],
   "source": [
    "horror=[]\n",
    "g=0\n",
    "for i in range(len(final2)):\n",
    "    if genre[i]=='공포':\n",
    "        g=1\n",
    "        horror.append(g)\n",
    "    else:\n",
    "        g=0\n",
    "        horror.append(g)\n",
    "horror.count(1)"
   ]
  },
  {
   "cell_type": "code",
   "execution_count": 35,
   "metadata": {},
   "outputs": [
    {
     "data": {
      "text/plain": [
       "20"
      ]
     },
     "execution_count": 35,
     "metadata": {},
     "output_type": "execute_result"
    }
   ],
   "source": [
    "fanta=[]\n",
    "g=0\n",
    "for i in range(len(final2)):\n",
    "    if genre[i]=='판타지':\n",
    "        g=1\n",
    "        fanta.append(g)\n",
    "    else:\n",
    "        g=0\n",
    "        fanta.append(g)\n",
    "fanta.count(1)"
   ]
  },
  {
   "cell_type": "code",
   "execution_count": 36,
   "metadata": {},
   "outputs": [
    {
     "data": {
      "text/plain": [
       "16"
      ]
     },
     "execution_count": 36,
     "metadata": {},
     "output_type": "execute_result"
    }
   ],
   "source": [
    "mistery=[]\n",
    "g=0\n",
    "for i in range(len(final2)):\n",
    "    if genre[i]=='미스터리':\n",
    "        g=1\n",
    "        mistery.append(g)\n",
    "    else:\n",
    "        g=0\n",
    "        mistery.append(g)\n",
    "mistery.count(1)"
   ]
  },
  {
   "cell_type": "code",
   "execution_count": 37,
   "metadata": {},
   "outputs": [
    {
     "data": {
      "text/plain": [
       "16"
      ]
     },
     "execution_count": 37,
     "metadata": {},
     "output_type": "execute_result"
    }
   ],
   "source": [
    "adven=[]\n",
    "g=0\n",
    "for i in range(len(final2)):\n",
    "    if genre[i]=='모험':\n",
    "        g=1\n",
    "        adven.append(g)\n",
    "    else:\n",
    "        g=0\n",
    "        adven.append(g)\n",
    "adven.count(1)"
   ]
  },
  {
   "cell_type": "code",
   "execution_count": 38,
   "metadata": {},
   "outputs": [
    {
     "data": {
      "text/plain": [
       "12"
      ]
     },
     "execution_count": 38,
     "metadata": {},
     "output_type": "execute_result"
    }
   ],
   "source": [
    "SF=[]\n",
    "g=0\n",
    "for i in range(len(final2)):\n",
    "    if genre[i]=='SF':\n",
    "        g=1\n",
    "        SF.append(g)\n",
    "    else:\n",
    "        g=0\n",
    "        SF.append(g)\n",
    "SF.count(1)"
   ]
  },
  {
   "cell_type": "code",
   "execution_count": 39,
   "metadata": {},
   "outputs": [
    {
     "data": {
      "text/plain": [
       "6"
      ]
     },
     "execution_count": 39,
     "metadata": {},
     "output_type": "execute_result"
    }
   ],
   "source": [
    "family=[]\n",
    "g=0\n",
    "for i in range(len(final2)):\n",
    "    if genre[i]=='가족':\n",
    "        g=1\n",
    "        family.append(g)\n",
    "    else:\n",
    "        g=0\n",
    "        family.append(g)\n",
    "family.count(1)"
   ]
  },
  {
   "cell_type": "code",
   "execution_count": 40,
   "metadata": {},
   "outputs": [
    {
     "data": {
      "text/plain": [
       "6"
      ]
     },
     "execution_count": 40,
     "metadata": {},
     "output_type": "execute_result"
    }
   ],
   "source": [
    "musical=[]\n",
    "g=0\n",
    "for i in range(len(final2)):\n",
    "    if genre[i]=='뮤지컬':\n",
    "        g=1\n",
    "        musical.append(g)\n",
    "    else:\n",
    "        g=0\n",
    "        musical.append(g)\n",
    "musical.count(1)"
   ]
  },
  {
   "cell_type": "code",
   "execution_count": 41,
   "metadata": {},
   "outputs": [
    {
     "data": {
      "text/plain": [
       "5"
      ]
     },
     "execution_count": 41,
     "metadata": {},
     "output_type": "execute_result"
    }
   ],
   "source": [
    "perform=[]\n",
    "g=0\n",
    "for i in range(len(final2)):\n",
    "    if genre[i]=='공연':\n",
    "        g=1\n",
    "        perform.append(g)\n",
    "    else:\n",
    "        g=0\n",
    "        perform.append(g)\n",
    "perform.count(1)"
   ]
  },
  {
   "cell_type": "code",
   "execution_count": 42,
   "metadata": {},
   "outputs": [
    {
     "data": {
      "text/plain": [
       "3"
      ]
     },
     "execution_count": 42,
     "metadata": {},
     "output_type": "execute_result"
    }
   ],
   "source": [
    "war=[]\n",
    "g=0\n",
    "for i in range(len(final2)):\n",
    "    if genre[i]=='전쟁':\n",
    "        g=1\n",
    "        war.append(g)\n",
    "    else:\n",
    "        g=0\n",
    "        war.append(g)\n",
    "war.count(1)"
   ]
  },
  {
   "cell_type": "code",
   "execution_count": 43,
   "metadata": {},
   "outputs": [
    {
     "data": {
      "text/plain": [
       "3"
      ]
     },
     "execution_count": 43,
     "metadata": {},
     "output_type": "execute_result"
    }
   ],
   "source": [
    "docu=[]\n",
    "g=0\n",
    "for i in range(len(final2)):\n",
    "    if genre[i]=='다큐멘터리':\n",
    "        g=1\n",
    "        docu.append(g)\n",
    "    else:\n",
    "        g=0\n",
    "        docu.append(g)\n",
    "docu.count(1)"
   ]
  },
  {
   "cell_type": "code",
   "execution_count": 44,
   "metadata": {},
   "outputs": [
    {
     "data": {
      "text/plain": [
       "3"
      ]
     },
     "execution_count": 44,
     "metadata": {},
     "output_type": "execute_result"
    }
   ],
   "source": [
    "history=[]\n",
    "g=0\n",
    "for i in range(len(final2)):\n",
    "    if genre[i]=='사극':\n",
    "        g=1\n",
    "        history.append(g)\n",
    "    else:\n",
    "        g=0\n",
    "        history.append(g)\n",
    "history.count(1)"
   ]
  },
  {
   "cell_type": "code",
   "execution_count": 45,
   "metadata": {},
   "outputs": [
    {
     "data": {
      "text/plain": [
       "1"
      ]
     },
     "execution_count": 45,
     "metadata": {},
     "output_type": "execute_result"
    }
   ],
   "source": [
    "noir=[]\n",
    "g=0\n",
    "for i in range(len(final2)):\n",
    "    if genre[i]=='느와르':\n",
    "        g=1\n",
    "        noir.append(g)\n",
    "    else:\n",
    "        g=0\n",
    "        noir.append(g)\n",
    "noir.count(1)"
   ]
  },
  {
   "cell_type": "code",
   "execution_count": 46,
   "metadata": {},
   "outputs": [],
   "source": [
    "final2['애니메이션']=ani\n",
    "final2['액션']=action\n",
    "final2['드라마']=drama\n",
    "final2['코미디']=comedy\n",
    "final2['범죄']=crime\n",
    "final2['멜로/로맨스']=roman\n",
    "final2['스릴러']=thrill\n",
    "final2['공포']=horror\n",
    "final2['판타지']=fanta\n",
    "final2['미스터리']=mistery\n",
    "final2['모험']=adven\n",
    "final2['SF']=SF\n",
    "final2['가족']=family\n",
    "final2['뮤지컬']=musical\n",
    "final2['공연']=perform\n",
    "final2['전쟁']=war\n",
    "final2['다큐멘터리']=docu\n",
    "final2['사극']=history\n",
    "final2['느와르']=noir"
   ]
  },
  {
   "cell_type": "code",
   "execution_count": 47,
   "metadata": {},
   "outputs": [
    {
     "data": {
      "text/html": [
       "<div>\n",
       "<style scoped>\n",
       "    .dataframe tbody tr th:only-of-type {\n",
       "        vertical-align: middle;\n",
       "    }\n",
       "\n",
       "    .dataframe tbody tr th {\n",
       "        vertical-align: top;\n",
       "    }\n",
       "\n",
       "    .dataframe thead th {\n",
       "        text-align: right;\n",
       "    }\n",
       "</style>\n",
       "<table border=\"1\" class=\"dataframe\">\n",
       "  <thead>\n",
       "    <tr style=\"text-align: right;\">\n",
       "      <th></th>\n",
       "      <th>Unnamed: 0</th>\n",
       "      <th>영화명</th>\n",
       "      <th>개봉일</th>\n",
       "      <th>누적관객수</th>\n",
       "      <th>국적</th>\n",
       "      <th>배급사</th>\n",
       "      <th>등급</th>\n",
       "      <th>평점</th>\n",
       "      <th>뉴스</th>\n",
       "      <th>경쟁 영화수</th>\n",
       "      <th>...</th>\n",
       "      <th>미스터리</th>\n",
       "      <th>모험</th>\n",
       "      <th>SF</th>\n",
       "      <th>가족</th>\n",
       "      <th>뮤지컬</th>\n",
       "      <th>공연</th>\n",
       "      <th>전쟁</th>\n",
       "      <th>다큐멘터리</th>\n",
       "      <th>사극</th>\n",
       "      <th>느와르</th>\n",
       "    </tr>\n",
       "  </thead>\n",
       "  <tbody>\n",
       "    <tr>\n",
       "      <th>0</th>\n",
       "      <td>0</td>\n",
       "      <td>극한직업</td>\n",
       "      <td>2019-01-23</td>\n",
       "      <td>16266338</td>\n",
       "      <td>한국</td>\n",
       "      <td>씨제이이앤엠(주)</td>\n",
       "      <td>15세이상관람가</td>\n",
       "      <td>9.2</td>\n",
       "      <td>358109</td>\n",
       "      <td>511</td>\n",
       "      <td>...</td>\n",
       "      <td>0</td>\n",
       "      <td>0</td>\n",
       "      <td>0</td>\n",
       "      <td>0</td>\n",
       "      <td>0</td>\n",
       "      <td>0</td>\n",
       "      <td>0</td>\n",
       "      <td>0</td>\n",
       "      <td>0</td>\n",
       "      <td>0</td>\n",
       "    </tr>\n",
       "    <tr>\n",
       "      <th>1</th>\n",
       "      <td>1</td>\n",
       "      <td>어벤져스: 엔드게임</td>\n",
       "      <td>2019-04-24</td>\n",
       "      <td>13977602</td>\n",
       "      <td>미국</td>\n",
       "      <td>월트디즈니컴퍼니코리아 유한책임회사</td>\n",
       "      <td>12세이상관람가</td>\n",
       "      <td>9.5</td>\n",
       "      <td>521258</td>\n",
       "      <td>632</td>\n",
       "      <td>...</td>\n",
       "      <td>0</td>\n",
       "      <td>0</td>\n",
       "      <td>0</td>\n",
       "      <td>0</td>\n",
       "      <td>0</td>\n",
       "      <td>0</td>\n",
       "      <td>0</td>\n",
       "      <td>0</td>\n",
       "      <td>0</td>\n",
       "      <td>0</td>\n",
       "    </tr>\n",
       "    <tr>\n",
       "      <th>2</th>\n",
       "      <td>2</td>\n",
       "      <td>겨울왕국 2</td>\n",
       "      <td>2019-11-21</td>\n",
       "      <td>13747792</td>\n",
       "      <td>미국</td>\n",
       "      <td>월트디즈니컴퍼니코리아 유한책임회사</td>\n",
       "      <td>전체관람가</td>\n",
       "      <td>8.95</td>\n",
       "      <td>304370</td>\n",
       "      <td>951</td>\n",
       "      <td>...</td>\n",
       "      <td>0</td>\n",
       "      <td>0</td>\n",
       "      <td>0</td>\n",
       "      <td>0</td>\n",
       "      <td>0</td>\n",
       "      <td>0</td>\n",
       "      <td>0</td>\n",
       "      <td>0</td>\n",
       "      <td>0</td>\n",
       "      <td>0</td>\n",
       "    </tr>\n",
       "    <tr>\n",
       "      <th>3</th>\n",
       "      <td>3</td>\n",
       "      <td>알라딘</td>\n",
       "      <td>2019-05-23</td>\n",
       "      <td>12555894</td>\n",
       "      <td>미국</td>\n",
       "      <td>월트디즈니컴퍼니코리아 유한책임회사</td>\n",
       "      <td>전체관람가</td>\n",
       "      <td>9.42</td>\n",
       "      <td>156573</td>\n",
       "      <td>698</td>\n",
       "      <td>...</td>\n",
       "      <td>0</td>\n",
       "      <td>1</td>\n",
       "      <td>0</td>\n",
       "      <td>0</td>\n",
       "      <td>0</td>\n",
       "      <td>0</td>\n",
       "      <td>0</td>\n",
       "      <td>0</td>\n",
       "      <td>0</td>\n",
       "      <td>0</td>\n",
       "    </tr>\n",
       "    <tr>\n",
       "      <th>4</th>\n",
       "      <td>4</td>\n",
       "      <td>신과함께-인과 연</td>\n",
       "      <td>2018-08-01</td>\n",
       "      <td>12276359</td>\n",
       "      <td>한국</td>\n",
       "      <td>롯데컬처웍스(주)롯데엔터테인먼트</td>\n",
       "      <td>12세이상관람가</td>\n",
       "      <td>8.63</td>\n",
       "      <td>393626</td>\n",
       "      <td>763</td>\n",
       "      <td>...</td>\n",
       "      <td>0</td>\n",
       "      <td>0</td>\n",
       "      <td>0</td>\n",
       "      <td>0</td>\n",
       "      <td>0</td>\n",
       "      <td>0</td>\n",
       "      <td>0</td>\n",
       "      <td>0</td>\n",
       "      <td>0</td>\n",
       "      <td>0</td>\n",
       "    </tr>\n",
       "  </tbody>\n",
       "</table>\n",
       "<p>5 rows × 39 columns</p>\n",
       "</div>"
      ],
      "text/plain": [
       "   Unnamed: 0         영화명        개봉일     누적관객수  국적                 배급사  \\\n",
       "0           0        극한직업 2019-01-23  16266338  한국           씨제이이앤엠(주)   \n",
       "1           1  어벤져스: 엔드게임 2019-04-24  13977602  미국  월트디즈니컴퍼니코리아 유한책임회사   \n",
       "2           2      겨울왕국 2 2019-11-21  13747792  미국  월트디즈니컴퍼니코리아 유한책임회사   \n",
       "3           3         알라딘 2019-05-23  12555894  미국  월트디즈니컴퍼니코리아 유한책임회사   \n",
       "4           4   신과함께-인과 연 2018-08-01  12276359  한국   롯데컬처웍스(주)롯데엔터테인먼트   \n",
       "\n",
       "         등급    평점      뉴스  경쟁 영화수  ...  미스터리 모험  SF  가족  뮤지컬  공연  전쟁  다큐멘터리  \\\n",
       "0  15세이상관람가   9.2  358109     511  ...     0  0   0   0    0   0   0      0   \n",
       "1  12세이상관람가   9.5  521258     632  ...     0  0   0   0    0   0   0      0   \n",
       "2     전체관람가  8.95  304370     951  ...     0  0   0   0    0   0   0      0   \n",
       "3     전체관람가  9.42  156573     698  ...     0  1   0   0    0   0   0      0   \n",
       "4  12세이상관람가  8.63  393626     763  ...     0  0   0   0    0   0   0      0   \n",
       "\n",
       "   사극  느와르  \n",
       "0   0    0  \n",
       "1   0    0  \n",
       "2   0    0  \n",
       "3   0    0  \n",
       "4   0    0  \n",
       "\n",
       "[5 rows x 39 columns]"
      ]
     },
     "execution_count": 47,
     "metadata": {},
     "output_type": "execute_result"
    }
   ],
   "source": [
    "final2.head()"
   ]
  },
  {
   "cell_type": "code",
   "execution_count": 48,
   "metadata": {},
   "outputs": [
    {
     "name": "stdout",
     "output_type": "stream",
     "text": [
      "<class 'pandas.core.frame.DataFrame'>\n",
      "RangeIndex: 630 entries, 0 to 629\n",
      "Data columns (total 39 columns):\n",
      " #   Column      Non-Null Count  Dtype         \n",
      "---  ------      --------------  -----         \n",
      " 0   Unnamed: 0  630 non-null    int64         \n",
      " 1   영화명         630 non-null    object        \n",
      " 2   개봉일         630 non-null    datetime64[ns]\n",
      " 3   누적관객수       630 non-null    int64         \n",
      " 4   국적          630 non-null    object        \n",
      " 5   배급사         630 non-null    object        \n",
      " 6   등급          630 non-null    object        \n",
      " 7   평점          630 non-null    object        \n",
      " 8   뉴스          630 non-null    int64         \n",
      " 9   경쟁 영화수      630 non-null    int64         \n",
      " 10  상영시간        630 non-null    int64         \n",
      " 11  장르          630 non-null    object        \n",
      " 12  한국          630 non-null    int64         \n",
      " 13  new배급사      0 non-null      float64       \n",
      " 14  등급.1        630 non-null    int64         \n",
      " 15  전국스크린수      625 non-null    float64       \n",
      " 16  개봉월         630 non-null    int64         \n",
      " 17  요일          630 non-null    int64         \n",
      " 18  주말          630 non-null    int64         \n",
      " 19  계절          630 non-null    int64         \n",
      " 20  애니메이션       630 non-null    int64         \n",
      " 21  액션          630 non-null    int64         \n",
      " 22  드라마         630 non-null    int64         \n",
      " 23  코미디         630 non-null    int64         \n",
      " 24  범죄          630 non-null    int64         \n",
      " 25  멜로/로맨스      630 non-null    int64         \n",
      " 26  스릴러         630 non-null    int64         \n",
      " 27  공포          630 non-null    int64         \n",
      " 28  판타지         630 non-null    int64         \n",
      " 29  미스터리        630 non-null    int64         \n",
      " 30  모험          630 non-null    int64         \n",
      " 31  SF          630 non-null    int64         \n",
      " 32  가족          630 non-null    int64         \n",
      " 33  뮤지컬         630 non-null    int64         \n",
      " 34  공연          630 non-null    int64         \n",
      " 35  전쟁          630 non-null    int64         \n",
      " 36  다큐멘터리       630 non-null    int64         \n",
      " 37  사극          630 non-null    int64         \n",
      " 38  느와르         630 non-null    int64         \n",
      "dtypes: datetime64[ns](1), float64(2), int64(30), object(6)\n",
      "memory usage: 192.1+ KB\n"
     ]
    }
   ],
   "source": [
    "final2.info()"
   ]
  },
  {
   "cell_type": "code",
   "execution_count": 49,
   "metadata": {},
   "outputs": [],
   "source": [
    "final2.to_excel(excel_writer='real_final.xlsx')"
   ]
  },
  {
   "cell_type": "code",
   "execution_count": null,
   "metadata": {},
   "outputs": [],
   "source": []
  }
 ],
 "metadata": {
  "kernelspec": {
   "display_name": "Python 3",
   "language": "python",
   "name": "python3"
  },
  "language_info": {
   "codemirror_mode": {
    "name": "ipython",
    "version": 3
   },
   "file_extension": ".py",
   "mimetype": "text/x-python",
   "name": "python",
   "nbconvert_exporter": "python",
   "pygments_lexer": "ipython3",
   "version": "3.7.6"
  }
 },
 "nbformat": 4,
 "nbformat_minor": 4
}
